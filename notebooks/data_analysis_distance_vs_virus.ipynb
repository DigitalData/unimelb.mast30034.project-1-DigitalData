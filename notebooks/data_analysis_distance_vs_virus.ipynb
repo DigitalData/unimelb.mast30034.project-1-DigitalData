{
 "cells": [
  {
   "cell_type": "code",
   "execution_count": 1,
   "metadata": {},
   "outputs": [],
   "source": [
    "# imports used throughout this notebook\n",
    "from pyspark.sql import DataFrame, Column, Window\n",
    "from pyspark.sql.types import IntegerType\n",
    "from pyspark.sql import functions as F\n",
    "import matplotlib.pyplot as plt\n",
    "import statsmodels.api as sm\n",
    "from statsmodels.formula.api import ols\n",
    "import pandas as pd\n",
    "import os\n",
    "import sys\n",
    "\n",
    "# add homemade helpers\n",
    "sys.path.insert(1, '../scripts')\n",
    "import helpers.join_helpers as jh\n",
    "import helpers.plot_helpers as ph\n",
    "\n",
    "DEBUGGING = False"
   ]
  },
  {
   "cell_type": "code",
   "execution_count": 2,
   "metadata": {},
   "outputs": [
    {
     "name": "stdout",
     "output_type": "stream",
     "text": [
      "22/08/15 19:29:01 WARN Utils: Your hostname, Polaris resolves to a loopback address: 127.0.1.1; using 172.22.165.153 instead (on interface eth0)\n",
      "22/08/15 19:29:01 WARN Utils: Set SPARK_LOCAL_IP if you need to bind to another address\n"
     ]
    },
    {
     "name": "stderr",
     "output_type": "stream",
     "text": [
      "Setting default log level to \"WARN\".\n",
      "To adjust logging level use sc.setLogLevel(newLevel). For SparkR, use setLogLevel(newLevel).\n"
     ]
    },
    {
     "name": "stdout",
     "output_type": "stream",
     "text": [
      "22/08/15 19:29:02 WARN NativeCodeLoader: Unable to load native-hadoop library for your platform... using builtin-java classes where applicable\n",
      "22/08/15 19:29:03 WARN Utils: Service 'SparkUI' could not bind on port 4040. Attempting port 4041.\n"
     ]
    }
   ],
   "source": [
    "from pyspark.sql import SparkSession\n",
    "\n",
    "# Create a spark session (which will run spark jobs)\n",
    "spark = (\n",
    "    SparkSession.builder.appName('MAST30034 XT Project 1')\n",
    "    .config(\"spark.sql.session.timeZone\", \"Etc/UTC\")\n",
    "    .config('spark.sql.repl.eagerEval.enabled', True) \n",
    "    .config('spark.sql.parquet.cacheMetadata', 'true')\n",
    "    .config(\"spark.executor.memory\", \"2g\")\n",
    "    .config(\"spark.driver.memory\", \"4g\")\n",
    "    .getOrCreate()\n",
    ")"
   ]
  },
  {
   "cell_type": "code",
   "execution_count": 3,
   "metadata": {},
   "outputs": [
    {
     "name": "stderr",
     "output_type": "stream",
     "text": [
      "                                                                                \r"
     ]
    },
    {
     "data": {
      "text/html": [
       "<table border='1'>\n",
       "<tr><th>week_year</th><th>week_month</th><th>week_ending</th><th>week_index</th><th>timeline</th><th>pu_borough</th><th>population</th><th>num_trips</th><th>num_pc_trips</th><th>num_p100k_trips</th><th>avg_passengers</th><th>avg_trip_distance</th></tr>\n",
       "<tr><td>2020</td><td>4</td><td>2020-04-25</td><td>121</td><td>keep for graphing</td><td>Queens</td><td>2395791.0</td><td>1612</td><td>6.728466715168394E-4</td><td>67.28466715168393</td><td>1.1457816377171215</td><td>6.7971650124069445</td></tr>\n",
       "<tr><td>2020</td><td>4</td><td>2020-04-04</td><td>118</td><td>keep for graphing</td><td>Queens</td><td>2395791.0</td><td>2342</td><td>9.775477076255817E-4</td><td>97.75477076255817</td><td>1.2314261315115287</td><td>7.5416652433817255</td></tr>\n",
       "<tr><td>2020</td><td>7</td><td>2020-07-25</td><td>134</td><td>post</td><td>Brooklyn</td><td>2727393.0</td><td>1930</td><td>7.076354599428832E-4</td><td>70.76354599428832</td><td>1.2279792746113989</td><td>2.8218341968911953</td></tr>\n",
       "<tr><td>2020</td><td>6</td><td>2020-06-13</td><td>128</td><td>post</td><td>Brooklyn</td><td>2727393.0</td><td>1313</td><td>4.814121030595884E-4</td><td>48.14121030595884</td><td>1.300837776085301</td><td>3.505689261233818</td></tr>\n",
       "<tr><td>2020</td><td>4</td><td>2020-04-04</td><td>118</td><td>keep for graphing</td><td>Manhattan</td><td>1687834.0</td><td>51640</td><td>0.030595425853490333</td><td>3059.5425853490333</td><td>1.2797637490317584</td><td>2.3961254841208284</td></tr>\n",
       "</table>\n"
      ],
      "text/plain": [
       "+---------+----------+-----------+----------+-----------------+----------+----------+---------+--------------------+------------------+------------------+------------------+\n",
       "|week_year|week_month|week_ending|week_index|         timeline|pu_borough|population|num_trips|        num_pc_trips|   num_p100k_trips|    avg_passengers| avg_trip_distance|\n",
       "+---------+----------+-----------+----------+-----------------+----------+----------+---------+--------------------+------------------+------------------+------------------+\n",
       "|     2020|         4| 2020-04-25|       121|keep for graphing|    Queens| 2395791.0|     1612|6.728466715168394E-4| 67.28466715168393|1.1457816377171215|6.7971650124069445|\n",
       "|     2020|         4| 2020-04-04|       118|keep for graphing|    Queens| 2395791.0|     2342|9.775477076255817E-4| 97.75477076255817|1.2314261315115287|7.5416652433817255|\n",
       "|     2020|         7| 2020-07-25|       134|             post|  Brooklyn| 2727393.0|     1930|7.076354599428832E-4| 70.76354599428832|1.2279792746113989|2.8218341968911953|\n",
       "|     2020|         6| 2020-06-13|       128|             post|  Brooklyn| 2727393.0|     1313|4.814121030595884E-4| 48.14121030595884| 1.300837776085301| 3.505689261233818|\n",
       "|     2020|         4| 2020-04-04|       118|keep for graphing| Manhattan| 1687834.0|    51640|0.030595425853490333|3059.5425853490333|1.2797637490317584|2.3961254841208284|\n",
       "+---------+----------+-----------+----------+-----------------+----------+----------+---------+--------------------+------------------+------------------+------------------+"
      ]
     },
     "execution_count": 3,
     "metadata": {},
     "output_type": "execute_result"
    }
   ],
   "source": [
    "# read in the aggregated yellow tlc data\n",
    "tlc_pu_df = spark.read.parquet('../data/curated/tlc/aggregated/yellow/by_pu')\n",
    "tlc_pu_df.limit(5)"
   ]
  },
  {
   "cell_type": "code",
   "execution_count": 4,
   "metadata": {},
   "outputs": [
    {
     "data": {
      "text/html": [
       "<table border='1'>\n",
       "<tr><th>week_year</th><th>week_month</th><th>week_ending</th><th>week_index</th><th>timeline</th><th>borough</th><th>population</th><th>tot_cases</th><th>tot_pc_cases</th><th>tot_p100k_cases</th></tr>\n",
       "<tr><td>2020</td><td>4</td><td>2020-04-18</td><td>120</td><td>keep for graphing</td><td>Staten Island</td><td>495522.0</td><td>1688.0</td><td>0.003406508691844156</td><td>340.6508691844156</td></tr>\n",
       "<tr><td>2021</td><td>3</td><td>2021-03-20</td><td>168</td><td>post</td><td>Staten Island</td><td>493494.0</td><td>1514.0</td><td>0.003067919772074...</td><td>306.791977207423</td></tr>\n",
       "<tr><td>2020</td><td>5</td><td>2020-05-23</td><td>125</td><td>keep for graphing</td><td>Staten Island</td><td>495522.0</td><td>293.0</td><td>5.912956437857451E-4</td><td>59.129564378574514</td></tr>\n",
       "<tr><td>2020</td><td>12</td><td>2020-12-19</td><td>155</td><td>post</td><td>Staten Island</td><td>495522.0</td><td>1954.0</td><td>0.003943316341151352</td><td>394.33163411513516</td></tr>\n",
       "<tr><td>2021</td><td>2</td><td>2021-02-20</td><td>164</td><td>post</td><td>Staten Island</td><td>493494.0</td><td>1244.0</td><td>0.002520800658164...</td><td>252.08006581640305</td></tr>\n",
       "</table>\n"
      ],
      "text/plain": [
       "+---------+----------+-----------+----------+-----------------+-------------+----------+---------+--------------------+------------------+\n",
       "|week_year|week_month|week_ending|week_index|         timeline|      borough|population|tot_cases|        tot_pc_cases|   tot_p100k_cases|\n",
       "+---------+----------+-----------+----------+-----------------+-------------+----------+---------+--------------------+------------------+\n",
       "|     2020|         4| 2020-04-18|       120|keep for graphing|Staten Island|  495522.0|   1688.0|0.003406508691844156| 340.6508691844156|\n",
       "|     2021|         3| 2021-03-20|       168|             post|Staten Island|  493494.0|   1514.0|0.003067919772074...|  306.791977207423|\n",
       "|     2020|         5| 2020-05-23|       125|keep for graphing|Staten Island|  495522.0|    293.0|5.912956437857451E-4|59.129564378574514|\n",
       "|     2020|        12| 2020-12-19|       155|             post|Staten Island|  495522.0|   1954.0|0.003943316341151352|394.33163411513516|\n",
       "|     2021|         2| 2021-02-20|       164|             post|Staten Island|  493494.0|   1244.0|0.002520800658164...|252.08006581640305|\n",
       "+---------+----------+-----------+----------+-----------------+-------------+----------+---------+--------------------+------------------+"
      ]
     },
     "execution_count": 4,
     "metadata": {},
     "output_type": "execute_result"
    }
   ],
   "source": [
    "# read in the aggregated covid data\n",
    "covid_df = spark.read.parquet('../data/curated/virals/covid/aggregated/cases-by-week')\n",
    "covid_df.limit(5)"
   ]
  },
  {
   "cell_type": "code",
   "execution_count": 5,
   "metadata": {},
   "outputs": [
    {
     "data": {
      "text/html": [
       "<table border='1'>\n",
       "<tr><th>week_year</th><th>week_month</th><th>week_ending</th><th>week_index</th><th>timeline</th><th>borough</th><th>population</th><th>tot_cases</th><th>tot_pc_cases</th><th>tot_p100k_cases</th></tr>\n",
       "<tr><td>2020</td><td>3</td><td>2020-03-21</td><td>116</td><td>keep for graphing</td><td>Staten Island</td><td>495522.0</td><td>30.0</td><td>6.054221608727766E-5</td><td>6.054221608727766</td></tr>\n",
       "<tr><td>2019</td><td>5</td><td>2019-05-11</td><td>71</td><td>pre</td><td>Bronx</td><td>1418207.0</td><td>18.0</td><td>1.269208232648689...</td><td>1.2692082326486895</td></tr>\n",
       "<tr><td>2019</td><td>12</td><td>2019-12-14</td><td>102</td><td>keep for graphing</td><td>Manhattan</td><td>1628706.0</td><td>259.0</td><td>1.590219474846903E-4</td><td>15.90219474846903</td></tr>\n",
       "<tr><td>2021</td><td>12</td><td>2021-12-18</td><td>207</td><td>neither</td><td>Staten Island</td><td>493494.0</td><td>207.0</td><td>4.194579873311529...</td><td>41.945798733115296</td></tr>\n",
       "<tr><td>2020</td><td>10</td><td>2020-10-31</td><td>148</td><td>post</td><td>Bronx</td><td>1466438.0</td><td>2.0</td><td>1.363849000094105...</td><td>0.13638490000941056</td></tr>\n",
       "</table>\n"
      ],
      "text/plain": [
       "+---------+----------+-----------+----------+-----------------+-------------+----------+---------+--------------------+-------------------+\n",
       "|week_year|week_month|week_ending|week_index|         timeline|      borough|population|tot_cases|        tot_pc_cases|    tot_p100k_cases|\n",
       "+---------+----------+-----------+----------+-----------------+-------------+----------+---------+--------------------+-------------------+\n",
       "|     2020|         3| 2020-03-21|       116|keep for graphing|Staten Island|  495522.0|     30.0|6.054221608727766E-5|  6.054221608727766|\n",
       "|     2019|         5| 2019-05-11|        71|              pre|        Bronx| 1418207.0|     18.0|1.269208232648689...| 1.2692082326486895|\n",
       "|     2019|        12| 2019-12-14|       102|keep for graphing|    Manhattan| 1628706.0|    259.0|1.590219474846903E-4|  15.90219474846903|\n",
       "|     2021|        12| 2021-12-18|       207|          neither|Staten Island|  493494.0|    207.0|4.194579873311529...| 41.945798733115296|\n",
       "|     2020|        10| 2020-10-31|       148|             post|        Bronx| 1466438.0|      2.0|1.363849000094105...|0.13638490000941056|\n",
       "+---------+----------+-----------+----------+-----------------+-------------+----------+---------+--------------------+-------------------+"
      ]
     },
     "execution_count": 5,
     "metadata": {},
     "output_type": "execute_result"
    }
   ],
   "source": [
    "# read in the aggregated covid data\n",
    "flu_df = spark.read.parquet('../data/curated/virals/flu/aggregated/cases-by-week')\n",
    "flu_df.limit(5)"
   ]
  },
  {
   "cell_type": "code",
   "execution_count": 6,
   "metadata": {},
   "outputs": [],
   "source": [
    "# join the datasets by week_index\n",
    "joined_pu_df = jh.join_by_week_by_borough(tlc_pu_df, covid_df, 'covid')\n",
    "joined_pu_df = jh.join_by_week_by_borough(joined_pu_df, flu_df, 'flu')"
   ]
  },
  {
   "cell_type": "code",
   "execution_count": 7,
   "metadata": {},
   "outputs": [
    {
     "name": "stdout",
     "output_type": "stream",
     "text": [
      "22/08/15 19:29:10 WARN package: Truncated the string representation of a plan since it was too large. This behavior can be adjusted by setting 'spark.sql.debug.maxToStringFields'.\n"
     ]
    },
    {
     "data": {
      "text/html": [
       "<table border='1'>\n",
       "<tr><th>week_year</th><th>week_month</th><th>week_ending</th><th>week_index</th><th>timeline</th><th>pu_borough</th><th>population</th><th>num_trips</th><th>num_pc_trips</th><th>num_p100k_trips</th><th>avg_passengers</th><th>avg_trip_distance</th><th>covid_week_year</th><th>covid_week_month</th><th>covid_week_ending</th><th>covid_week_index</th><th>covid_timeline</th><th>covid_borough</th><th>covid_population</th><th>covid_tot_cases</th><th>covid_tot_pc_cases</th><th>covid_tot_p100k_cases</th><th>flu_week_year</th><th>flu_week_month</th><th>flu_week_ending</th><th>flu_week_index</th><th>flu_timeline</th><th>flu_borough</th><th>flu_population</th><th>flu_tot_cases</th><th>flu_tot_pc_cases</th><th>flu_tot_p100k_cases</th></tr>\n",
       "<tr><td>2020</td><td>4</td><td>2020-04-25</td><td>121</td><td>keep for graphing</td><td>Queens</td><td>2395791.0</td><td>1612</td><td>6.728466715168394E-4</td><td>67.28466715168393</td><td>1.1457816377171215</td><td>6.7971650124069445</td><td>2020</td><td>4</td><td>2020-04-18</td><td>120</td><td>keep for graphing</td><td>Queens</td><td>2395791.0</td><td>7313.0</td><td>0.003052436543922237</td><td>305.2436543922237</td><td>null</td><td>null</td><td>null</td><td>null</td><td>null</td><td>null</td><td>null</td><td>null</td><td>null</td><td>null</td></tr>\n",
       "<tr><td>2020</td><td>4</td><td>2020-04-04</td><td>118</td><td>keep for graphing</td><td>Queens</td><td>2395791.0</td><td>2342</td><td>9.775477076255817E-4</td><td>97.75477076255817</td><td>1.2314261315115287</td><td>7.5416652433817255</td><td>2020</td><td>3</td><td>2020-03-28</td><td>117</td><td>keep for graphing</td><td>Queens</td><td>2395791.0</td><td>9269.0</td><td>0.003868868361221826</td><td>386.8868361221826</td><td>2020</td><td>3</td><td>2020-03-28</td><td>117</td><td>keep for graphing</td><td>Queens</td><td>2395791.0</td><td>33.0</td><td>1.377415642683355...</td><td>1.377415642683356</td></tr>\n",
       "<tr><td>2020</td><td>7</td><td>2020-07-25</td><td>134</td><td>post</td><td>Brooklyn</td><td>2727393.0</td><td>1930</td><td>7.076354599428832E-4</td><td>70.76354599428832</td><td>1.2279792746113989</td><td>2.8218341968911953</td><td>2020</td><td>7</td><td>2020-07-18</td><td>133</td><td>post</td><td>Brooklyn</td><td>2727393.0</td><td>693.0</td><td>2.540887946841544...</td><td>25.408879468415442</td><td>null</td><td>null</td><td>null</td><td>null</td><td>null</td><td>null</td><td>null</td><td>null</td><td>null</td><td>null</td></tr>\n",
       "<tr><td>2020</td><td>6</td><td>2020-06-13</td><td>128</td><td>post</td><td>Brooklyn</td><td>2727393.0</td><td>1313</td><td>4.814121030595884E-4</td><td>48.14121030595884</td><td>1.300837776085301</td><td>3.505689261233818</td><td>2020</td><td>6</td><td>2020-06-06</td><td>127</td><td>post</td><td>Brooklyn</td><td>2727393.0</td><td>959.0</td><td>3.516178269871632E-4</td><td>35.16178269871632</td><td>null</td><td>null</td><td>null</td><td>null</td><td>null</td><td>null</td><td>null</td><td>null</td><td>null</td><td>null</td></tr>\n",
       "<tr><td>2020</td><td>4</td><td>2020-04-04</td><td>118</td><td>keep for graphing</td><td>Manhattan</td><td>1687834.0</td><td>51640</td><td>0.030595425853490333</td><td>3059.5425853490333</td><td>1.2797637490317584</td><td>2.3961254841208284</td><td>2020</td><td>3</td><td>2020-03-28</td><td>117</td><td>keep for graphing</td><td>Manhattan</td><td>1687834.0</td><td>3722.0</td><td>0.002205193164730...</td><td>220.5193164730655</td><td>2020</td><td>3</td><td>2020-03-28</td><td>117</td><td>keep for graphing</td><td>Manhattan</td><td>1687834.0</td><td>14.0</td><td>8.29465456911047E-6</td><td>0.8294654569110469</td></tr>\n",
       "</table>\n"
      ],
      "text/plain": [
       "+---------+----------+-----------+----------+-----------------+----------+----------+---------+--------------------+------------------+------------------+------------------+---------------+----------------+-----------------+----------------+-----------------+-------------+----------------+---------------+--------------------+---------------------+-------------+--------------+---------------+--------------+-----------------+-----------+--------------+-------------+--------------------+-------------------+\n",
       "|week_year|week_month|week_ending|week_index|         timeline|pu_borough|population|num_trips|        num_pc_trips|   num_p100k_trips|    avg_passengers| avg_trip_distance|covid_week_year|covid_week_month|covid_week_ending|covid_week_index|   covid_timeline|covid_borough|covid_population|covid_tot_cases|  covid_tot_pc_cases|covid_tot_p100k_cases|flu_week_year|flu_week_month|flu_week_ending|flu_week_index|     flu_timeline|flu_borough|flu_population|flu_tot_cases|    flu_tot_pc_cases|flu_tot_p100k_cases|\n",
       "+---------+----------+-----------+----------+-----------------+----------+----------+---------+--------------------+------------------+------------------+------------------+---------------+----------------+-----------------+----------------+-----------------+-------------+----------------+---------------+--------------------+---------------------+-------------+--------------+---------------+--------------+-----------------+-----------+--------------+-------------+--------------------+-------------------+\n",
       "|     2020|         4| 2020-04-25|       121|keep for graphing|    Queens| 2395791.0|     1612|6.728466715168394E-4| 67.28466715168393|1.1457816377171215|6.7971650124069445|           2020|               4|       2020-04-18|             120|keep for graphing|       Queens|       2395791.0|         7313.0|0.003052436543922237|    305.2436543922237|         null|          null|           null|          null|             null|       null|          null|         null|                null|               null|\n",
       "|     2020|         4| 2020-04-04|       118|keep for graphing|    Queens| 2395791.0|     2342|9.775477076255817E-4| 97.75477076255817|1.2314261315115287|7.5416652433817255|           2020|               3|       2020-03-28|             117|keep for graphing|       Queens|       2395791.0|         9269.0|0.003868868361221826|    386.8868361221826|         2020|             3|     2020-03-28|           117|keep for graphing|     Queens|     2395791.0|         33.0|1.377415642683355...|  1.377415642683356|\n",
       "|     2020|         7| 2020-07-25|       134|             post|  Brooklyn| 2727393.0|     1930|7.076354599428832E-4| 70.76354599428832|1.2279792746113989|2.8218341968911953|           2020|               7|       2020-07-18|             133|             post|     Brooklyn|       2727393.0|          693.0|2.540887946841544...|   25.408879468415442|         null|          null|           null|          null|             null|       null|          null|         null|                null|               null|\n",
       "|     2020|         6| 2020-06-13|       128|             post|  Brooklyn| 2727393.0|     1313|4.814121030595884E-4| 48.14121030595884| 1.300837776085301| 3.505689261233818|           2020|               6|       2020-06-06|             127|             post|     Brooklyn|       2727393.0|          959.0|3.516178269871632E-4|    35.16178269871632|         null|          null|           null|          null|             null|       null|          null|         null|                null|               null|\n",
       "|     2020|         4| 2020-04-04|       118|keep for graphing| Manhattan| 1687834.0|    51640|0.030595425853490333|3059.5425853490333|1.2797637490317584|2.3961254841208284|           2020|               3|       2020-03-28|             117|keep for graphing|    Manhattan|       1687834.0|         3722.0|0.002205193164730...|    220.5193164730655|         2020|             3|     2020-03-28|           117|keep for graphing|  Manhattan|     1687834.0|         14.0| 8.29465456911047E-6| 0.8294654569110469|\n",
       "+---------+----------+-----------+----------+-----------------+----------+----------+---------+--------------------+------------------+------------------+------------------+---------------+----------------+-----------------+----------------+-----------------+-------------+----------------+---------------+--------------------+---------------------+-------------+--------------+---------------+--------------+-----------------+-----------+--------------+-------------+--------------------+-------------------+"
      ]
     },
     "execution_count": 7,
     "metadata": {},
     "output_type": "execute_result"
    }
   ],
   "source": [
    "# show it\n",
    "joined_pu_df.limit(5)"
   ]
  },
  {
   "cell_type": "code",
   "execution_count": 8,
   "metadata": {},
   "outputs": [],
   "source": [
    "# filter for only timeline 3\n",
    "joined_pu_df = joined_pu_df.where(F.col('timeline') == 'post')"
   ]
  },
  {
   "cell_type": "code",
   "execution_count": 9,
   "metadata": {},
   "outputs": [
    {
     "data": {
      "text/html": [
       "<table border='1'>\n",
       "<tr><th>week_year</th><th>week_month</th><th>week_ending</th><th>week_index</th><th>timeline</th><th>pu_borough</th><th>population</th><th>num_trips</th><th>num_pc_trips</th><th>num_p100k_trips</th><th>avg_passengers</th><th>avg_trip_distance</th><th>covid_week_year</th><th>covid_week_month</th><th>covid_week_ending</th><th>covid_week_index</th><th>covid_timeline</th><th>covid_borough</th><th>covid_population</th><th>covid_tot_cases</th><th>covid_tot_pc_cases</th><th>covid_tot_p100k_cases</th><th>flu_week_year</th><th>flu_week_month</th><th>flu_week_ending</th><th>flu_week_index</th><th>flu_timeline</th><th>flu_borough</th><th>flu_population</th><th>flu_tot_cases</th><th>flu_tot_pc_cases</th><th>flu_tot_p100k_cases</th></tr>\n",
       "<tr><td>2020</td><td>7</td><td>2020-07-25</td><td>134</td><td>post</td><td>Brooklyn</td><td>2727393.0</td><td>1930</td><td>7.076354599428832E-4</td><td>70.76354599428832</td><td>1.2279792746113989</td><td>2.8218341968911953</td><td>2020</td><td>7</td><td>2020-07-18</td><td>133</td><td>post</td><td>Brooklyn</td><td>2727393.0</td><td>693.0</td><td>2.540887946841544...</td><td>25.408879468415442</td><td>null</td><td>null</td><td>null</td><td>null</td><td>null</td><td>null</td><td>null</td><td>null</td><td>null</td><td>null</td></tr>\n",
       "<tr><td>2020</td><td>6</td><td>2020-06-13</td><td>128</td><td>post</td><td>Brooklyn</td><td>2727393.0</td><td>1313</td><td>4.814121030595884E-4</td><td>48.14121030595884</td><td>1.300837776085301</td><td>3.505689261233818</td><td>2020</td><td>6</td><td>2020-06-06</td><td>127</td><td>post</td><td>Brooklyn</td><td>2727393.0</td><td>959.0</td><td>3.516178269871632E-4</td><td>35.16178269871632</td><td>null</td><td>null</td><td>null</td><td>null</td><td>null</td><td>null</td><td>null</td><td>null</td><td>null</td><td>null</td></tr>\n",
       "<tr><td>2020</td><td>7</td><td>2020-08-01</td><td>135</td><td>post</td><td>Brooklyn</td><td>2727393.0</td><td>2150</td><td>7.882985693664242E-4</td><td>78.82985693664243</td><td>1.2237209302325582</td><td>2.4419441860465145</td><td>2020</td><td>7</td><td>2020-07-25</td><td>134</td><td>post</td><td>Brooklyn</td><td>2727393.0</td><td>488.0</td><td>1.789254427213093...</td><td>17.892544272130934</td><td>null</td><td>null</td><td>null</td><td>null</td><td>null</td><td>null</td><td>null</td><td>null</td><td>null</td><td>null</td></tr>\n",
       "<tr><td>2020</td><td>7</td><td>2020-07-18</td><td>133</td><td>post</td><td>Manhattan</td><td>1687834.0</td><td>151282</td><td>0.089630852323155</td><td>8963.0852323155</td><td>1.37563622902923</td><td>2.318460491003537</td><td>2020</td><td>7</td><td>2020-07-11</td><td>132</td><td>post</td><td>Manhattan</td><td>1687834.0</td><td>494.0</td><td>2.926828112243265...</td><td>29.268281122432658</td><td>null</td><td>null</td><td>null</td><td>null</td><td>null</td><td>null</td><td>null</td><td>null</td><td>null</td><td>null</td></tr>\n",
       "<tr><td>2020</td><td>6</td><td>2020-06-20</td><td>129</td><td>post</td><td>Manhattan</td><td>1687834.0</td><td>104550</td><td>0.06194329537146426</td><td>6194.3295371464255</td><td>1.3489813486370157</td><td>2.3857409851745492</td><td>2020</td><td>6</td><td>2020-06-13</td><td>128</td><td>post</td><td>Manhattan</td><td>1687834.0</td><td>367.0</td><td>2.174384447759673E-4</td><td>21.74384447759673</td><td>null</td><td>null</td><td>null</td><td>null</td><td>null</td><td>null</td><td>null</td><td>null</td><td>null</td><td>null</td></tr>\n",
       "</table>\n"
      ],
      "text/plain": [
       "+---------+----------+-----------+----------+--------+----------+----------+---------+--------------------+------------------+------------------+------------------+---------------+----------------+-----------------+----------------+--------------+-------------+----------------+---------------+--------------------+---------------------+-------------+--------------+---------------+--------------+------------+-----------+--------------+-------------+----------------+-------------------+\n",
       "|week_year|week_month|week_ending|week_index|timeline|pu_borough|population|num_trips|        num_pc_trips|   num_p100k_trips|    avg_passengers| avg_trip_distance|covid_week_year|covid_week_month|covid_week_ending|covid_week_index|covid_timeline|covid_borough|covid_population|covid_tot_cases|  covid_tot_pc_cases|covid_tot_p100k_cases|flu_week_year|flu_week_month|flu_week_ending|flu_week_index|flu_timeline|flu_borough|flu_population|flu_tot_cases|flu_tot_pc_cases|flu_tot_p100k_cases|\n",
       "+---------+----------+-----------+----------+--------+----------+----------+---------+--------------------+------------------+------------------+------------------+---------------+----------------+-----------------+----------------+--------------+-------------+----------------+---------------+--------------------+---------------------+-------------+--------------+---------------+--------------+------------+-----------+--------------+-------------+----------------+-------------------+\n",
       "|     2020|         7| 2020-07-25|       134|    post|  Brooklyn| 2727393.0|     1930|7.076354599428832E-4| 70.76354599428832|1.2279792746113989|2.8218341968911953|           2020|               7|       2020-07-18|             133|          post|     Brooklyn|       2727393.0|          693.0|2.540887946841544...|   25.408879468415442|         null|          null|           null|          null|        null|       null|          null|         null|            null|               null|\n",
       "|     2020|         6| 2020-06-13|       128|    post|  Brooklyn| 2727393.0|     1313|4.814121030595884E-4| 48.14121030595884| 1.300837776085301| 3.505689261233818|           2020|               6|       2020-06-06|             127|          post|     Brooklyn|       2727393.0|          959.0|3.516178269871632E-4|    35.16178269871632|         null|          null|           null|          null|        null|       null|          null|         null|            null|               null|\n",
       "|     2020|         7| 2020-08-01|       135|    post|  Brooklyn| 2727393.0|     2150|7.882985693664242E-4| 78.82985693664243|1.2237209302325582|2.4419441860465145|           2020|               7|       2020-07-25|             134|          post|     Brooklyn|       2727393.0|          488.0|1.789254427213093...|   17.892544272130934|         null|          null|           null|          null|        null|       null|          null|         null|            null|               null|\n",
       "|     2020|         7| 2020-07-18|       133|    post| Manhattan| 1687834.0|   151282|   0.089630852323155|   8963.0852323155|  1.37563622902923| 2.318460491003537|           2020|               7|       2020-07-11|             132|          post|    Manhattan|       1687834.0|          494.0|2.926828112243265...|   29.268281122432658|         null|          null|           null|          null|        null|       null|          null|         null|            null|               null|\n",
       "|     2020|         6| 2020-06-20|       129|    post| Manhattan| 1687834.0|   104550| 0.06194329537146426|6194.3295371464255|1.3489813486370157|2.3857409851745492|           2020|               6|       2020-06-13|             128|          post|    Manhattan|       1687834.0|          367.0|2.174384447759673E-4|    21.74384447759673|         null|          null|           null|          null|        null|       null|          null|         null|            null|               null|\n",
       "+---------+----------+-----------+----------+--------+----------+----------+---------+--------------------+------------------+------------------+------------------+---------------+----------------+-----------------+----------------+--------------+-------------+----------------+---------------+--------------------+---------------------+-------------+--------------+---------------+--------------+------------+-----------+--------------+-------------+----------------+-------------------+"
      ]
     },
     "execution_count": 9,
     "metadata": {},
     "output_type": "execute_result"
    }
   ],
   "source": [
    "# show it\n",
    "joined_pu_df.limit(5)"
   ]
  },
  {
   "cell_type": "code",
   "execution_count": 10,
   "metadata": {},
   "outputs": [],
   "source": [
    "# remove all columns except those being fitted\n",
    "joined_pu_df = joined_pu_df.select(\n",
    "    'avg_trip_distance',\n",
    "    'week_index',\n",
    "    'pu_borough',\n",
    "    'covid_tot_p100k_cases',\n",
    "    'flu_tot_p100k_cases'\n",
    ")"
   ]
  },
  {
   "cell_type": "code",
   "execution_count": 11,
   "metadata": {},
   "outputs": [],
   "source": [
    "normal_lm = ols(\n",
    "    formula = 'avg_trip_distance ~ week_index + pu_borough * covid_tot_p100k_cases + pu_borough * flu_tot_p100k_cases',\n",
    "    data = joined_pu_df.toPandas()\n",
    ").fit()\n"
   ]
  },
  {
   "cell_type": "code",
   "execution_count": 12,
   "metadata": {},
   "outputs": [
    {
     "name": "stdout",
     "output_type": "stream",
     "text": [
      "                            OLS Regression Results                            \n",
      "==============================================================================\n",
      "Dep. Variable:      avg_trip_distance   R-squared:                       0.989\n",
      "Model:                            OLS   Adj. R-squared:                  0.988\n",
      "Method:                 Least Squares   F-statistic:                     936.6\n",
      "Date:                Mon, 15 Aug 2022   Prob (F-statistic):          6.30e-143\n",
      "Time:                        19:29:12   Log-Likelihood:                -235.95\n",
      "No. Observations:                 170   AIC:                             503.9\n",
      "Df Residuals:                     154   BIC:                             554.1\n",
      "Df Model:                          15                                         \n",
      "Covariance Type:            nonrobust                                         \n",
      "=====================================================================================================================\n",
      "                                                        coef    std err          t      P>|t|      [0.025      0.975]\n",
      "---------------------------------------------------------------------------------------------------------------------\n",
      "Intercept                                             4.8453      1.381      3.508      0.001       2.117       7.574\n",
      "pu_borough[T.Brooklyn]                               -0.0315      0.528     -0.060      0.953      -1.074       1.011\n",
      "pu_borough[T.Manhattan]                              -1.3611      0.523     -2.600      0.010      -2.395      -0.327\n",
      "pu_borough[T.Queens]                                  6.9451      0.547     12.704      0.000       5.865       8.025\n",
      "pu_borough[T.Staten Island]                          21.0596      0.528     39.872      0.000      20.016      22.103\n",
      "week_index                                           -0.0080      0.008     -0.969      0.334      -0.024       0.008\n",
      "covid_tot_p100k_cases                                 0.0021      0.001      1.585      0.115      -0.001       0.005\n",
      "pu_borough[T.Brooklyn]:covid_tot_p100k_cases         -0.0011      0.003     -0.389      0.698      -0.007       0.005\n",
      "pu_borough[T.Manhattan]:covid_tot_p100k_cases        -0.0024      0.003     -0.886      0.377      -0.008       0.003\n",
      "pu_borough[T.Queens]:covid_tot_p100k_cases           -0.0007      0.002     -0.311      0.756      -0.005       0.004\n",
      "pu_borough[T.Staten Island]:covid_tot_p100k_cases     0.0060      0.002      3.487      0.001       0.003       0.009\n",
      "flu_tot_p100k_cases                                   0.0031      0.853      0.004      0.997      -1.682       1.688\n",
      "pu_borough[T.Brooklyn]:flu_tot_p100k_cases            0.0516      1.065      0.048      0.961      -2.052       2.155\n",
      "pu_borough[T.Manhattan]:flu_tot_p100k_cases          -0.0058      0.886     -0.007      0.995      -1.756       1.744\n",
      "pu_borough[T.Queens]:flu_tot_p100k_cases             -0.4160      1.114     -0.373      0.709      -2.617       1.785\n",
      "pu_borough[T.Staten Island]:flu_tot_p100k_cases       0.2810      0.880      0.319      0.750      -1.457       2.019\n",
      "==============================================================================\n",
      "Omnibus:                       41.776   Durbin-Watson:                   1.986\n",
      "Prob(Omnibus):                  0.000   Jarque-Bera (JB):              416.726\n",
      "Skew:                          -0.464   Prob(JB):                     3.23e-91\n",
      "Kurtosis:                      10.614   Cond. No.                     7.82e+03\n",
      "==============================================================================\n",
      "\n",
      "Notes:\n",
      "[1] Standard Errors assume that the covariance matrix of the errors is correctly specified.\n",
      "[2] The condition number is large, 7.82e+03. This might indicate that there are\n",
      "strong multicollinearity or other numerical problems.\n"
     ]
    }
   ],
   "source": [
    "print(normal_lm.summary())"
   ]
  },
  {
   "cell_type": "code",
   "execution_count": 15,
   "metadata": {},
   "outputs": [
    {
     "data": {
      "text/html": [
       "<div>\n",
       "<style scoped>\n",
       "    .dataframe tbody tr th:only-of-type {\n",
       "        vertical-align: middle;\n",
       "    }\n",
       "\n",
       "    .dataframe tbody tr th {\n",
       "        vertical-align: top;\n",
       "    }\n",
       "\n",
       "    .dataframe thead th {\n",
       "        text-align: right;\n",
       "    }\n",
       "</style>\n",
       "<table border=\"1\" class=\"dataframe\">\n",
       "  <thead>\n",
       "    <tr style=\"text-align: right;\">\n",
       "      <th></th>\n",
       "      <th>sum_sq</th>\n",
       "      <th>df</th>\n",
       "      <th>F</th>\n",
       "      <th>PR(&gt;F)</th>\n",
       "    </tr>\n",
       "  </thead>\n",
       "  <tbody>\n",
       "    <tr>\n",
       "      <th>pu_borough</th>\n",
       "      <td>12684.293728</td>\n",
       "      <td>4.0</td>\n",
       "      <td>3056.468500</td>\n",
       "      <td>1.537003e-145</td>\n",
       "    </tr>\n",
       "    <tr>\n",
       "      <th>week_index</th>\n",
       "      <td>0.974510</td>\n",
       "      <td>1.0</td>\n",
       "      <td>0.939290</td>\n",
       "      <td>3.339801e-01</td>\n",
       "    </tr>\n",
       "    <tr>\n",
       "      <th>covid_tot_p100k_cases</th>\n",
       "      <td>38.206126</td>\n",
       "      <td>1.0</td>\n",
       "      <td>36.825328</td>\n",
       "      <td>9.635711e-09</td>\n",
       "    </tr>\n",
       "    <tr>\n",
       "      <th>pu_borough:covid_tot_p100k_cases</th>\n",
       "      <td>24.558254</td>\n",
       "      <td>4.0</td>\n",
       "      <td>5.917675</td>\n",
       "      <td>1.862774e-04</td>\n",
       "    </tr>\n",
       "    <tr>\n",
       "      <th>flu_tot_p100k_cases</th>\n",
       "      <td>0.637668</td>\n",
       "      <td>1.0</td>\n",
       "      <td>0.614622</td>\n",
       "      <td>4.342569e-01</td>\n",
       "    </tr>\n",
       "    <tr>\n",
       "      <th>pu_borough:flu_tot_p100k_cases</th>\n",
       "      <td>1.469776</td>\n",
       "      <td>4.0</td>\n",
       "      <td>0.354164</td>\n",
       "      <td>8.408334e-01</td>\n",
       "    </tr>\n",
       "    <tr>\n",
       "      <th>Residual</th>\n",
       "      <td>159.774363</td>\n",
       "      <td>154.0</td>\n",
       "      <td>NaN</td>\n",
       "      <td>NaN</td>\n",
       "    </tr>\n",
       "  </tbody>\n",
       "</table>\n",
       "</div>"
      ],
      "text/plain": [
       "                                        sum_sq     df            F  \\\n",
       "pu_borough                        12684.293728    4.0  3056.468500   \n",
       "week_index                            0.974510    1.0     0.939290   \n",
       "covid_tot_p100k_cases                38.206126    1.0    36.825328   \n",
       "pu_borough:covid_tot_p100k_cases     24.558254    4.0     5.917675   \n",
       "flu_tot_p100k_cases                   0.637668    1.0     0.614622   \n",
       "pu_borough:flu_tot_p100k_cases        1.469776    4.0     0.354164   \n",
       "Residual                            159.774363  154.0          NaN   \n",
       "\n",
       "                                         PR(>F)  \n",
       "pu_borough                        1.537003e-145  \n",
       "week_index                         3.339801e-01  \n",
       "covid_tot_p100k_cases              9.635711e-09  \n",
       "pu_borough:covid_tot_p100k_cases   1.862774e-04  \n",
       "flu_tot_p100k_cases                4.342569e-01  \n",
       "pu_borough:flu_tot_p100k_cases     8.408334e-01  \n",
       "Residual                                    NaN  "
      ]
     },
     "execution_count": 15,
     "metadata": {},
     "output_type": "execute_result"
    }
   ],
   "source": [
    "# table = sm.stats.anova_lm(moore_lm, typ=2)\n",
    "table = sm.stats.anova_lm(normal_lm, typ=2)\n",
    "table"
   ]
  },
  {
   "cell_type": "code",
   "execution_count": 14,
   "metadata": {},
   "outputs": [],
   "source": [
    "# test for interaction\n"
   ]
  }
 ],
 "metadata": {
  "kernelspec": {
   "display_name": "Python 3.8.10 64-bit",
   "language": "python",
   "name": "python3"
  },
  "language_info": {
   "codemirror_mode": {
    "name": "ipython",
    "version": 3
   },
   "file_extension": ".py",
   "mimetype": "text/x-python",
   "name": "python",
   "nbconvert_exporter": "python",
   "pygments_lexer": "ipython3",
   "version": "3.8.10"
  },
  "orig_nbformat": 4,
  "vscode": {
   "interpreter": {
    "hash": "916dbcbb3f70747c44a77c7bcd40155683ae19c65e1c03b4aa3499c5328201f1"
   }
  }
 },
 "nbformat": 4,
 "nbformat_minor": 2
}
