{
 "cells": [
  {
   "cell_type": "markdown",
   "metadata": {},
   "source": [
    "### MAST30034: Applied Data Science Project 1\n",
    "---\n",
    "# Data Analysis: Generating the Model for Trip Distances\n",
    "#### Xavier Travers (1178369)\n",
    "\n",
    "In this notebook, an Ordinary Least Squares linear model and a Gamma generalized linear regression are generated\n",
    "on the additive model with interaction.\n",
    "\n",
    "Trip distance is modelled against:\n",
    "- Borough\n",
    "- Preceding Week's index\n",
    "- COVID-19 Case Rate (per 100'000 people)\n",
    "    - Interaction with the Borough\n",
    "- Influenza Case Rate (per 100'000 people)\n",
    "    - Interaction with the Borough"
   ]
  },
  {
   "cell_type": "code",
   "execution_count": 1,
   "metadata": {},
   "outputs": [],
   "source": [
    "# imports used throughout this notebook\n",
    "from pyspark.sql import functions as F\n",
    "import matplotlib.pyplot as plt\n",
    "import statsmodels.api as sm\n",
    "from statsmodels.formula.api import ols, glm\n",
    "from statsmodels.genmod.families.family import Gamma\n",
    "from statsmodels.graphics.api import abline_plot\n",
    "import sys\n",
    "\n",
    "# add homemade helpers\n",
    "sys.path.insert(1, '../../scripts')\n",
    "import helpers.join_helpers as jh\n",
    "import helpers.plot_helpers as ph\n",
    "\n",
    "# path where the data files are stored\n",
    "DATA_PATH = '../../data'"
   ]
  },
  {
   "cell_type": "code",
   "execution_count": 2,
   "metadata": {},
   "outputs": [
    {
     "name": "stdout",
     "output_type": "stream",
     "text": [
      "22/08/21 10:38:53 WARN Utils: Your hostname, Polaris resolves to a loopback address: 127.0.1.1; using 172.18.201.145 instead (on interface eth0)\n",
      "22/08/21 10:38:53 WARN Utils: Set SPARK_LOCAL_IP if you need to bind to another address\n"
     ]
    },
    {
     "name": "stderr",
     "output_type": "stream",
     "text": [
      "Setting default log level to \"WARN\".\n",
      "To adjust logging level use sc.setLogLevel(newLevel). For SparkR, use setLogLevel(newLevel).\n"
     ]
    },
    {
     "name": "stdout",
     "output_type": "stream",
     "text": [
      "22/08/21 10:38:54 WARN NativeCodeLoader: Unable to load native-hadoop library for your platform... using builtin-java classes where applicable\n",
      "22/08/21 10:38:55 WARN Utils: Service 'SparkUI' could not bind on port 4040. Attempting port 4041.\n"
     ]
    }
   ],
   "source": [
    "from pyspark.sql import SparkSession\n",
    "\n",
    "# Create a spark session (which will run spark jobs)\n",
    "spark = (\n",
    "    SparkSession.builder.appName('MAST30034 XT Project 1')\n",
    "    .config(\"spark.sql.session.timeZone\", \"Etc/UTC\")\n",
    "    .config('spark.sql.repl.eagerEval.enabled', True) \n",
    "    .config('spark.sql.parquet.cacheMetadata', 'true')\n",
    "    .config(\"spark.executor.memory\", \"2g\")\n",
    "    .config(\"spark.driver.memory\", \"4g\")\n",
    "    .getOrCreate()\n",
    ")"
   ]
  },
  {
   "cell_type": "code",
   "execution_count": 3,
   "metadata": {},
   "outputs": [
    {
     "data": {
      "text/html": [
       "<table border='1'>\n",
       "<tr><th>week_year</th><th>week_month</th><th>week_ending</th><th>week_index</th><th>borough</th><th>population</th><th>tot_cases</th><th>tot_pc_cases</th><th>tot_p100k_cases</th></tr>\n",
       "<tr><td>2021</td><td>10</td><td>2021-10-09</td><td>93</td><td>Staten Island</td><td>493494.0</td><td>2830</td><td>0.005734618860614314</td><td>573.4618860614313</td></tr>\n",
       "<tr><td>2020</td><td>7</td><td>2020-07-18</td><td>29</td><td>Staten Island</td><td>495522.0</td><td>825</td><td>0.001664910942400...</td><td>166.49109424001355</td></tr>\n",
       "<tr><td>2021</td><td>7</td><td>2021-07-17</td><td>81</td><td>Staten Island</td><td>493494.0</td><td>1600</td><td>0.003242187341690...</td><td>324.2187341690071</td></tr>\n",
       "<tr><td>2021</td><td>1</td><td>2021-01-16</td><td>55</td><td>Staten Island</td><td>493494.0</td><td>13390</td><td>0.027133055315768782</td><td>2713.3055315768784</td></tr>\n",
       "<tr><td>2020</td><td>4</td><td>2020-05-02</td><td>18</td><td>Staten Island</td><td>495522.0</td><td>3380</td><td>0.006821089679166616</td><td>682.1089679166616</td></tr>\n",
       "</table>\n"
      ],
      "text/plain": [
       "+---------+----------+-----------+----------+-------------+----------+---------+--------------------+------------------+\n",
       "|week_year|week_month|week_ending|week_index|      borough|population|tot_cases|        tot_pc_cases|   tot_p100k_cases|\n",
       "+---------+----------+-----------+----------+-------------+----------+---------+--------------------+------------------+\n",
       "|     2021|        10| 2021-10-09|        93|Staten Island|  493494.0|     2830|0.005734618860614314| 573.4618860614313|\n",
       "|     2020|         7| 2020-07-18|        29|Staten Island|  495522.0|      825|0.001664910942400...|166.49109424001355|\n",
       "|     2021|         7| 2021-07-17|        81|Staten Island|  493494.0|     1600|0.003242187341690...| 324.2187341690071|\n",
       "|     2021|         1| 2021-01-16|        55|Staten Island|  493494.0|    13390|0.027133055315768782|2713.3055315768784|\n",
       "|     2020|         4| 2020-05-02|        18|Staten Island|  495522.0|     3380|0.006821089679166616| 682.1089679166616|\n",
       "+---------+----------+-----------+----------+-------------+----------+---------+--------------------+------------------+"
      ]
     },
     "execution_count": 3,
     "metadata": {},
     "output_type": "execute_result"
    }
   ],
   "source": [
    "# read in the aggregated covid data\n",
    "covid_df = spark.read.parquet(f'{DATA_PATH}/curated/virals/covid/aggregated/cases_by_week')\n",
    "covid_df.limit(5)"
   ]
  },
  {
   "cell_type": "code",
   "execution_count": 4,
   "metadata": {},
   "outputs": [
    {
     "data": {
      "text/html": [
       "<table border='1'>\n",
       "<tr><th>week_year</th><th>week_month</th><th>week_ending</th><th>week_index</th><th>borough</th><th>population</th><th>tot_cases</th><th>tot_pc_cases</th><th>tot_p100k_cases</th></tr>\n",
       "<tr><td>2020</td><td>6</td><td>2020-06-06</td><td>23</td><td>Bronx</td><td>1466438.0</td><td>0</td><td>0.0</td><td>0.0</td></tr>\n",
       "<tr><td>2020</td><td>1</td><td>2020-01-18</td><td>3</td><td>Bronx</td><td>1466438.0</td><td>2331</td><td>0.00158956600960968</td><td>158.95660096096802</td></tr>\n",
       "<tr><td>2020</td><td>8</td><td>2020-08-08</td><td>32</td><td>Bronx</td><td>1466438.0</td><td>0</td><td>0.0</td><td>0.0</td></tr>\n",
       "<tr><td>2020</td><td>12</td><td>2020-12-26</td><td>52</td><td>Bronx</td><td>1466438.0</td><td>4</td><td>2.727698000188211...</td><td>0.2727698000188211</td></tr>\n",
       "<tr><td>2020</td><td>7</td><td>2020-08-01</td><td>31</td><td>Bronx</td><td>1466438.0</td><td>0</td><td>0.0</td><td>0.0</td></tr>\n",
       "</table>\n"
      ],
      "text/plain": [
       "+---------+----------+-----------+----------+-------+----------+---------+--------------------+------------------+\n",
       "|week_year|week_month|week_ending|week_index|borough|population|tot_cases|        tot_pc_cases|   tot_p100k_cases|\n",
       "+---------+----------+-----------+----------+-------+----------+---------+--------------------+------------------+\n",
       "|     2020|         6| 2020-06-06|        23|  Bronx| 1466438.0|        0|                 0.0|               0.0|\n",
       "|     2020|         1| 2020-01-18|         3|  Bronx| 1466438.0|     2331| 0.00158956600960968|158.95660096096802|\n",
       "|     2020|         8| 2020-08-08|        32|  Bronx| 1466438.0|        0|                 0.0|               0.0|\n",
       "|     2020|        12| 2020-12-26|        52|  Bronx| 1466438.0|        4|2.727698000188211...|0.2727698000188211|\n",
       "|     2020|         7| 2020-08-01|        31|  Bronx| 1466438.0|        0|                 0.0|               0.0|\n",
       "+---------+----------+-----------+----------+-------+----------+---------+--------------------+------------------+"
      ]
     },
     "execution_count": 4,
     "metadata": {},
     "output_type": "execute_result"
    }
   ],
   "source": [
    "# read in the aggregated covid data\n",
    "flu_df = spark.read.parquet(f'{DATA_PATH}/curated/virals/flu/aggregated/cases_by_week')\n",
    "flu_df.limit(5)"
   ]
  },
  {
   "cell_type": "code",
   "execution_count": 5,
   "metadata": {},
   "outputs": [
    {
     "data": {
      "text/html": [
       "<table border='1'>\n",
       "<tr><th>week_year</th><th>week_month</th><th>week_ending</th><th>week_index</th><th>pu_borough</th><th>population</th><th>num_trips</th><th>num_pc_trips</th><th>num_p100k_trips</th><th>avg_trip_distance</th></tr>\n",
       "<tr><td>2020</td><td>4</td><td>2020-05-02</td><td>18</td><td>Manhattan</td><td>1687834.0</td><td>55248</td><td>0.032733076831015374</td><td>3273.3076831015374</td><td>2.8488097306689624</td></tr>\n",
       "<tr><td>2020</td><td>5</td><td>2020-05-30</td><td>22</td><td>Queens</td><td>2395791.0</td><td>4660</td><td>0.001945077846940739</td><td>194.5077846940739</td><td>9.020862660944168</td></tr>\n",
       "<tr><td>2020</td><td>4</td><td>2020-05-02</td><td>18</td><td>Staten Island</td><td>495522.0</td><td>35</td><td>7.063258543515727E-5</td><td>7.063258543515727</td><td>23.470000000000002</td></tr>\n",
       "<tr><td>2020</td><td>5</td><td>2020-05-23</td><td>21</td><td>Staten Island</td><td>495522.0</td><td>89</td><td>1.796085743922570...</td><td>17.960857439225705</td><td>24.68977528089888</td></tr>\n",
       "<tr><td>2020</td><td>4</td><td>2020-04-04</td><td>14</td><td>Brooklyn</td><td>2727393.0</td><td>1556</td><td>5.705081739228634E-4</td><td>57.05081739228633</td><td>5.651150385604107</td></tr>\n",
       "</table>\n"
      ],
      "text/plain": [
       "+---------+----------+-----------+----------+-------------+----------+---------+--------------------+------------------+------------------+\n",
       "|week_year|week_month|week_ending|week_index|   pu_borough|population|num_trips|        num_pc_trips|   num_p100k_trips| avg_trip_distance|\n",
       "+---------+----------+-----------+----------+-------------+----------+---------+--------------------+------------------+------------------+\n",
       "|     2020|         4| 2020-05-02|        18|    Manhattan| 1687834.0|    55248|0.032733076831015374|3273.3076831015374|2.8488097306689624|\n",
       "|     2020|         5| 2020-05-30|        22|       Queens| 2395791.0|     4660|0.001945077846940739| 194.5077846940739| 9.020862660944168|\n",
       "|     2020|         4| 2020-05-02|        18|Staten Island|  495522.0|       35|7.063258543515727E-5| 7.063258543515727|23.470000000000002|\n",
       "|     2020|         5| 2020-05-23|        21|Staten Island|  495522.0|       89|1.796085743922570...|17.960857439225705| 24.68977528089888|\n",
       "|     2020|         4| 2020-04-04|        14|     Brooklyn| 2727393.0|     1556|5.705081739228634E-4| 57.05081739228633| 5.651150385604107|\n",
       "+---------+----------+-----------+----------+-------------+----------+---------+--------------------+------------------+------------------+"
      ]
     },
     "execution_count": 5,
     "metadata": {},
     "output_type": "execute_result"
    }
   ],
   "source": [
    "# read in the aggregated yellow tlc data\n",
    "tlc_pu_df = spark.read.parquet(f'{DATA_PATH}/curated/tlc/aggregated/yellow/by_pu')\n",
    "tlc_pu_df.limit(5)"
   ]
  },
  {
   "cell_type": "code",
   "execution_count": 6,
   "metadata": {},
   "outputs": [],
   "source": [
    "# join the datasets by week_index\n",
    "joined_pu_df = jh.join_by_week_by_borough(tlc_pu_df, covid_df, 'covid')\n",
    "joined_pu_df = jh.join_by_week_by_borough(joined_pu_df, flu_df, 'flu')"
   ]
  },
  {
   "cell_type": "code",
   "execution_count": 7,
   "metadata": {},
   "outputs": [
    {
     "name": "stdout",
     "output_type": "stream",
     "text": [
      "22/08/21 10:39:01 WARN package: Truncated the string representation of a plan since it was too large. This behavior can be adjusted by setting 'spark.sql.debug.maxToStringFields'.\n"
     ]
    },
    {
     "data": {
      "text/html": [
       "<table border='1'>\n",
       "<tr><th>week_year</th><th>week_month</th><th>week_ending</th><th>week_index</th><th>pu_borough</th><th>population</th><th>num_trips</th><th>num_pc_trips</th><th>num_p100k_trips</th><th>avg_trip_distance</th><th>covid_week_year</th><th>covid_week_month</th><th>covid_week_ending</th><th>covid_week_index</th><th>covid_borough</th><th>covid_population</th><th>covid_tot_cases</th><th>covid_tot_pc_cases</th><th>covid_tot_p100k_cases</th><th>flu_week_year</th><th>flu_week_month</th><th>flu_week_ending</th><th>flu_week_index</th><th>flu_borough</th><th>flu_population</th><th>flu_tot_cases</th><th>flu_tot_pc_cases</th><th>flu_tot_p100k_cases</th></tr>\n",
       "<tr><td>2020</td><td>4</td><td>2020-05-02</td><td>18</td><td>Manhattan</td><td>1687834.0</td><td>55248</td><td>0.032733076831015374</td><td>3273.3076831015374</td><td>2.8488097306689624</td><td>2020</td><td>4</td><td>2020-04-25</td><td>17</td><td>Manhattan</td><td>1687834.0</td><td>11320</td><td>0.006706820694452179</td><td>670.682069445218</td><td>2020</td><td>4</td><td>2020-04-25</td><td>17</td><td>Manhattan</td><td>1687834.0</td><td>0</td><td>0.0</td><td>0.0</td></tr>\n",
       "<tr><td>2020</td><td>5</td><td>2020-05-30</td><td>22</td><td>Queens</td><td>2395791.0</td><td>4660</td><td>0.001945077846940739</td><td>194.5077846940739</td><td>9.020862660944168</td><td>2020</td><td>5</td><td>2020-05-23</td><td>21</td><td>Queens</td><td>2395791.0</td><td>8050</td><td>0.003360059370788...</td><td>336.00593707881865</td><td>2020</td><td>5</td><td>2020-05-23</td><td>21</td><td>Queens</td><td>2395791.0</td><td>0</td><td>0.0</td><td>0.0</td></tr>\n",
       "<tr><td>2020</td><td>4</td><td>2020-05-02</td><td>18</td><td>Staten Island</td><td>495522.0</td><td>35</td><td>7.063258543515727E-5</td><td>7.063258543515727</td><td>23.470000000000002</td><td>2020</td><td>4</td><td>2020-04-25</td><td>17</td><td>Staten Island</td><td>495522.0</td><td>5525</td><td>0.011149858129406968</td><td>1114.9858129406969</td><td>2020</td><td>4</td><td>2020-04-25</td><td>17</td><td>Staten Island</td><td>495522.0</td><td>0</td><td>0.0</td><td>0.0</td></tr>\n",
       "<tr><td>2020</td><td>5</td><td>2020-05-23</td><td>21</td><td>Staten Island</td><td>495522.0</td><td>89</td><td>1.796085743922570...</td><td>17.960857439225705</td><td>24.68977528089888</td><td>2020</td><td>5</td><td>2020-05-16</td><td>20</td><td>Staten Island</td><td>495522.0</td><td>1205</td><td>0.002431779012838...</td><td>243.1779012838986</td><td>2020</td><td>5</td><td>2020-05-16</td><td>20</td><td>Staten Island</td><td>495522.0</td><td>0</td><td>0.0</td><td>0.0</td></tr>\n",
       "<tr><td>2020</td><td>4</td><td>2020-04-04</td><td>14</td><td>Brooklyn</td><td>2727393.0</td><td>1556</td><td>5.705081739228634E-4</td><td>57.05081739228633</td><td>5.651150385604107</td><td>2020</td><td>3</td><td>2020-03-28</td><td>13</td><td>Brooklyn</td><td>2727393.0</td><td>38960</td><td>0.014284703377914367</td><td>1428.4703377914368</td><td>2020</td><td>3</td><td>2020-03-28</td><td>13</td><td>Brooklyn</td><td>2727393.0</td><td>38</td><td>1.393271890042982...</td><td>1.3932718900429824</td></tr>\n",
       "</table>\n"
      ],
      "text/plain": [
       "+---------+----------+-----------+----------+-------------+----------+---------+--------------------+------------------+------------------+---------------+----------------+-----------------+----------------+-------------+----------------+---------------+--------------------+---------------------+-------------+--------------+---------------+--------------+-------------+--------------+-------------+--------------------+-------------------+\n",
       "|week_year|week_month|week_ending|week_index|   pu_borough|population|num_trips|        num_pc_trips|   num_p100k_trips| avg_trip_distance|covid_week_year|covid_week_month|covid_week_ending|covid_week_index|covid_borough|covid_population|covid_tot_cases|  covid_tot_pc_cases|covid_tot_p100k_cases|flu_week_year|flu_week_month|flu_week_ending|flu_week_index|  flu_borough|flu_population|flu_tot_cases|    flu_tot_pc_cases|flu_tot_p100k_cases|\n",
       "+---------+----------+-----------+----------+-------------+----------+---------+--------------------+------------------+------------------+---------------+----------------+-----------------+----------------+-------------+----------------+---------------+--------------------+---------------------+-------------+--------------+---------------+--------------+-------------+--------------+-------------+--------------------+-------------------+\n",
       "|     2020|         4| 2020-05-02|        18|    Manhattan| 1687834.0|    55248|0.032733076831015374|3273.3076831015374|2.8488097306689624|           2020|               4|       2020-04-25|              17|    Manhattan|       1687834.0|          11320|0.006706820694452179|     670.682069445218|         2020|             4|     2020-04-25|            17|    Manhattan|     1687834.0|            0|                 0.0|                0.0|\n",
       "|     2020|         5| 2020-05-30|        22|       Queens| 2395791.0|     4660|0.001945077846940739| 194.5077846940739| 9.020862660944168|           2020|               5|       2020-05-23|              21|       Queens|       2395791.0|           8050|0.003360059370788...|   336.00593707881865|         2020|             5|     2020-05-23|            21|       Queens|     2395791.0|            0|                 0.0|                0.0|\n",
       "|     2020|         4| 2020-05-02|        18|Staten Island|  495522.0|       35|7.063258543515727E-5| 7.063258543515727|23.470000000000002|           2020|               4|       2020-04-25|              17|Staten Island|        495522.0|           5525|0.011149858129406968|   1114.9858129406969|         2020|             4|     2020-04-25|            17|Staten Island|      495522.0|            0|                 0.0|                0.0|\n",
       "|     2020|         5| 2020-05-23|        21|Staten Island|  495522.0|       89|1.796085743922570...|17.960857439225705| 24.68977528089888|           2020|               5|       2020-05-16|              20|Staten Island|        495522.0|           1205|0.002431779012838...|    243.1779012838986|         2020|             5|     2020-05-16|            20|Staten Island|      495522.0|            0|                 0.0|                0.0|\n",
       "|     2020|         4| 2020-04-04|        14|     Brooklyn| 2727393.0|     1556|5.705081739228634E-4| 57.05081739228633| 5.651150385604107|           2020|               3|       2020-03-28|              13|     Brooklyn|       2727393.0|          38960|0.014284703377914367|   1428.4703377914368|         2020|             3|     2020-03-28|            13|     Brooklyn|     2727393.0|           38|1.393271890042982...| 1.3932718900429824|\n",
       "+---------+----------+-----------+----------+-------------+----------+---------+--------------------+------------------+------------------+---------------+----------------+-----------------+----------------+-------------+----------------+---------------+--------------------+---------------------+-------------+--------------+---------------+--------------+-------------+--------------+-------------+--------------------+-------------------+"
      ]
     },
     "execution_count": 7,
     "metadata": {},
     "output_type": "execute_result"
    }
   ],
   "source": [
    "# check that the data doesn't look weird\n",
    "joined_pu_df.limit(5)"
   ]
  },
  {
   "cell_type": "code",
   "execution_count": 8,
   "metadata": {},
   "outputs": [],
   "source": [
    "# remove all columns except those being fitted\n",
    "joined_pu_df = joined_pu_df.select(\n",
    "    F.col('avg_trip_distance'),\n",
    "    (F.col('week_index') - 1).alias('pre_week_index'),\n",
    "    F.col('pu_borough'),\n",
    "    F.col('covid_tot_p100k_cases'),\n",
    "    F.col('flu_tot_p100k_cases')\n",
    ")"
   ]
  },
  {
   "cell_type": "code",
   "execution_count": 9,
   "metadata": {},
   "outputs": [],
   "source": [
    "# convert the dataframe to pandas type\n",
    "joined_pu_df = joined_pu_df.toPandas()"
   ]
  },
  {
   "cell_type": "markdown",
   "metadata": {},
   "source": [
    "### OLS Linear Model"
   ]
  },
  {
   "cell_type": "code",
   "execution_count": 10,
   "metadata": {},
   "outputs": [],
   "source": [
    "# generate the linear model as described above\n",
    "gaussian_model = ols(\n",
    "    formula = 'avg_trip_distance ~ pre_week_index + pu_borough * covid_tot_p100k_cases + pu_borough * flu_tot_p100k_cases',\n",
    "    data = joined_pu_df\n",
    ").fit()"
   ]
  },
  {
   "cell_type": "code",
   "execution_count": 12,
   "metadata": {},
   "outputs": [
    {
     "name": "stdout",
     "output_type": "stream",
     "text": [
      "                            OLS Regression Results                            \n",
      "==============================================================================\n",
      "Dep. Variable:      avg_trip_distance   R-squared:                       0.973\n",
      "Model:                            OLS   Adj. R-squared:                  0.972\n",
      "Method:                 Least Squares   F-statistic:                     1222.\n",
      "Date:                Sun, 21 Aug 2022   Prob (F-statistic):               0.00\n",
      "Time:                        10:39:04   Log-Likelihood:                -865.76\n",
      "No. Observations:                 525   AIC:                             1764.\n",
      "Df Residuals:                     509   BIC:                             1832.\n",
      "Df Model:                          15                                         \n",
      "Covariance Type:            nonrobust                                         \n",
      "=====================================================================================================================\n",
      "                                                        coef    std err          t      P>|t|      [0.025      0.975]\n",
      "---------------------------------------------------------------------------------------------------------------------\n",
      "Intercept                                             6.3283      0.196     32.216      0.000       5.942       6.714\n",
      "pu_borough[T.Brooklyn]                               -1.0043      0.220     -4.566      0.000      -1.436      -0.572\n",
      "pu_borough[T.Manhattan]                              -4.8117      0.216    -22.264      0.000      -5.236      -4.387\n",
      "pu_borough[T.Queens]                                  3.4372      0.225     15.302      0.000       2.996       3.879\n",
      "pu_borough[T.Staten Island]                          17.6611      0.228     77.555      0.000      17.214      18.109\n",
      "pre_week_index                                        0.0174      0.002      8.338      0.000       0.013       0.021\n",
      "covid_tot_p100k_cases                                -0.0003      0.000     -2.214      0.027      -0.001   -3.01e-05\n",
      "pu_borough[T.Brooklyn]:covid_tot_p100k_cases          0.0002      0.000      1.211      0.226      -0.000       0.001\n",
      "pu_borough[T.Manhattan]:covid_tot_p100k_cases         0.0002      0.000      1.033      0.302      -0.000       0.000\n",
      "pu_borough[T.Queens]:covid_tot_p100k_cases            0.0001      0.000      0.781      0.435      -0.000       0.000\n",
      "pu_borough[T.Staten Island]:covid_tot_p100k_cases     0.0003      0.000      1.606      0.109   -5.75e-05       0.001\n",
      "flu_tot_p100k_cases                                  -0.0039      0.004     -1.058      0.291      -0.011       0.003\n",
      "pu_borough[T.Brooklyn]:flu_tot_p100k_cases           -0.0139      0.007     -1.970      0.049      -0.028   -3.93e-05\n",
      "pu_borough[T.Manhattan]:flu_tot_p100k_cases           0.0175      0.010      1.798      0.073      -0.002       0.037\n",
      "pu_borough[T.Queens]:flu_tot_p100k_cases              0.0184      0.007      2.710      0.007       0.005       0.032\n",
      "pu_borough[T.Staten Island]:flu_tot_p100k_cases      -0.1820      0.012    -15.428      0.000      -0.205      -0.159\n",
      "==============================================================================\n",
      "Omnibus:                      121.336   Durbin-Watson:                   1.889\n",
      "Prob(Omnibus):                  0.000   Jarque-Bera (JB):             1984.291\n",
      "Skew:                          -0.506   Prob(JB):                         0.00\n",
      "Kurtosis:                      12.470   Cond. No.                     1.01e+04\n",
      "==============================================================================\n",
      "\n",
      "Notes:\n",
      "[1] Standard Errors assume that the covariance matrix of the errors is correctly specified.\n",
      "[2] The condition number is large, 1.01e+04. This might indicate that there are\n",
      "strong multicollinearity or other numerical problems.\n"
     ]
    }
   ],
   "source": [
    "# show summary information\n",
    "print(gaussian_model.summary())"
   ]
  },
  {
   "cell_type": "code",
   "execution_count": 13,
   "metadata": {},
   "outputs": [
    {
     "data": {
      "text/html": [
       "<div>\n",
       "<style scoped>\n",
       "    .dataframe tbody tr th:only-of-type {\n",
       "        vertical-align: middle;\n",
       "    }\n",
       "\n",
       "    .dataframe tbody tr th {\n",
       "        vertical-align: top;\n",
       "    }\n",
       "\n",
       "    .dataframe thead th {\n",
       "        text-align: right;\n",
       "    }\n",
       "</style>\n",
       "<table border=\"1\" class=\"dataframe\">\n",
       "  <thead>\n",
       "    <tr style=\"text-align: right;\">\n",
       "      <th></th>\n",
       "      <th>sum_sq</th>\n",
       "      <th>df</th>\n",
       "      <th>F</th>\n",
       "      <th>PR(&gt;F)</th>\n",
       "    </tr>\n",
       "  </thead>\n",
       "  <tbody>\n",
       "    <tr>\n",
       "      <th>pu_borough</th>\n",
       "      <td>29011.342527</td>\n",
       "      <td>4.0</td>\n",
       "      <td>4437.938331</td>\n",
       "      <td>0.000000e+00</td>\n",
       "    </tr>\n",
       "    <tr>\n",
       "      <th>pre_week_index</th>\n",
       "      <td>113.623065</td>\n",
       "      <td>1.0</td>\n",
       "      <td>69.524829</td>\n",
       "      <td>7.098561e-16</td>\n",
       "    </tr>\n",
       "    <tr>\n",
       "      <th>covid_tot_p100k_cases</th>\n",
       "      <td>7.514132</td>\n",
       "      <td>1.0</td>\n",
       "      <td>4.597823</td>\n",
       "      <td>3.248551e-02</td>\n",
       "    </tr>\n",
       "    <tr>\n",
       "      <th>pu_borough:covid_tot_p100k_cases</th>\n",
       "      <td>4.567102</td>\n",
       "      <td>4.0</td>\n",
       "      <td>0.698641</td>\n",
       "      <td>5.931474e-01</td>\n",
       "    </tr>\n",
       "    <tr>\n",
       "      <th>flu_tot_p100k_cases</th>\n",
       "      <td>20.666797</td>\n",
       "      <td>1.0</td>\n",
       "      <td>12.645808</td>\n",
       "      <td>4.115448e-04</td>\n",
       "    </tr>\n",
       "    <tr>\n",
       "      <th>pu_borough:flu_tot_p100k_cases</th>\n",
       "      <td>450.519375</td>\n",
       "      <td>4.0</td>\n",
       "      <td>68.917087</td>\n",
       "      <td>1.313027e-46</td>\n",
       "    </tr>\n",
       "    <tr>\n",
       "      <th>Residual</th>\n",
       "      <td>831.848724</td>\n",
       "      <td>509.0</td>\n",
       "      <td>NaN</td>\n",
       "      <td>NaN</td>\n",
       "    </tr>\n",
       "  </tbody>\n",
       "</table>\n",
       "</div>"
      ],
      "text/plain": [
       "                                        sum_sq     df            F  \\\n",
       "pu_borough                        29011.342527    4.0  4437.938331   \n",
       "pre_week_index                      113.623065    1.0    69.524829   \n",
       "covid_tot_p100k_cases                 7.514132    1.0     4.597823   \n",
       "pu_borough:covid_tot_p100k_cases      4.567102    4.0     0.698641   \n",
       "flu_tot_p100k_cases                  20.666797    1.0    12.645808   \n",
       "pu_borough:flu_tot_p100k_cases      450.519375    4.0    68.917087   \n",
       "Residual                            831.848724  509.0          NaN   \n",
       "\n",
       "                                        PR(>F)  \n",
       "pu_borough                        0.000000e+00  \n",
       "pre_week_index                    7.098561e-16  \n",
       "covid_tot_p100k_cases             3.248551e-02  \n",
       "pu_borough:covid_tot_p100k_cases  5.931474e-01  \n",
       "flu_tot_p100k_cases               4.115448e-04  \n",
       "pu_borough:flu_tot_p100k_cases    1.313027e-46  \n",
       "Residual                                   NaN  "
      ]
     },
     "execution_count": 13,
     "metadata": {},
     "output_type": "execute_result"
    }
   ],
   "source": [
    "# generate an ANOVA table\n",
    "table = sm.stats.anova_lm(gaussian_model, typ=2)\n",
    "table"
   ]
  },
  {
   "cell_type": "code",
   "execution_count": 15,
   "metadata": {},
   "outputs": [
    {
     "data": {
      "image/png": "[encoded data removed]",
      "text/plain": [
       "<Figure size 432x288 with 1 Axes>"
      ]
     },
     "metadata": {
      "needs_background": "light"
     },
     "output_type": "display_data"
    }
   ],
   "source": [
    "# show and plot the diagnostic observed vs fitted\n",
    "ph.diagnostic_observed_fitted(joined_pu_df, gaussian_model, 'avg_trip_distance',\n",
    "    'Average Weekly Trip Distance (Miles)')"
   ]
  },
  {
   "cell_type": "markdown",
   "metadata": {},
   "source": [
    "### Gamma GLM"
   ]
  },
  {
   "cell_type": "code",
   "execution_count": 16,
   "metadata": {},
   "outputs": [
    {
     "name": "stderr",
     "output_type": "stream",
     "text": [
      "/home/digitaldata/.local/lib/python3.8/site-packages/statsmodels/genmod/generalized_linear_model.py:298: DomainWarning: The inverse_power link function does not respect the domain of the Gamma family.\n",
      "  warnings.warn((f\"The {type(family.link).__name__} link function \"\n"
     ]
    }
   ],
   "source": [
    "gamma_model = glm(\n",
    "    formula = 'avg_trip_distance ~ pre_week_index + pu_borough * covid_tot_p100k_cases + pu_borough * flu_tot_p100k_cases',\n",
    "    data = joined_pu_df,\n",
    "    family = Gamma()\n",
    ").fit()"
   ]
  },
  {
   "cell_type": "code",
   "execution_count": 17,
   "metadata": {},
   "outputs": [
    {
     "name": "stdout",
     "output_type": "stream",
     "text": [
      "                 Generalized Linear Model Regression Results                  \n",
      "==============================================================================\n",
      "Dep. Variable:      avg_trip_distance   No. Observations:                  525\n",
      "Model:                            GLM   Df Residuals:                      509\n",
      "Model Family:                   Gamma   Df Model:                           15\n",
      "Link Function:          inverse_power   Scale:                       0.0081717\n",
      "Method:                          IRLS   Log-Likelihood:                -542.18\n",
      "Date:                Sun, 21 Aug 2022   Deviance:                       4.1847\n",
      "Time:                        10:39:06   Pearson chi2:                     4.16\n",
      "No. Iterations:                     8   Pseudo R-squ. (CS):              1.000\n",
      "Covariance Type:            nonrobust                                         \n",
      "=====================================================================================================================\n",
      "                                                        coef    std err          z      P>|z|      [0.025      0.975]\n",
      "---------------------------------------------------------------------------------------------------------------------\n",
      "Intercept                                             0.1426      0.002     81.688      0.000       0.139       0.146\n",
      "pu_borough[T.Brooklyn]                                0.0250      0.002     10.395      0.000       0.020       0.030\n",
      "pu_borough[T.Manhattan]                               0.2739      0.005     60.536      0.000       0.265       0.283\n",
      "pu_borough[T.Queens]                                 -0.0434      0.002    -22.509      0.000      -0.047      -0.040\n",
      "pu_borough[T.Staten Island]                          -0.0968      0.002    -57.349      0.000      -0.100      -0.094\n",
      "pre_week_index                                       -0.0001   1.15e-05     -9.247      0.000      -0.000   -8.36e-05\n",
      "covid_tot_p100k_cases                              5.555e-06   1.41e-06      3.945      0.000     2.8e-06    8.31e-06\n",
      "pu_borough[T.Brooklyn]:covid_tot_p100k_cases      -9.276e-06   2.12e-06     -4.373      0.000   -1.34e-05   -5.12e-06\n",
      "pu_borough[T.Manhattan]:covid_tot_p100k_cases     -6.666e-06   3.07e-06     -2.173      0.030   -1.27e-05   -6.52e-07\n",
      "pu_borough[T.Queens]:covid_tot_p100k_cases        -4.628e-06   1.63e-06     -2.838      0.005   -7.82e-06   -1.43e-06\n",
      "pu_borough[T.Staten Island]:covid_tot_p100k_cases -5.219e-06   1.45e-06     -3.596      0.000   -8.06e-06   -2.37e-06\n",
      "flu_tot_p100k_cases                                   0.0002   4.27e-05      4.890      0.000       0.000       0.000\n",
      "pu_borough[T.Brooklyn]:flu_tot_p100k_cases            0.0008      0.000      7.248      0.000       0.001       0.001\n",
      "pu_borough[T.Manhattan]:flu_tot_p100k_cases           0.0002      0.000      0.628      0.530      -0.000       0.001\n",
      "pu_borough[T.Queens]:flu_tot_p100k_cases             -0.0003   5.64e-05     -5.486      0.000      -0.000      -0.000\n",
      "pu_borough[T.Staten Island]:flu_tot_p100k_cases       0.0002   6.08e-05      2.564      0.010    3.67e-05       0.000\n",
      "=====================================================================================================================\n"
     ]
    }
   ],
   "source": [
    "print(gamma_model.summary())"
   ]
  },
  {
   "cell_type": "code",
   "execution_count": 20,
   "metadata": {},
   "outputs": [
    {
     "data": {
      "image/png": "[encoded data removed]",
      "text/plain": [
       "<Figure size 432x288 with 1 Axes>"
      ]
     },
     "metadata": {
      "needs_background": "light"
     },
     "output_type": "display_data"
    }
   ],
   "source": [
    "# show and plot the diagnostic observed vs fitted\n",
    "ph.diagnostic_observed_fitted(joined_pu_df, gamma_model, 'avg_trip_distance',\n",
    "    'Average Weekly Trip Distance (Miles)')"
   ]
  }
 ],
 "metadata": {
  "kernelspec": {
   "display_name": "Python 3.8.10 64-bit",
   "language": "python",
   "name": "python3"
  },
  "language_info": {
   "codemirror_mode": {
    "name": "ipython",
    "version": 3
   },
   "file_extension": ".py",
   "mimetype": "text/x-python",
   "name": "python",
   "nbconvert_exporter": "python",
   "pygments_lexer": "ipython3",
   "version": "3.8.10"
  },
  "orig_nbformat": 4,
  "vscode": {
   "interpreter": {
    "hash": "916dbcbb3f70747c44a77c7bcd40155683ae19c65e1c03b4aa3499c5328201f1"
   }
  }
 },
 "nbformat": 4,
 "nbformat_minor": 2
}
