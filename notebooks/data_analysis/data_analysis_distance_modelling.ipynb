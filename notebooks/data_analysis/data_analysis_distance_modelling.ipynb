{
 "cells": [
  {
   "cell_type": "code",
   "execution_count": 1,
   "metadata": {},
   "outputs": [],
   "source": [
    "# imports used throughout this notebook\n",
    "from pyspark.sql import DataFrame, Column, Window\n",
    "from pyspark.sql.types import IntegerType\n",
    "from pyspark.sql import functions as F\n",
    "import matplotlib.pyplot as plt\n",
    "import statsmodels.api as sm\n",
    "from statsmodels.formula.api import ols\n",
    "from statsmodels.graphics.api import abline_plot\n",
    "import pandas as pd\n",
    "import os\n",
    "import sys\n",
    "\n",
    "# add homemade helpers\n",
    "sys.path.insert(1, '../../scripts')\n",
    "import helpers.join_helpers as jh\n",
    "import helpers.plot_helpers as ph\n",
    "\n",
    "# path where the data files are stored\n",
    "DATA_PATH = '../../data'"
   ]
  },
  {
   "cell_type": "code",
   "execution_count": 2,
   "metadata": {},
   "outputs": [
    {
     "name": "stdout",
     "output_type": "stream",
     "text": [
      "22/08/19 02:44:30 WARN Utils: Your hostname, Polaris resolves to a loopback address: 127.0.1.1; using 172.18.171.75 instead (on interface eth0)\n",
      "22/08/19 02:44:30 WARN Utils: Set SPARK_LOCAL_IP if you need to bind to another address\n"
     ]
    },
    {
     "name": "stderr",
     "output_type": "stream",
     "text": [
      "Setting default log level to \"WARN\".\n",
      "To adjust logging level use sc.setLogLevel(newLevel). For SparkR, use setLogLevel(newLevel).\n"
     ]
    },
    {
     "name": "stdout",
     "output_type": "stream",
     "text": [
      "22/08/19 02:44:32 WARN NativeCodeLoader: Unable to load native-hadoop library for your platform... using builtin-java classes where applicable\n"
     ]
    }
   ],
   "source": [
    "from pyspark.sql import SparkSession\n",
    "\n",
    "# Create a spark session (which will run spark jobs)\n",
    "spark = (\n",
    "    SparkSession.builder.appName('MAST30034 XT Project 1')\n",
    "    .config(\"spark.sql.session.timeZone\", \"Etc/UTC\")\n",
    "    .config('spark.sql.repl.eagerEval.enabled', True) \n",
    "    .config('spark.sql.parquet.cacheMetadata', 'true')\n",
    "    .config(\"spark.executor.memory\", \"2g\")\n",
    "    .config(\"spark.driver.memory\", \"4g\")\n",
    "    .getOrCreate()\n",
    ")"
   ]
  },
  {
   "cell_type": "code",
   "execution_count": 3,
   "metadata": {},
   "outputs": [
    {
     "data": {
      "text/html": [
       "<table border='1'>\n",
       "<tr><th>week_year</th><th>week_month</th><th>week_ending</th><th>week_index</th><th>timeline</th><th>borough</th><th>population</th><th>tot_cases</th><th>tot_pc_cases</th><th>tot_p100k_cases</th></tr>\n",
       "<tr><td>2020</td><td>11</td><td>2020-11-07</td><td>149</td><td>2</td><td>Staten Island</td><td>495522.0</td><td>699.0</td><td>0.001410633634833...</td><td>141.06336348335694</td></tr>\n",
       "<tr><td>2021</td><td>5</td><td>2021-05-29</td><td>178</td><td>2</td><td>Staten Island</td><td>493494.0</td><td>177.0</td><td>3.586669746744641...</td><td>35.866697467446414</td></tr>\n",
       "<tr><td>2020</td><td>4</td><td>2020-04-04</td><td>118</td><td>1</td><td>Staten Island</td><td>495522.0</td><td>2188.0</td><td>0.004415545626632118</td><td>441.5545626632117</td></tr>\n",
       "<tr><td>2020</td><td>7</td><td>2020-07-25</td><td>134</td><td>2</td><td>Staten Island</td><td>495522.0</td><td>158.0</td><td>3.188556713929956...</td><td>31.885567139299567</td></tr>\n",
       "<tr><td>2021</td><td>3</td><td>2021-03-13</td><td>167</td><td>2</td><td>Staten Island</td><td>493494.0</td><td>1532.0</td><td>0.003104394379668...</td><td>310.4394379668243</td></tr>\n",
       "</table>\n"
      ],
      "text/plain": [
       "+---------+----------+-----------+----------+--------+-------------+----------+---------+--------------------+------------------+\n",
       "|week_year|week_month|week_ending|week_index|timeline|      borough|population|tot_cases|        tot_pc_cases|   tot_p100k_cases|\n",
       "+---------+----------+-----------+----------+--------+-------------+----------+---------+--------------------+------------------+\n",
       "|     2020|        11| 2020-11-07|       149|       2|Staten Island|  495522.0|    699.0|0.001410633634833...|141.06336348335694|\n",
       "|     2021|         5| 2021-05-29|       178|       2|Staten Island|  493494.0|    177.0|3.586669746744641...|35.866697467446414|\n",
       "|     2020|         4| 2020-04-04|       118|       1|Staten Island|  495522.0|   2188.0|0.004415545626632118| 441.5545626632117|\n",
       "|     2020|         7| 2020-07-25|       134|       2|Staten Island|  495522.0|    158.0|3.188556713929956...|31.885567139299567|\n",
       "|     2021|         3| 2021-03-13|       167|       2|Staten Island|  493494.0|   1532.0|0.003104394379668...| 310.4394379668243|\n",
       "+---------+----------+-----------+----------+--------+-------------+----------+---------+--------------------+------------------+"
      ]
     },
     "execution_count": 3,
     "metadata": {},
     "output_type": "execute_result"
    }
   ],
   "source": [
    "# read in the aggregated covid data\n",
    "covid_df = spark.read.parquet(f'{DATA_PATH}/curated/virals/covid/aggregated/cases_by_week')\n",
    "covid_df.limit(5)"
   ]
  },
  {
   "cell_type": "code",
   "execution_count": 4,
   "metadata": {},
   "outputs": [
    {
     "data": {
      "text/html": [
       "<table border='1'>\n",
       "<tr><th>week_year</th><th>week_month</th><th>week_ending</th><th>week_index</th><th>timeline</th><th>borough</th><th>population</th><th>tot_cases</th><th>tot_pc_cases</th><th>tot_p100k_cases</th></tr>\n",
       "<tr><td>2019</td><td>1</td><td>2019-01-05</td><td>53</td><td>1</td><td>Bronx</td><td>1418207.0</td><td>495.0</td><td>3.490322639783896E-4</td><td>34.903226397838964</td></tr>\n",
       "<tr><td>2019</td><td>10</td><td>2019-10-19</td><td>94</td><td>1</td><td>Bronx</td><td>1418207.0</td><td>6.0</td><td>4.230694108828965E-6</td><td>0.4230694108828965</td></tr>\n",
       "<tr><td>2019</td><td>10</td><td>2019-10-12</td><td>93</td><td>1</td><td>Bronx</td><td>1418207.0</td><td>12.0</td><td>8.46138821765793E-6</td><td>0.846138821765793</td></tr>\n",
       "<tr><td>2019</td><td>3</td><td>2019-03-23</td><td>64</td><td>1</td><td>Bronx</td><td>1418207.0</td><td>488.0</td><td>3.440964541847558...</td><td>34.409645418475584</td></tr>\n",
       "<tr><td>2019</td><td>11</td><td>2019-11-23</td><td>99</td><td>1</td><td>Bronx</td><td>1418207.0</td><td>203.0</td><td>1.431384840153799...</td><td>14.313848401537998</td></tr>\n",
       "</table>\n"
      ],
      "text/plain": [
       "+---------+----------+-----------+----------+--------+-------+----------+---------+--------------------+------------------+\n",
       "|week_year|week_month|week_ending|week_index|timeline|borough|population|tot_cases|        tot_pc_cases|   tot_p100k_cases|\n",
       "+---------+----------+-----------+----------+--------+-------+----------+---------+--------------------+------------------+\n",
       "|     2019|         1| 2019-01-05|        53|       1|  Bronx| 1418207.0|    495.0|3.490322639783896E-4|34.903226397838964|\n",
       "|     2019|        10| 2019-10-19|        94|       1|  Bronx| 1418207.0|      6.0|4.230694108828965E-6|0.4230694108828965|\n",
       "|     2019|        10| 2019-10-12|        93|       1|  Bronx| 1418207.0|     12.0| 8.46138821765793E-6| 0.846138821765793|\n",
       "|     2019|         3| 2019-03-23|        64|       1|  Bronx| 1418207.0|    488.0|3.440964541847558...|34.409645418475584|\n",
       "|     2019|        11| 2019-11-23|        99|       1|  Bronx| 1418207.0|    203.0|1.431384840153799...|14.313848401537998|\n",
       "+---------+----------+-----------+----------+--------+-------+----------+---------+--------------------+------------------+"
      ]
     },
     "execution_count": 4,
     "metadata": {},
     "output_type": "execute_result"
    }
   ],
   "source": [
    "# read in the aggregated covid data\n",
    "flu_df = spark.read.parquet(f'{DATA_PATH}/curated/virals/flu/aggregated/cases_by_week')\n",
    "flu_df.limit(5)"
   ]
  },
  {
   "cell_type": "code",
   "execution_count": 5,
   "metadata": {},
   "outputs": [
    {
     "data": {
      "text/html": [
       "<table border='1'>\n",
       "<tr><th>week_year</th><th>week_month</th><th>week_ending</th><th>week_index</th><th>timeline</th><th>pu_borough</th><th>population</th><th>num_trips</th><th>num_pc_trips</th><th>num_p100k_trips</th><th>avg_passengers</th><th>avg_trip_distance</th></tr>\n",
       "<tr><td>2020</td><td>9</td><td>2020-09-19</td><td>142</td><td>2</td><td>Brooklyn</td><td>2727393.0</td><td>2290</td><td>8.396296389995868E-4</td><td>83.96296389995868</td><td>1.3458515283842796</td><td>2.9860742358078567</td></tr>\n",
       "<tr><td>2021</td><td>2</td><td>2021-02-20</td><td>164</td><td>2</td><td>Manhattan</td><td>1576876.0</td><td>291970</td><td>0.1851572349379406</td><td>18515.72349379406</td><td>1.4186286262287222</td><td>2.1355327944651927</td></tr>\n",
       "<tr><td>2020</td><td>9</td><td>2020-09-19</td><td>142</td><td>2</td><td>Staten Island</td><td>495522.0</td><td>39</td><td>7.870488091346096E-5</td><td>7.870488091346096</td><td>1.0</td><td>31.242307692307698</td></tr>\n",
       "<tr><td>2021</td><td>1</td><td>2021-01-09</td><td>158</td><td>2</td><td>Staten Island</td><td>493494.0</td><td>55</td><td>1.114501898705962E-4</td><td>11.14501898705962</td><td>1.0363636363636364</td><td>30.25254545454545</td></tr>\n",
       "<tr><td>2020</td><td>9</td><td>2020-09-26</td><td>143</td><td>2</td><td>Bronx</td><td>1466438.0</td><td>904</td><td>6.164597480425358E-4</td><td>61.64597480425357</td><td>1.3152654867256637</td><td>3.758019911504429</td></tr>\n",
       "</table>\n"
      ],
      "text/plain": [
       "+---------+----------+-----------+----------+--------+-------------+----------+---------+--------------------+-----------------+------------------+------------------+\n",
       "|week_year|week_month|week_ending|week_index|timeline|   pu_borough|population|num_trips|        num_pc_trips|  num_p100k_trips|    avg_passengers| avg_trip_distance|\n",
       "+---------+----------+-----------+----------+--------+-------------+----------+---------+--------------------+-----------------+------------------+------------------+\n",
       "|     2020|         9| 2020-09-19|       142|       2|     Brooklyn| 2727393.0|     2290|8.396296389995868E-4|83.96296389995868|1.3458515283842796|2.9860742358078567|\n",
       "|     2021|         2| 2021-02-20|       164|       2|    Manhattan| 1576876.0|   291970|  0.1851572349379406|18515.72349379406|1.4186286262287222|2.1355327944651927|\n",
       "|     2020|         9| 2020-09-19|       142|       2|Staten Island|  495522.0|       39|7.870488091346096E-5|7.870488091346096|               1.0|31.242307692307698|\n",
       "|     2021|         1| 2021-01-09|       158|       2|Staten Island|  493494.0|       55|1.114501898705962E-4|11.14501898705962|1.0363636363636364| 30.25254545454545|\n",
       "|     2020|         9| 2020-09-26|       143|       2|        Bronx| 1466438.0|      904|6.164597480425358E-4|61.64597480425357|1.3152654867256637| 3.758019911504429|\n",
       "+---------+----------+-----------+----------+--------+-------------+----------+---------+--------------------+-----------------+------------------+------------------+"
      ]
     },
     "execution_count": 5,
     "metadata": {},
     "output_type": "execute_result"
    }
   ],
   "source": [
    "# read in the aggregated yellow tlc data\n",
    "tlc_pu_df = spark.read.parquet(f'{DATA_PATH}/curated/tlc/aggregated/yellow/by_pu')\n",
    "tlc_pu_df.limit(5)"
   ]
  },
  {
   "cell_type": "code",
   "execution_count": 6,
   "metadata": {},
   "outputs": [],
   "source": [
    "# join the datasets by week_index\n",
    "joined_pu_df = jh.join_by_week_by_borough(tlc_pu_df, covid_df, 'covid')\n",
    "joined_pu_df = jh.join_by_week_by_borough(joined_pu_df, flu_df, 'flu')"
   ]
  },
  {
   "cell_type": "code",
   "execution_count": 7,
   "metadata": {},
   "outputs": [],
   "source": [
    "# filter for only timeline 2\n",
    "joined_pu_df = joined_pu_df.where(F.col('timeline') == 2)"
   ]
  },
  {
   "cell_type": "code",
   "execution_count": 8,
   "metadata": {},
   "outputs": [
    {
     "name": "stdout",
     "output_type": "stream",
     "text": [
      "22/08/19 02:44:39 WARN package: Truncated the string representation of a plan since it was too large. This behavior can be adjusted by setting 'spark.sql.debug.maxToStringFields'.\n"
     ]
    },
    {
     "data": {
      "text/html": [
       "<table border='1'>\n",
       "<tr><th>week_year</th><th>week_month</th><th>week_ending</th><th>week_index</th><th>timeline</th><th>pu_borough</th><th>population</th><th>num_trips</th><th>num_pc_trips</th><th>num_p100k_trips</th><th>avg_passengers</th><th>avg_trip_distance</th><th>covid_week_year</th><th>covid_week_month</th><th>covid_week_ending</th><th>covid_week_index</th><th>covid_timeline</th><th>covid_borough</th><th>covid_population</th><th>covid_tot_cases</th><th>covid_tot_pc_cases</th><th>covid_tot_p100k_cases</th><th>flu_week_year</th><th>flu_week_month</th><th>flu_week_ending</th><th>flu_week_index</th><th>flu_timeline</th><th>flu_borough</th><th>flu_population</th><th>flu_tot_cases</th><th>flu_tot_pc_cases</th><th>flu_tot_p100k_cases</th></tr>\n",
       "<tr><td>2020</td><td>9</td><td>2020-09-19</td><td>142</td><td>2</td><td>Brooklyn</td><td>2727393.0</td><td>2290</td><td>8.396296389995868E-4</td><td>83.96296389995868</td><td>1.3458515283842796</td><td>2.9860742358078567</td><td>2020</td><td>9</td><td>2020-09-12</td><td>141</td><td>2</td><td>Brooklyn</td><td>2727393.0</td><td>693.0</td><td>2.540887946841544...</td><td>25.408879468415442</td><td>null</td><td>null</td><td>null</td><td>null</td><td>null</td><td>null</td><td>null</td><td>null</td><td>null</td><td>null</td></tr>\n",
       "<tr><td>2021</td><td>2</td><td>2021-02-20</td><td>164</td><td>2</td><td>Manhattan</td><td>1576876.0</td><td>291970</td><td>0.1851572349379406</td><td>18515.72349379406</td><td>1.4186286262287222</td><td>2.1355327944651927</td><td>2021</td><td>2</td><td>2021-02-13</td><td>163</td><td>2</td><td>Manhattan</td><td>1576876.0</td><td>3218.0</td><td>0.002040743850499...</td><td>204.07438504993416</td><td>2021</td><td>2</td><td>2021-02-13</td><td>163</td><td>2</td><td>Manhattan</td><td>1576876.0</td><td>3.0</td><td>1.902495820850846...</td><td>0.1902495820850847</td></tr>\n",
       "<tr><td>2020</td><td>9</td><td>2020-09-19</td><td>142</td><td>2</td><td>Staten Island</td><td>495522.0</td><td>39</td><td>7.870488091346096E-5</td><td>7.870488091346096</td><td>1.0</td><td>31.242307692307698</td><td>2020</td><td>9</td><td>2020-09-12</td><td>141</td><td>2</td><td>Staten Island</td><td>495522.0</td><td>148.0</td><td>2.986749326972364...</td><td>29.867493269723646</td><td>null</td><td>null</td><td>null</td><td>null</td><td>null</td><td>null</td><td>null</td><td>null</td><td>null</td><td>null</td></tr>\n",
       "<tr><td>2021</td><td>1</td><td>2021-01-09</td><td>158</td><td>2</td><td>Staten Island</td><td>493494.0</td><td>55</td><td>1.114501898705962E-4</td><td>11.14501898705962</td><td>1.0363636363636364</td><td>30.25254545454545</td><td>2020</td><td>12</td><td>2021-01-02</td><td>157</td><td>2</td><td>Staten Island</td><td>495522.0</td><td>2941.0</td><td>0.005935155250422787</td><td>593.5155250422787</td><td>2020</td><td>12</td><td>2021-01-02</td><td>157</td><td>2</td><td>Staten Island</td><td>495522.0</td><td>4.0</td><td>8.072295478303688E-6</td><td>0.8072295478303688</td></tr>\n",
       "<tr><td>2020</td><td>9</td><td>2020-09-26</td><td>143</td><td>2</td><td>Bronx</td><td>1466438.0</td><td>904</td><td>6.164597480425358E-4</td><td>61.64597480425357</td><td>1.3152654867256637</td><td>3.758019911504429</td><td>2020</td><td>9</td><td>2020-09-19</td><td>142</td><td>2</td><td>Bronx</td><td>1466438.0</td><td>352.0</td><td>2.400374240165625...</td><td>24.003742401656257</td><td>null</td><td>null</td><td>null</td><td>null</td><td>null</td><td>null</td><td>null</td><td>null</td><td>null</td><td>null</td></tr>\n",
       "</table>\n"
      ],
      "text/plain": [
       "+---------+----------+-----------+----------+--------+-------------+----------+---------+--------------------+-----------------+------------------+------------------+---------------+----------------+-----------------+----------------+--------------+-------------+----------------+---------------+--------------------+---------------------+-------------+--------------+---------------+--------------+------------+-------------+--------------+-------------+--------------------+-------------------+\n",
       "|week_year|week_month|week_ending|week_index|timeline|   pu_borough|population|num_trips|        num_pc_trips|  num_p100k_trips|    avg_passengers| avg_trip_distance|covid_week_year|covid_week_month|covid_week_ending|covid_week_index|covid_timeline|covid_borough|covid_population|covid_tot_cases|  covid_tot_pc_cases|covid_tot_p100k_cases|flu_week_year|flu_week_month|flu_week_ending|flu_week_index|flu_timeline|  flu_borough|flu_population|flu_tot_cases|    flu_tot_pc_cases|flu_tot_p100k_cases|\n",
       "+---------+----------+-----------+----------+--------+-------------+----------+---------+--------------------+-----------------+------------------+------------------+---------------+----------------+-----------------+----------------+--------------+-------------+----------------+---------------+--------------------+---------------------+-------------+--------------+---------------+--------------+------------+-------------+--------------+-------------+--------------------+-------------------+\n",
       "|     2020|         9| 2020-09-19|       142|       2|     Brooklyn| 2727393.0|     2290|8.396296389995868E-4|83.96296389995868|1.3458515283842796|2.9860742358078567|           2020|               9|       2020-09-12|             141|             2|     Brooklyn|       2727393.0|          693.0|2.540887946841544...|   25.408879468415442|         null|          null|           null|          null|        null|         null|          null|         null|                null|               null|\n",
       "|     2021|         2| 2021-02-20|       164|       2|    Manhattan| 1576876.0|   291970|  0.1851572349379406|18515.72349379406|1.4186286262287222|2.1355327944651927|           2021|               2|       2021-02-13|             163|             2|    Manhattan|       1576876.0|         3218.0|0.002040743850499...|   204.07438504993416|         2021|             2|     2021-02-13|           163|           2|    Manhattan|     1576876.0|          3.0|1.902495820850846...| 0.1902495820850847|\n",
       "|     2020|         9| 2020-09-19|       142|       2|Staten Island|  495522.0|       39|7.870488091346096E-5|7.870488091346096|               1.0|31.242307692307698|           2020|               9|       2020-09-12|             141|             2|Staten Island|        495522.0|          148.0|2.986749326972364...|   29.867493269723646|         null|          null|           null|          null|        null|         null|          null|         null|                null|               null|\n",
       "|     2021|         1| 2021-01-09|       158|       2|Staten Island|  493494.0|       55|1.114501898705962E-4|11.14501898705962|1.0363636363636364| 30.25254545454545|           2020|              12|       2021-01-02|             157|             2|Staten Island|        495522.0|         2941.0|0.005935155250422787|    593.5155250422787|         2020|            12|     2021-01-02|           157|           2|Staten Island|      495522.0|          4.0|8.072295478303688E-6| 0.8072295478303688|\n",
       "|     2020|         9| 2020-09-26|       143|       2|        Bronx| 1466438.0|      904|6.164597480425358E-4|61.64597480425357|1.3152654867256637| 3.758019911504429|           2020|               9|       2020-09-19|             142|             2|        Bronx|       1466438.0|          352.0|2.400374240165625...|   24.003742401656257|         null|          null|           null|          null|        null|         null|          null|         null|                null|               null|\n",
       "+---------+----------+-----------+----------+--------+-------------+----------+---------+--------------------+-----------------+------------------+------------------+---------------+----------------+-----------------+----------------+--------------+-------------+----------------+---------------+--------------------+---------------------+-------------+--------------+---------------+--------------+------------+-------------+--------------+-------------+--------------------+-------------------+"
      ]
     },
     "execution_count": 8,
     "metadata": {},
     "output_type": "execute_result"
    }
   ],
   "source": [
    "joined_pu_df.limit(5)"
   ]
  },
  {
   "cell_type": "code",
   "execution_count": 9,
   "metadata": {},
   "outputs": [],
   "source": [
    "# remove all columns except those being fitted\n",
    "joined_pu_df = joined_pu_df.select(\n",
    "    F.col('avg_trip_distance'),\n",
    "    (F.col('week_index') - 1).alias('pre_week_ending'),\n",
    "    F.col('pu_borough'),\n",
    "    F.col('covid_tot_p100k_cases'),\n",
    "    F.col('flu_tot_p100k_cases')\n",
    ")"
   ]
  },
  {
   "cell_type": "code",
   "execution_count": 17,
   "metadata": {},
   "outputs": [],
   "source": [
    "# convert the dataframe to pandas type\n",
    "joined_pu_df = joined_pu_df.toPandas()"
   ]
  },
  {
   "cell_type": "code",
   "execution_count": 18,
   "metadata": {},
   "outputs": [],
   "source": [
    "model = ols(\n",
    "    formula = 'avg_trip_distance ~ pre_week_ending + pu_borough * covid_tot_p100k_cases + pu_borough * flu_tot_p100k_cases',\n",
    "    data = joined_pu_df\n",
    ").fit()\n"
   ]
  },
  {
   "cell_type": "code",
   "execution_count": 19,
   "metadata": {},
   "outputs": [
    {
     "name": "stdout",
     "output_type": "stream",
     "text": [
      "                            OLS Regression Results                            \n",
      "==============================================================================\n",
      "Dep. Variable:      avg_trip_distance   R-squared:                       0.989\n",
      "Model:                            OLS   Adj. R-squared:                  0.988\n",
      "Method:                 Least Squares   F-statistic:                     936.6\n",
      "Date:                Fri, 19 Aug 2022   Prob (F-statistic):          6.30e-143\n",
      "Time:                        02:47:47   Log-Likelihood:                -235.95\n",
      "No. Observations:                 170   AIC:                             503.9\n",
      "Df Residuals:                     154   BIC:                             554.1\n",
      "Df Model:                          15                                         \n",
      "Covariance Type:            nonrobust                                         \n",
      "=====================================================================================================================\n",
      "                                                        coef    std err          t      P>|t|      [0.025      0.975]\n",
      "---------------------------------------------------------------------------------------------------------------------\n",
      "Intercept                                             4.8373      1.373      3.523      0.001       2.125       7.550\n",
      "pu_borough[T.Brooklyn]                               -0.0315      0.528     -0.060      0.953      -1.074       1.011\n",
      "pu_borough[T.Manhattan]                              -1.3611      0.523     -2.600      0.010      -2.395      -0.327\n",
      "pu_borough[T.Queens]                                  6.9451      0.547     12.704      0.000       5.865       8.025\n",
      "pu_borough[T.Staten Island]                          21.0596      0.528     39.872      0.000      20.016      22.103\n",
      "pre_week_ending                                      -0.0080      0.008     -0.969      0.334      -0.024       0.008\n",
      "covid_tot_p100k_cases                                 0.0021      0.001      1.585      0.115      -0.001       0.005\n",
      "pu_borough[T.Brooklyn]:covid_tot_p100k_cases         -0.0011      0.003     -0.389      0.698      -0.007       0.005\n",
      "pu_borough[T.Manhattan]:covid_tot_p100k_cases        -0.0024      0.003     -0.886      0.377      -0.008       0.003\n",
      "pu_borough[T.Queens]:covid_tot_p100k_cases           -0.0007      0.002     -0.311      0.756      -0.005       0.004\n",
      "pu_borough[T.Staten Island]:covid_tot_p100k_cases     0.0060      0.002      3.487      0.001       0.003       0.009\n",
      "flu_tot_p100k_cases                                   0.0031      0.853      0.004      0.997      -1.682       1.688\n",
      "pu_borough[T.Brooklyn]:flu_tot_p100k_cases            0.0516      1.065      0.048      0.961      -2.052       2.155\n",
      "pu_borough[T.Manhattan]:flu_tot_p100k_cases          -0.0058      0.886     -0.007      0.995      -1.756       1.744\n",
      "pu_borough[T.Queens]:flu_tot_p100k_cases             -0.4160      1.114     -0.373      0.709      -2.617       1.785\n",
      "pu_borough[T.Staten Island]:flu_tot_p100k_cases       0.2810      0.880      0.319      0.750      -1.457       2.019\n",
      "==============================================================================\n",
      "Omnibus:                       41.776   Durbin-Watson:                   1.987\n",
      "Prob(Omnibus):                  0.000   Jarque-Bera (JB):              416.726\n",
      "Skew:                          -0.464   Prob(JB):                     3.23e-91\n",
      "Kurtosis:                      10.614   Cond. No.                     7.81e+03\n",
      "==============================================================================\n",
      "\n",
      "Notes:\n",
      "[1] Standard Errors assume that the covariance matrix of the errors is correctly specified.\n",
      "[2] The condition number is large, 7.81e+03. This might indicate that there are\n",
      "strong multicollinearity or other numerical problems.\n"
     ]
    }
   ],
   "source": [
    "print(model.summary())"
   ]
  },
  {
   "cell_type": "code",
   "execution_count": 20,
   "metadata": {},
   "outputs": [
    {
     "data": {
      "text/html": [
       "<div>\n",
       "<style scoped>\n",
       "    .dataframe tbody tr th:only-of-type {\n",
       "        vertical-align: middle;\n",
       "    }\n",
       "\n",
       "    .dataframe tbody tr th {\n",
       "        vertical-align: top;\n",
       "    }\n",
       "\n",
       "    .dataframe thead th {\n",
       "        text-align: right;\n",
       "    }\n",
       "</style>\n",
       "<table border=\"1\" class=\"dataframe\">\n",
       "  <thead>\n",
       "    <tr style=\"text-align: right;\">\n",
       "      <th></th>\n",
       "      <th>sum_sq</th>\n",
       "      <th>df</th>\n",
       "      <th>F</th>\n",
       "      <th>PR(&gt;F)</th>\n",
       "    </tr>\n",
       "  </thead>\n",
       "  <tbody>\n",
       "    <tr>\n",
       "      <th>pu_borough</th>\n",
       "      <td>12684.293728</td>\n",
       "      <td>4.0</td>\n",
       "      <td>3056.468500</td>\n",
       "      <td>1.537003e-145</td>\n",
       "    </tr>\n",
       "    <tr>\n",
       "      <th>pre_week_ending</th>\n",
       "      <td>0.974510</td>\n",
       "      <td>1.0</td>\n",
       "      <td>0.939290</td>\n",
       "      <td>3.339801e-01</td>\n",
       "    </tr>\n",
       "    <tr>\n",
       "      <th>covid_tot_p100k_cases</th>\n",
       "      <td>38.206126</td>\n",
       "      <td>1.0</td>\n",
       "      <td>36.825328</td>\n",
       "      <td>9.635711e-09</td>\n",
       "    </tr>\n",
       "    <tr>\n",
       "      <th>pu_borough:covid_tot_p100k_cases</th>\n",
       "      <td>24.558254</td>\n",
       "      <td>4.0</td>\n",
       "      <td>5.917675</td>\n",
       "      <td>1.862774e-04</td>\n",
       "    </tr>\n",
       "    <tr>\n",
       "      <th>flu_tot_p100k_cases</th>\n",
       "      <td>0.637668</td>\n",
       "      <td>1.0</td>\n",
       "      <td>0.614622</td>\n",
       "      <td>4.342569e-01</td>\n",
       "    </tr>\n",
       "    <tr>\n",
       "      <th>pu_borough:flu_tot_p100k_cases</th>\n",
       "      <td>1.469776</td>\n",
       "      <td>4.0</td>\n",
       "      <td>0.354164</td>\n",
       "      <td>8.408334e-01</td>\n",
       "    </tr>\n",
       "    <tr>\n",
       "      <th>Residual</th>\n",
       "      <td>159.774363</td>\n",
       "      <td>154.0</td>\n",
       "      <td>NaN</td>\n",
       "      <td>NaN</td>\n",
       "    </tr>\n",
       "  </tbody>\n",
       "</table>\n",
       "</div>"
      ],
      "text/plain": [
       "                                        sum_sq     df            F  \\\n",
       "pu_borough                        12684.293728    4.0  3056.468500   \n",
       "pre_week_ending                       0.974510    1.0     0.939290   \n",
       "covid_tot_p100k_cases                38.206126    1.0    36.825328   \n",
       "pu_borough:covid_tot_p100k_cases     24.558254    4.0     5.917675   \n",
       "flu_tot_p100k_cases                   0.637668    1.0     0.614622   \n",
       "pu_borough:flu_tot_p100k_cases        1.469776    4.0     0.354164   \n",
       "Residual                            159.774363  154.0          NaN   \n",
       "\n",
       "                                         PR(>F)  \n",
       "pu_borough                        1.537003e-145  \n",
       "pre_week_ending                    3.339801e-01  \n",
       "covid_tot_p100k_cases              9.635711e-09  \n",
       "pu_borough:covid_tot_p100k_cases   1.862774e-04  \n",
       "flu_tot_p100k_cases                4.342569e-01  \n",
       "pu_borough:flu_tot_p100k_cases     8.408334e-01  \n",
       "Residual                                    NaN  "
      ]
     },
     "execution_count": 20,
     "metadata": {},
     "output_type": "execute_result"
    }
   ],
   "source": [
    "table = sm.stats.anova_lm(model, typ=2)\n",
    "table"
   ]
  },
  {
   "cell_type": "code",
   "execution_count": 32,
   "metadata": {},
   "outputs": [
    {
     "data": {
      "image/png": "[encoded data removed]",
      "text/plain": [
       "<Figure size 432x288 with 1 Axes>"
      ]
     },
     "metadata": {
      "needs_background": "light"
     },
     "output_type": "display_data"
    }
   ],
   "source": [
    "fig, ax = plt.subplots()\n",
    "ax.scatter(model.predict(), joined_pu_df['avg_trip_distance'].iloc[model.fittedvalues.index])\n",
    "line_fit = sm.OLS(joined_pu_df['avg_trip_distance'].iloc[model.fittedvalues.index], \n",
    "    sm.add_constant(model.predict(), prepend=True)).fit()\n",
    "abline_plot(model_results=line_fit, ax=ax)\n",
    "\n",
    "\n",
    "ax.set_title('Model Fit Plot')\n",
    "ax.set_ylabel('Observed Average Weekly Trip Distance (Miles)')\n",
    "ax.set_xlabel('Fitted Average Weekly Trip Distance (Miles)');\n",
    "\n",
    "# show and save the plot\n",
    "plt.savefig(\n",
    "    f'../../plots/diagnostic-{ax.get_ylabel()}-vs-{ax.get_xlabel()}.png',\n",
    "    bbox_inches='tight',\n",
    "    dpi=300\n",
    ")\n",
    "plt.show()"
   ]
  }
 ],
 "metadata": {
  "kernelspec": {
   "display_name": "Python 3.8.10 64-bit",
   "language": "python",
   "name": "python3"
  },
  "language_info": {
   "codemirror_mode": {
    "name": "ipython",
    "version": 3
   },
   "file_extension": ".py",
   "mimetype": "text/x-python",
   "name": "python",
   "nbconvert_exporter": "python",
   "pygments_lexer": "ipython3",
   "version": "3.8.10"
  },
  "orig_nbformat": 4,
  "vscode": {
   "interpreter": {
    "hash": "916dbcbb3f70747c44a77c7bcd40155683ae19c65e1c03b4aa3499c5328201f1"
   }
  }
 },
 "nbformat": 4,
 "nbformat_minor": 2
}
