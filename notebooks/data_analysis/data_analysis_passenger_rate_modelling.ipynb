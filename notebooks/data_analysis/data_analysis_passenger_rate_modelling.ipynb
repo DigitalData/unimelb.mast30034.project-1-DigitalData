{
 "cells": [
  {
   "cell_type": "code",
   "execution_count": 1,
   "metadata": {},
   "outputs": [],
   "source": [
    "# imports used throughout this notebook\n",
    "from pyspark.sql import DataFrame, Column, Window\n",
    "from pyspark.sql.types import IntegerType\n",
    "from pyspark.sql import functions as F\n",
    "import matplotlib.pyplot as plt\n",
    "import statsmodels.api as sm\n",
    "from statsmodels.formula.api import glm\n",
    "from statsmodels.genmod.families.family import Poisson\n",
    "from statsmodels.graphics.api import abline_plot\n",
    "import pandas as pd\n",
    "import os\n",
    "import sys\n",
    "\n",
    "# add homemade helpers\n",
    "sys.path.insert(1, '../../scripts')\n",
    "import helpers.join_helpers as jh\n",
    "import helpers.plot_helpers as ph\n",
    "\n",
    "# path where the data files are stored\n",
    "DATA_PATH = '../../data'"
   ]
  },
  {
   "cell_type": "code",
   "execution_count": 2,
   "metadata": {},
   "outputs": [
    {
     "name": "stdout",
     "output_type": "stream",
     "text": [
      "22/08/19 02:36:19 WARN Utils: Your hostname, Polaris resolves to a loopback address: 127.0.1.1; using 172.18.171.75 instead (on interface eth0)\n",
      "22/08/19 02:36:19 WARN Utils: Set SPARK_LOCAL_IP if you need to bind to another address\n"
     ]
    },
    {
     "name": "stderr",
     "output_type": "stream",
     "text": [
      "Setting default log level to \"WARN\".\n",
      "To adjust logging level use sc.setLogLevel(newLevel). For SparkR, use setLogLevel(newLevel).\n"
     ]
    },
    {
     "name": "stdout",
     "output_type": "stream",
     "text": [
      "22/08/19 02:36:20 WARN NativeCodeLoader: Unable to load native-hadoop library for your platform... using builtin-java classes where applicable\n",
      "22/08/19 02:36:21 WARN Utils: Service 'SparkUI' could not bind on port 4040. Attempting port 4041.\n"
     ]
    }
   ],
   "source": [
    "from pyspark.sql import SparkSession\n",
    "\n",
    "# Create a spark session (which will run spark jobs)\n",
    "spark = (\n",
    "    SparkSession.builder.appName('MAST30034 XT Project 1')\n",
    "    .config(\"spark.sql.session.timeZone\", \"Etc/UTC\")\n",
    "    .config('spark.sql.repl.eagerEval.enabled', True) \n",
    "    .config('spark.sql.parquet.cacheMetadata', 'true')\n",
    "    .config(\"spark.executor.memory\", \"2g\")\n",
    "    .config(\"spark.driver.memory\", \"4g\")\n",
    "    .getOrCreate()\n",
    ")"
   ]
  },
  {
   "cell_type": "code",
   "execution_count": 3,
   "metadata": {},
   "outputs": [
    {
     "data": {
      "text/html": [
       "<table border='1'>\n",
       "<tr><th>week_year</th><th>week_month</th><th>week_ending</th><th>week_index</th><th>timeline</th><th>borough</th><th>population</th><th>tot_cases</th><th>tot_pc_cases</th><th>tot_p100k_cases</th></tr>\n",
       "<tr><td>2020</td><td>11</td><td>2020-11-07</td><td>149</td><td>2</td><td>Staten Island</td><td>495522.0</td><td>699.0</td><td>0.001410633634833...</td><td>141.06336348335694</td></tr>\n",
       "<tr><td>2021</td><td>5</td><td>2021-05-29</td><td>178</td><td>2</td><td>Staten Island</td><td>493494.0</td><td>177.0</td><td>3.586669746744641...</td><td>35.866697467446414</td></tr>\n",
       "<tr><td>2020</td><td>4</td><td>2020-04-04</td><td>118</td><td>1</td><td>Staten Island</td><td>495522.0</td><td>2188.0</td><td>0.004415545626632118</td><td>441.5545626632117</td></tr>\n",
       "<tr><td>2020</td><td>7</td><td>2020-07-25</td><td>134</td><td>2</td><td>Staten Island</td><td>495522.0</td><td>158.0</td><td>3.188556713929956...</td><td>31.885567139299567</td></tr>\n",
       "<tr><td>2021</td><td>3</td><td>2021-03-13</td><td>167</td><td>2</td><td>Staten Island</td><td>493494.0</td><td>1532.0</td><td>0.003104394379668...</td><td>310.4394379668243</td></tr>\n",
       "</table>\n"
      ],
      "text/plain": [
       "+---------+----------+-----------+----------+--------+-------------+----------+---------+--------------------+------------------+\n",
       "|week_year|week_month|week_ending|week_index|timeline|      borough|population|tot_cases|        tot_pc_cases|   tot_p100k_cases|\n",
       "+---------+----------+-----------+----------+--------+-------------+----------+---------+--------------------+------------------+\n",
       "|     2020|        11| 2020-11-07|       149|       2|Staten Island|  495522.0|    699.0|0.001410633634833...|141.06336348335694|\n",
       "|     2021|         5| 2021-05-29|       178|       2|Staten Island|  493494.0|    177.0|3.586669746744641...|35.866697467446414|\n",
       "|     2020|         4| 2020-04-04|       118|       1|Staten Island|  495522.0|   2188.0|0.004415545626632118| 441.5545626632117|\n",
       "|     2020|         7| 2020-07-25|       134|       2|Staten Island|  495522.0|    158.0|3.188556713929956...|31.885567139299567|\n",
       "|     2021|         3| 2021-03-13|       167|       2|Staten Island|  493494.0|   1532.0|0.003104394379668...| 310.4394379668243|\n",
       "+---------+----------+-----------+----------+--------+-------------+----------+---------+--------------------+------------------+"
      ]
     },
     "execution_count": 3,
     "metadata": {},
     "output_type": "execute_result"
    }
   ],
   "source": [
    "# read in the aggregated covid data\n",
    "covid_df = spark.read.parquet(f'{DATA_PATH}/curated/virals/covid/aggregated/cases_by_week')\n",
    "covid_df.limit(5)"
   ]
  },
  {
   "cell_type": "code",
   "execution_count": 4,
   "metadata": {},
   "outputs": [
    {
     "data": {
      "text/html": [
       "<table border='1'>\n",
       "<tr><th>week_year</th><th>week_month</th><th>week_ending</th><th>week_index</th><th>timeline</th><th>borough</th><th>population</th><th>tot_cases</th><th>tot_pc_cases</th><th>tot_p100k_cases</th></tr>\n",
       "<tr><td>2019</td><td>1</td><td>2019-01-05</td><td>53</td><td>1</td><td>Bronx</td><td>1418207.0</td><td>495.0</td><td>3.490322639783896E-4</td><td>34.903226397838964</td></tr>\n",
       "<tr><td>2019</td><td>10</td><td>2019-10-19</td><td>94</td><td>1</td><td>Bronx</td><td>1418207.0</td><td>6.0</td><td>4.230694108828965E-6</td><td>0.4230694108828965</td></tr>\n",
       "<tr><td>2019</td><td>10</td><td>2019-10-12</td><td>93</td><td>1</td><td>Bronx</td><td>1418207.0</td><td>12.0</td><td>8.46138821765793E-6</td><td>0.846138821765793</td></tr>\n",
       "<tr><td>2019</td><td>3</td><td>2019-03-23</td><td>64</td><td>1</td><td>Bronx</td><td>1418207.0</td><td>488.0</td><td>3.440964541847558...</td><td>34.409645418475584</td></tr>\n",
       "<tr><td>2019</td><td>11</td><td>2019-11-23</td><td>99</td><td>1</td><td>Bronx</td><td>1418207.0</td><td>203.0</td><td>1.431384840153799...</td><td>14.313848401537998</td></tr>\n",
       "</table>\n"
      ],
      "text/plain": [
       "+---------+----------+-----------+----------+--------+-------+----------+---------+--------------------+------------------+\n",
       "|week_year|week_month|week_ending|week_index|timeline|borough|population|tot_cases|        tot_pc_cases|   tot_p100k_cases|\n",
       "+---------+----------+-----------+----------+--------+-------+----------+---------+--------------------+------------------+\n",
       "|     2019|         1| 2019-01-05|        53|       1|  Bronx| 1418207.0|    495.0|3.490322639783896E-4|34.903226397838964|\n",
       "|     2019|        10| 2019-10-19|        94|       1|  Bronx| 1418207.0|      6.0|4.230694108828965E-6|0.4230694108828965|\n",
       "|     2019|        10| 2019-10-12|        93|       1|  Bronx| 1418207.0|     12.0| 8.46138821765793E-6| 0.846138821765793|\n",
       "|     2019|         3| 2019-03-23|        64|       1|  Bronx| 1418207.0|    488.0|3.440964541847558...|34.409645418475584|\n",
       "|     2019|        11| 2019-11-23|        99|       1|  Bronx| 1418207.0|    203.0|1.431384840153799...|14.313848401537998|\n",
       "+---------+----------+-----------+----------+--------+-------+----------+---------+--------------------+------------------+"
      ]
     },
     "execution_count": 4,
     "metadata": {},
     "output_type": "execute_result"
    }
   ],
   "source": [
    "# read in the aggregated covid data\n",
    "flu_df = spark.read.parquet(f'{DATA_PATH}/curated/virals/flu/aggregated/cases_by_week')\n",
    "flu_df.limit(5)"
   ]
  },
  {
   "cell_type": "code",
   "execution_count": 5,
   "metadata": {},
   "outputs": [
    {
     "data": {
      "text/html": [
       "<table border='1'>\n",
       "<tr><th>week_year</th><th>week_month</th><th>week_ending</th><th>week_index</th><th>timeline</th><th>pu_borough</th><th>population</th><th>num_trips</th><th>num_pc_trips</th><th>num_p100k_trips</th><th>avg_passengers</th><th>avg_trip_distance</th></tr>\n",
       "<tr><td>2020</td><td>9</td><td>2020-09-19</td><td>142</td><td>2</td><td>Brooklyn</td><td>2727393.0</td><td>2290</td><td>8.396296389995868E-4</td><td>83.96296389995868</td><td>1.3458515283842796</td><td>2.9860742358078567</td></tr>\n",
       "<tr><td>2021</td><td>2</td><td>2021-02-20</td><td>164</td><td>2</td><td>Manhattan</td><td>1576876.0</td><td>291970</td><td>0.1851572349379406</td><td>18515.72349379406</td><td>1.4186286262287222</td><td>2.1355327944651927</td></tr>\n",
       "<tr><td>2020</td><td>9</td><td>2020-09-19</td><td>142</td><td>2</td><td>Staten Island</td><td>495522.0</td><td>39</td><td>7.870488091346096E-5</td><td>7.870488091346096</td><td>1.0</td><td>31.242307692307698</td></tr>\n",
       "<tr><td>2021</td><td>1</td><td>2021-01-09</td><td>158</td><td>2</td><td>Staten Island</td><td>493494.0</td><td>55</td><td>1.114501898705962E-4</td><td>11.14501898705962</td><td>1.0363636363636364</td><td>30.25254545454545</td></tr>\n",
       "<tr><td>2020</td><td>9</td><td>2020-09-26</td><td>143</td><td>2</td><td>Bronx</td><td>1466438.0</td><td>904</td><td>6.164597480425358E-4</td><td>61.64597480425357</td><td>1.3152654867256637</td><td>3.758019911504429</td></tr>\n",
       "</table>\n"
      ],
      "text/plain": [
       "+---------+----------+-----------+----------+--------+-------------+----------+---------+--------------------+-----------------+------------------+------------------+\n",
       "|week_year|week_month|week_ending|week_index|timeline|   pu_borough|population|num_trips|        num_pc_trips|  num_p100k_trips|    avg_passengers| avg_trip_distance|\n",
       "+---------+----------+-----------+----------+--------+-------------+----------+---------+--------------------+-----------------+------------------+------------------+\n",
       "|     2020|         9| 2020-09-19|       142|       2|     Brooklyn| 2727393.0|     2290|8.396296389995868E-4|83.96296389995868|1.3458515283842796|2.9860742358078567|\n",
       "|     2021|         2| 2021-02-20|       164|       2|    Manhattan| 1576876.0|   291970|  0.1851572349379406|18515.72349379406|1.4186286262287222|2.1355327944651927|\n",
       "|     2020|         9| 2020-09-19|       142|       2|Staten Island|  495522.0|       39|7.870488091346096E-5|7.870488091346096|               1.0|31.242307692307698|\n",
       "|     2021|         1| 2021-01-09|       158|       2|Staten Island|  493494.0|       55|1.114501898705962E-4|11.14501898705962|1.0363636363636364| 30.25254545454545|\n",
       "|     2020|         9| 2020-09-26|       143|       2|        Bronx| 1466438.0|      904|6.164597480425358E-4|61.64597480425357|1.3152654867256637| 3.758019911504429|\n",
       "+---------+----------+-----------+----------+--------+-------------+----------+---------+--------------------+-----------------+------------------+------------------+"
      ]
     },
     "execution_count": 5,
     "metadata": {},
     "output_type": "execute_result"
    }
   ],
   "source": [
    "# read in the aggregated yellow tlc data\n",
    "tlc_pu_df = spark.read.parquet(f'{DATA_PATH}/curated/tlc/aggregated/yellow/by_pu')\n",
    "tlc_pu_df.limit(5)"
   ]
  },
  {
   "cell_type": "code",
   "execution_count": 6,
   "metadata": {},
   "outputs": [],
   "source": [
    "# join the datasets by week_index\n",
    "joined_pu_df = jh.join_by_week_by_borough(tlc_pu_df, covid_df, 'covid')\n",
    "joined_pu_df = jh.join_by_week_by_borough(joined_pu_df, flu_df, 'flu')"
   ]
  },
  {
   "cell_type": "code",
   "execution_count": 7,
   "metadata": {},
   "outputs": [],
   "source": [
    "# filter for only timeline 2\n",
    "joined_pu_df = joined_pu_df.where(F.col('timeline') == 2)"
   ]
  },
  {
   "cell_type": "code",
   "execution_count": 8,
   "metadata": {},
   "outputs": [
    {
     "name": "stdout",
     "output_type": "stream",
     "text": [
      "22/08/19 02:36:27 WARN package: Truncated the string representation of a plan since it was too large. This behavior can be adjusted by setting 'spark.sql.debug.maxToStringFields'.\n"
     ]
    },
    {
     "data": {
      "text/html": [
       "<table border='1'>\n",
       "<tr><th>week_year</th><th>week_month</th><th>week_ending</th><th>week_index</th><th>timeline</th><th>pu_borough</th><th>population</th><th>num_trips</th><th>num_pc_trips</th><th>num_p100k_trips</th><th>avg_passengers</th><th>avg_trip_distance</th><th>covid_week_year</th><th>covid_week_month</th><th>covid_week_ending</th><th>covid_week_index</th><th>covid_timeline</th><th>covid_borough</th><th>covid_population</th><th>covid_tot_cases</th><th>covid_tot_pc_cases</th><th>covid_tot_p100k_cases</th><th>flu_week_year</th><th>flu_week_month</th><th>flu_week_ending</th><th>flu_week_index</th><th>flu_timeline</th><th>flu_borough</th><th>flu_population</th><th>flu_tot_cases</th><th>flu_tot_pc_cases</th><th>flu_tot_p100k_cases</th></tr>\n",
       "<tr><td>2020</td><td>9</td><td>2020-09-19</td><td>142</td><td>2</td><td>Brooklyn</td><td>2727393.0</td><td>2290</td><td>8.396296389995868E-4</td><td>83.96296389995868</td><td>1.3458515283842796</td><td>2.9860742358078567</td><td>2020</td><td>9</td><td>2020-09-12</td><td>141</td><td>2</td><td>Brooklyn</td><td>2727393.0</td><td>693.0</td><td>2.540887946841544...</td><td>25.408879468415442</td><td>null</td><td>null</td><td>null</td><td>null</td><td>null</td><td>null</td><td>null</td><td>null</td><td>null</td><td>null</td></tr>\n",
       "<tr><td>2021</td><td>2</td><td>2021-02-20</td><td>164</td><td>2</td><td>Manhattan</td><td>1576876.0</td><td>291970</td><td>0.1851572349379406</td><td>18515.72349379406</td><td>1.4186286262287222</td><td>2.1355327944651927</td><td>2021</td><td>2</td><td>2021-02-13</td><td>163</td><td>2</td><td>Manhattan</td><td>1576876.0</td><td>3218.0</td><td>0.002040743850499...</td><td>204.07438504993416</td><td>2021</td><td>2</td><td>2021-02-13</td><td>163</td><td>2</td><td>Manhattan</td><td>1576876.0</td><td>3.0</td><td>1.902495820850846...</td><td>0.1902495820850847</td></tr>\n",
       "<tr><td>2020</td><td>9</td><td>2020-09-19</td><td>142</td><td>2</td><td>Staten Island</td><td>495522.0</td><td>39</td><td>7.870488091346096E-5</td><td>7.870488091346096</td><td>1.0</td><td>31.242307692307698</td><td>2020</td><td>9</td><td>2020-09-12</td><td>141</td><td>2</td><td>Staten Island</td><td>495522.0</td><td>148.0</td><td>2.986749326972364...</td><td>29.867493269723646</td><td>null</td><td>null</td><td>null</td><td>null</td><td>null</td><td>null</td><td>null</td><td>null</td><td>null</td><td>null</td></tr>\n",
       "<tr><td>2021</td><td>1</td><td>2021-01-09</td><td>158</td><td>2</td><td>Staten Island</td><td>493494.0</td><td>55</td><td>1.114501898705962E-4</td><td>11.14501898705962</td><td>1.0363636363636364</td><td>30.25254545454545</td><td>2020</td><td>12</td><td>2021-01-02</td><td>157</td><td>2</td><td>Staten Island</td><td>495522.0</td><td>2941.0</td><td>0.005935155250422787</td><td>593.5155250422787</td><td>2020</td><td>12</td><td>2021-01-02</td><td>157</td><td>2</td><td>Staten Island</td><td>495522.0</td><td>4.0</td><td>8.072295478303688E-6</td><td>0.8072295478303688</td></tr>\n",
       "<tr><td>2020</td><td>9</td><td>2020-09-26</td><td>143</td><td>2</td><td>Bronx</td><td>1466438.0</td><td>904</td><td>6.164597480425358E-4</td><td>61.64597480425357</td><td>1.3152654867256637</td><td>3.758019911504429</td><td>2020</td><td>9</td><td>2020-09-19</td><td>142</td><td>2</td><td>Bronx</td><td>1466438.0</td><td>352.0</td><td>2.400374240165625...</td><td>24.003742401656257</td><td>null</td><td>null</td><td>null</td><td>null</td><td>null</td><td>null</td><td>null</td><td>null</td><td>null</td><td>null</td></tr>\n",
       "</table>\n"
      ],
      "text/plain": [
       "+---------+----------+-----------+----------+--------+-------------+----------+---------+--------------------+-----------------+------------------+------------------+---------------+----------------+-----------------+----------------+--------------+-------------+----------------+---------------+--------------------+---------------------+-------------+--------------+---------------+--------------+------------+-------------+--------------+-------------+--------------------+-------------------+\n",
       "|week_year|week_month|week_ending|week_index|timeline|   pu_borough|population|num_trips|        num_pc_trips|  num_p100k_trips|    avg_passengers| avg_trip_distance|covid_week_year|covid_week_month|covid_week_ending|covid_week_index|covid_timeline|covid_borough|covid_population|covid_tot_cases|  covid_tot_pc_cases|covid_tot_p100k_cases|flu_week_year|flu_week_month|flu_week_ending|flu_week_index|flu_timeline|  flu_borough|flu_population|flu_tot_cases|    flu_tot_pc_cases|flu_tot_p100k_cases|\n",
       "+---------+----------+-----------+----------+--------+-------------+----------+---------+--------------------+-----------------+------------------+------------------+---------------+----------------+-----------------+----------------+--------------+-------------+----------------+---------------+--------------------+---------------------+-------------+--------------+---------------+--------------+------------+-------------+--------------+-------------+--------------------+-------------------+\n",
       "|     2020|         9| 2020-09-19|       142|       2|     Brooklyn| 2727393.0|     2290|8.396296389995868E-4|83.96296389995868|1.3458515283842796|2.9860742358078567|           2020|               9|       2020-09-12|             141|             2|     Brooklyn|       2727393.0|          693.0|2.540887946841544...|   25.408879468415442|         null|          null|           null|          null|        null|         null|          null|         null|                null|               null|\n",
       "|     2021|         2| 2021-02-20|       164|       2|    Manhattan| 1576876.0|   291970|  0.1851572349379406|18515.72349379406|1.4186286262287222|2.1355327944651927|           2021|               2|       2021-02-13|             163|             2|    Manhattan|       1576876.0|         3218.0|0.002040743850499...|   204.07438504993416|         2021|             2|     2021-02-13|           163|           2|    Manhattan|     1576876.0|          3.0|1.902495820850846...| 0.1902495820850847|\n",
       "|     2020|         9| 2020-09-19|       142|       2|Staten Island|  495522.0|       39|7.870488091346096E-5|7.870488091346096|               1.0|31.242307692307698|           2020|               9|       2020-09-12|             141|             2|Staten Island|        495522.0|          148.0|2.986749326972364...|   29.867493269723646|         null|          null|           null|          null|        null|         null|          null|         null|                null|               null|\n",
       "|     2021|         1| 2021-01-09|       158|       2|Staten Island|  493494.0|       55|1.114501898705962E-4|11.14501898705962|1.0363636363636364| 30.25254545454545|           2020|              12|       2021-01-02|             157|             2|Staten Island|        495522.0|         2941.0|0.005935155250422787|    593.5155250422787|         2020|            12|     2021-01-02|           157|           2|Staten Island|      495522.0|          4.0|8.072295478303688E-6| 0.8072295478303688|\n",
       "|     2020|         9| 2020-09-26|       143|       2|        Bronx| 1466438.0|      904|6.164597480425358E-4|61.64597480425357|1.3152654867256637| 3.758019911504429|           2020|               9|       2020-09-19|             142|             2|        Bronx|       1466438.0|          352.0|2.400374240165625...|   24.003742401656257|         null|          null|           null|          null|        null|         null|          null|         null|                null|               null|\n",
       "+---------+----------+-----------+----------+--------+-------------+----------+---------+--------------------+-----------------+------------------+------------------+---------------+----------------+-----------------+----------------+--------------+-------------+----------------+---------------+--------------------+---------------------+-------------+--------------+---------------+--------------+------------+-------------+--------------+-------------+--------------------+-------------------+"
      ]
     },
     "execution_count": 8,
     "metadata": {},
     "output_type": "execute_result"
    }
   ],
   "source": [
    "joined_pu_df.limit(5)"
   ]
  },
  {
   "cell_type": "code",
   "execution_count": 9,
   "metadata": {},
   "outputs": [],
   "source": [
    "# remove all columns except those being fitted\n",
    "# include the log of the number of trips as the exposure predictor\n",
    "joined_pu_df = joined_pu_df.select(\n",
    "    (F.col('num_trips') * F.col('avg_passengers')).alias('tot_passengers'),\n",
    "    F.log('num_trips').alias('log_exposure'),\n",
    "    (F.col('week_index') - 1).alias('pre_week_ending'),\n",
    "    F.col('pu_borough'),\n",
    "    F.col('covid_tot_p100k_cases'),\n",
    "    F.col('flu_tot_p100k_cases')\n",
    ")"
   ]
  },
  {
   "cell_type": "code",
   "execution_count": 10,
   "metadata": {},
   "outputs": [],
   "source": [
    "# convert the dataframe to pandas type\n",
    "joined_pu_df = joined_pu_df.toPandas()"
   ]
  },
  {
   "cell_type": "code",
   "execution_count": 11,
   "metadata": {},
   "outputs": [],
   "source": [
    "\n",
    "# with reference to:\n",
    "# https://tedboy.github.io/statsmodels_doc/generated/generated/statsmodels.formula.api.GLM.html\n",
    "model = glm(\n",
    "    formula = 'tot_passengers ~ pre_week_ending + pu_borough * covid_tot_p100k_cases + pu_borough * flu_tot_p100k_cases',\n",
    "    offset = joined_pu_df['log_exposure'],\n",
    "    data = joined_pu_df,\n",
    "    family = Poisson()\n",
    ").fit()\n"
   ]
  },
  {
   "cell_type": "code",
   "execution_count": 12,
   "metadata": {},
   "outputs": [
    {
     "name": "stdout",
     "output_type": "stream",
     "text": [
      "                 Generalized Linear Model Regression Results                  \n",
      "==============================================================================\n",
      "Dep. Variable:         tot_passengers   No. Observations:                  170\n",
      "Model:                            GLM   Df Residuals:                      154\n",
      "Model Family:                 Poisson   Df Model:                           15\n",
      "Link Function:                    Log   Scale:                          1.0000\n",
      "Method:                          IRLS   Log-Likelihood:                -1288.4\n",
      "Date:                Fri, 19 Aug 2022   Deviance:                       833.13\n",
      "Time:                        02:36:29   Pearson chi2:                     836.\n",
      "No. Iterations:                    11   Pseudo R-squ. (CS):              1.000\n",
      "Covariance Type:            nonrobust                                         \n",
      "=====================================================================================================================\n",
      "                                                        coef    std err          z      P>|z|      [0.025      0.975]\n",
      "---------------------------------------------------------------------------------------------------------------------\n",
      "Intercept                                             0.2659      0.012     21.473      0.000       0.242       0.290\n",
      "pu_borough[T.Brooklyn]                                0.0565      0.013      4.241      0.000       0.030       0.083\n",
      "pu_borough[T.Manhattan]                               0.1273      0.012     10.774      0.000       0.104       0.150\n",
      "pu_borough[T.Queens]                                  0.1545      0.012     12.803      0.000       0.131       0.178\n",
      "pu_borough[T.Staten Island]                          -0.0728      0.046     -1.584      0.113      -0.163       0.017\n",
      "pre_week_ending                                      -0.0003    2.3e-05    -11.287      0.000      -0.000      -0.000\n",
      "covid_tot_p100k_cases                                 0.0001   4.12e-05      2.664      0.008     2.9e-05       0.000\n",
      "pu_borough[T.Brooklyn]:covid_tot_p100k_cases         -0.0002   6.26e-05     -2.602      0.009      -0.000   -4.02e-05\n",
      "pu_borough[T.Manhattan]:covid_tot_p100k_cases        -0.0002   4.13e-05     -3.632      0.000      -0.000   -6.91e-05\n",
      "pu_borough[T.Queens]:covid_tot_p100k_cases           -0.0001   4.26e-05     -2.591      0.010      -0.000   -2.69e-05\n",
      "pu_borough[T.Staten Island]:covid_tot_p100k_cases    -0.0003      0.000     -1.865      0.062      -0.001    1.34e-05\n",
      "flu_tot_p100k_cases                                  -0.0211      0.026     -0.816      0.415      -0.072       0.030\n",
      "pu_borough[T.Brooklyn]:flu_tot_p100k_cases            0.0232      0.028      0.814      0.416      -0.033       0.079\n",
      "pu_borough[T.Manhattan]:flu_tot_p100k_cases           0.0219      0.026      0.844      0.399      -0.029       0.073\n",
      "pu_borough[T.Queens]:flu_tot_p100k_cases              0.0101      0.026      0.381      0.703      -0.042       0.062\n",
      "pu_borough[T.Staten Island]:flu_tot_p100k_cases      -0.0083      0.037     -0.224      0.823      -0.081       0.064\n",
      "=====================================================================================================================\n"
     ]
    }
   ],
   "source": [
    "print(model.summary())"
   ]
  },
  {
   "cell_type": "code",
   "execution_count": 28,
   "metadata": {},
   "outputs": [
    {
     "name": "stdout",
     "output_type": "stream",
     "text": [
      "1      414197.0\n",
      "3          57.0\n",
      "5        2922.0\n",
      "6         830.0\n",
      "7        2672.0\n",
      "         ...   \n",
      "242      1189.0\n",
      "243      4033.0\n",
      "244        63.0\n",
      "245        71.0\n",
      "246     35189.0\n",
      "Name: tot_passengers, Length: 170, dtype: float64\n"
     ]
    }
   ],
   "source": [
    "# print(model.mu)\n",
    "print(joined_pu_df['tot_passengers'].iloc[model.fittedvalues.index])\n",
    "# print(joined_pu_df['tot_passengers'])"
   ]
  },
  {
   "cell_type": "code",
   "execution_count": 32,
   "metadata": {},
   "outputs": [
    {
     "data": {
      "image/png": "[encoded data removed]",
      "text/plain": [
       "<Figure size 432x288 with 1 Axes>"
      ]
     },
     "metadata": {
      "needs_background": "light"
     },
     "output_type": "display_data"
    }
   ],
   "source": [
    "fig, ax = plt.subplots()\n",
    "ax.scatter(model.mu, joined_pu_df['tot_passengers'].iloc[model.fittedvalues.index])\n",
    "line_fit = sm.OLS(joined_pu_df['tot_passengers'].iloc[model.fittedvalues.index], \n",
    "    sm.add_constant(model.mu, prepend=True)).fit()\n",
    "abline_plot(model_results=line_fit, ax=ax)\n",
    "\n",
    "\n",
    "ax.set_title('Model Fit Plot')\n",
    "ax.set_ylabel('Observed Weekly Total Passengers')\n",
    "ax.set_xlabel('Fitted Weekly Total Passengers');\n",
    "\n",
    "# show and save the plot\n",
    "plt.savefig(\n",
    "    f'../../plots/diagnostic-{ax.get_ylabel()}-vs-{ax.get_xlabel()}.png',\n",
    "    bbox_inches='tight',\n",
    "    dpi=300\n",
    ")\n",
    "plt.show()"
   ]
  }
 ],
 "metadata": {
  "kernelspec": {
   "display_name": "Python 3.8.10 64-bit",
   "language": "python",
   "name": "python3"
  },
  "language_info": {
   "codemirror_mode": {
    "name": "ipython",
    "version": 3
   },
   "file_extension": ".py",
   "mimetype": "text/x-python",
   "name": "python",
   "nbconvert_exporter": "python",
   "pygments_lexer": "ipython3",
   "version": "3.8.10"
  },
  "orig_nbformat": 4,
  "vscode": {
   "interpreter": {
    "hash": "916dbcbb3f70747c44a77c7bcd40155683ae19c65e1c03b4aa3499c5328201f1"
   }
  }
 },
 "nbformat": 4,
 "nbformat_minor": 2
}
