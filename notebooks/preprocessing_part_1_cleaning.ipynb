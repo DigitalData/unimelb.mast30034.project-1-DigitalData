{
 "cells": [
  {
   "cell_type": "markdown",
   "metadata": {},
   "source": [
    "### MAST30034: Applied Data Science Project 1\n",
    "---\n",
    "# Preprocessing Part 1: Cleaning The Data\n",
    "#### Xavier Travers (1178369)\n",
    "\n",
    "Cleaning the datasets of null, inconsistent, or unnecessary values.\n",
    "This is performed on the TLC data and COVID data."
   ]
  },
  {
   "cell_type": "code",
   "execution_count": 1,
   "metadata": {},
   "outputs": [],
   "source": [
    "# imports used throughout this notebook\n",
    "from collections import defaultdict\n",
    "from itertools import product\n",
    "import os\n",
    "import sys\n",
    "from pyspark.sql import DataFrame, Column\n",
    "from pyspark.sql.types import IntegerType\n",
    "from pyspark.sql import functions as F\n",
    "\n",
    "# add homemade helpers\n",
    "sys.path.insert(1, '../scripts')\n",
    "import helpers.cleaning_helpers as ch\n",
    "\n",
    "# for printouts\n",
    "DEBUGGING = False"
   ]
  },
  {
   "cell_type": "code",
   "execution_count": 2,
   "metadata": {},
   "outputs": [
    {
     "name": "stdout",
     "output_type": "stream",
     "text": [
      "22/08/09 00:43:55 WARN Utils: Your hostname, Polaris resolves to a loopback address: 127.0.1.1; using 172.20.95.79 instead (on interface eth0)\n",
      "22/08/09 00:43:55 WARN Utils: Set SPARK_LOCAL_IP if you need to bind to another address\n"
     ]
    },
    {
     "name": "stderr",
     "output_type": "stream",
     "text": [
      "Setting default log level to \"WARN\".\n",
      "To adjust logging level use sc.setLogLevel(newLevel). For SparkR, use setLogLevel(newLevel).\n"
     ]
    },
    {
     "name": "stdout",
     "output_type": "stream",
     "text": [
      "22/08/09 00:43:56 WARN NativeCodeLoader: Unable to load native-hadoop library for your platform... using builtin-java classes where applicable\n"
     ]
    }
   ],
   "source": [
    "from pyspark.sql import SparkSession\n",
    "\n",
    "# Create a spark session (which will run spark jobs)\n",
    "spark = (\n",
    "    SparkSession.builder.appName('MAST30034 XT Project 1')\n",
    "    .config(\"spark.sql.session.timeZone\", \"Etc/UTC\")\n",
    "    .config('spark.sql.repl.eagerEval.enabled', True) \n",
    "    .config('spark.sql.parquet.cacheMetadata', 'true')\n",
    "    .getOrCreate()\n",
    ")"
   ]
  },
  {
   "cell_type": "code",
   "execution_count": 3,
   "metadata": {},
   "outputs": [
    {
     "data": {
      "text/html": [
       "<table border='1'>\n",
       "<tr><th>year</th><th>month</th><th>day</th><th>cdc_week</th><th>week_index</th><th>us_format</th></tr>\n",
       "<tr><td>2017</td><td>12</td><td>31</td><td>1</td><td>1</td><td>12/31/2017</td></tr>\n",
       "<tr><td>2018</td><td>1</td><td>1</td><td>1</td><td>1</td><td>01/01/2018</td></tr>\n",
       "<tr><td>2018</td><td>1</td><td>2</td><td>1</td><td>1</td><td>01/02/2018</td></tr>\n",
       "<tr><td>2018</td><td>1</td><td>3</td><td>1</td><td>1</td><td>01/03/2018</td></tr>\n",
       "<tr><td>2018</td><td>1</td><td>4</td><td>1</td><td>1</td><td>01/04/2018</td></tr>\n",
       "</table>\n"
      ],
      "text/plain": [
       "+----+-----+---+--------+----------+----------+\n",
       "|year|month|day|cdc_week|week_index| us_format|\n",
       "+----+-----+---+--------+----------+----------+\n",
       "|2017|   12| 31|       1|         1|12/31/2017|\n",
       "|2018|    1|  1|       1|         1|01/01/2018|\n",
       "|2018|    1|  2|       1|         1|01/02/2018|\n",
       "|2018|    1|  3|       1|         1|01/03/2018|\n",
       "|2018|    1|  4|       1|         1|01/04/2018|\n",
       "+----+-----+---+--------+----------+----------+"
      ]
     },
     "execution_count": 3,
     "metadata": {},
     "output_type": "execute_result"
    }
   ],
   "source": [
    "# import the cdc week file to convert all dates to cdc weeks now\n",
    "mmwr_weeks_df = spark.read.parquet('../data/raw/virals/mmwr_weeks.parquet')\n",
    "mmwr_weeks_df.limit(5)"
   ]
  },
  {
   "cell_type": "markdown",
   "metadata": {},
   "source": [
    "### 1. Cleaning the TLC dataset(s)"
   ]
  },
  {
   "cell_type": "code",
   "execution_count": 4,
   "metadata": {},
   "outputs": [
    {
     "data": {
      "text/html": [
       "<table border='1'>\n",
       "<tr><th>VendorID</th><th>tpep_pickup_datetime</th><th>tpep_dropoff_datetime</th><th>passenger_count</th><th>trip_distance</th><th>RatecodeID</th><th>store_and_fwd_flag</th><th>PULocationID</th><th>DOLocationID</th><th>payment_type</th><th>fare_amount</th><th>extra</th><th>mta_tax</th><th>tip_amount</th><th>tolls_amount</th><th>improvement_surcharge</th><th>total_amount</th><th>congestion_surcharge</th><th>airport_fee</th></tr>\n",
       "<tr><td>2</td><td>2019-07-01 00:51:04</td><td>2019-07-01 00:51:33</td><td>1.0</td><td>0.0</td><td>1.0</td><td>N</td><td>193</td><td>193</td><td>1</td><td>2.5</td><td>0.5</td><td>0.5</td><td>1.14</td><td>0.0</td><td>0.3</td><td>4.94</td><td>0.0</td><td>null</td></tr>\n",
       "<tr><td>2</td><td>2019-07-01 00:46:04</td><td>2019-07-01 01:05:46</td><td>1.0</td><td>4.16</td><td>1.0</td><td>N</td><td>234</td><td>25</td><td>2</td><td>16.5</td><td>0.5</td><td>0.5</td><td>0.0</td><td>0.0</td><td>0.3</td><td>20.3</td><td>2.5</td><td>null</td></tr>\n",
       "<tr><td>1</td><td>2019-07-01 00:25:09</td><td>2019-07-01 01:00:56</td><td>1.0</td><td>18.8</td><td>2.0</td><td>N</td><td>132</td><td>42</td><td>1</td><td>52.0</td><td>0.0</td><td>0.5</td><td>11.75</td><td>6.12</td><td>0.3</td><td>70.67</td><td>0.0</td><td>null</td></tr>\n",
       "<tr><td>2</td><td>2019-07-01 00:33:32</td><td>2019-07-01 01:15:27</td><td>1.0</td><td>18.46</td><td>2.0</td><td>N</td><td>132</td><td>142</td><td>1</td><td>52.0</td><td>0.0</td><td>0.5</td><td>11.06</td><td>0.0</td><td>0.3</td><td>66.36</td><td>2.5</td><td>null</td></tr>\n",
       "<tr><td>1</td><td>2019-07-01 00:00:55</td><td>2019-07-01 00:13:05</td><td>0.0</td><td>1.7</td><td>1.0</td><td>N</td><td>107</td><td>114</td><td>1</td><td>9.5</td><td>3.0</td><td>0.5</td><td>2.0</td><td>0.0</td><td>0.3</td><td>15.3</td><td>2.5</td><td>null</td></tr>\n",
       "</table>\n"
      ],
      "text/plain": [
       "+--------+--------------------+---------------------+---------------+-------------+----------+------------------+------------+------------+------------+-----------+-----+-------+----------+------------+---------------------+------------+--------------------+-----------+\n",
       "|VendorID|tpep_pickup_datetime|tpep_dropoff_datetime|passenger_count|trip_distance|RatecodeID|store_and_fwd_flag|PULocationID|DOLocationID|payment_type|fare_amount|extra|mta_tax|tip_amount|tolls_amount|improvement_surcharge|total_amount|congestion_surcharge|airport_fee|\n",
       "+--------+--------------------+---------------------+---------------+-------------+----------+------------------+------------+------------+------------+-----------+-----+-------+----------+------------+---------------------+------------+--------------------+-----------+\n",
       "|       2| 2019-07-01 00:51:04|  2019-07-01 00:51:33|            1.0|          0.0|       1.0|                 N|         193|         193|           1|        2.5|  0.5|    0.5|      1.14|         0.0|                  0.3|        4.94|                 0.0|       null|\n",
       "|       2| 2019-07-01 00:46:04|  2019-07-01 01:05:46|            1.0|         4.16|       1.0|                 N|         234|          25|           2|       16.5|  0.5|    0.5|       0.0|         0.0|                  0.3|        20.3|                 2.5|       null|\n",
       "|       1| 2019-07-01 00:25:09|  2019-07-01 01:00:56|            1.0|         18.8|       2.0|                 N|         132|          42|           1|       52.0|  0.0|    0.5|     11.75|        6.12|                  0.3|       70.67|                 0.0|       null|\n",
       "|       2| 2019-07-01 00:33:32|  2019-07-01 01:15:27|            1.0|        18.46|       2.0|                 N|         132|         142|           1|       52.0|  0.0|    0.5|     11.06|         0.0|                  0.3|       66.36|                 2.5|       null|\n",
       "|       1| 2019-07-01 00:00:55|  2019-07-01 00:13:05|            0.0|          1.7|       1.0|                 N|         107|         114|           1|        9.5|  3.0|    0.5|       2.0|         0.0|                  0.3|        15.3|                 2.5|       null|\n",
       "+--------+--------------------+---------------------+---------------+-------------+----------+------------------+------------+------------+------------+-----------+-----+-------+----------+------------+---------------------+------------+--------------------+-----------+"
      ]
     },
     "execution_count": 4,
     "metadata": {},
     "output_type": "execute_result"
    }
   ],
   "source": [
    "example_df = spark.read.parquet('../data/raw/tlc/yellow/2019-07.parquet/')\n",
    "example_df.limit(5)\n",
    "# TODO: commenting"
   ]
  },
  {
   "cell_type": "code",
   "execution_count": 5,
   "metadata": {},
   "outputs": [],
   "source": [
    "# names of the tlc datasets to clean \n",
    "# (I was originally planning on working on fhvhv and green as well)\n",
    "TLC_NAMES = ['yellow']\n",
    "\n",
    "# dictionary to rename all the columns I want to keep\n",
    "TLC_KEEP_COLUMNS = {\n",
    "    'tpep_pickup_datetime': 'date',\n",
    "    'passenger_count': 'passengers',\n",
    "    'trip_distance': 'trip_distance',\n",
    "    'PULocationID': 'pu_location_id',\n",
    "    'DOLocationID': 'do_location_id',\n",
    "    # below only apply to fhvhv\n",
    "    # 'hvfhs_license_num': 'fhvhv_license',\n",
    "    # 'pickup_datetime': 'date',\n",
    "    # 'trip_miles': 'trip_distance',\n",
    "    # 'shared_request_flag': 'shared'\n",
    "}\n",
    "\n",
    "# create a dictionary of the columns to keep and the required filters\n",
    "TLC_CLEAN_COLUMNS = {\n",
    "    'pu_location_id': [ch.non_null], \n",
    "    'do_location_id': [ch.non_null], \n",
    "    'passengers': [], \n",
    "    'trip_distance': [ch.non_null, ch.strictly_positive], \n",
    "    # 'fhvhv_license': [ch.non_null], \n",
    "}"
   ]
  },
  {
   "cell_type": "code",
   "execution_count": 6,
   "metadata": {},
   "outputs": [
    {
     "name": "stdout",
     "output_type": "stream",
     "text": [
      "=== CLEANING \"yellow/2018-01.parquet\"\n",
      "STARTING WITH 8760687 ROWS\n"
     ]
    },
    {
     "name": "stderr",
     "output_type": "stream",
     "text": [
      "                                                                                \r"
     ]
    },
    {
     "name": "stdout",
     "output_type": "stream",
     "text": [
      "REDUCED TO 8705271 ROWS\n"
     ]
    },
    {
     "name": "stderr",
     "output_type": "stream",
     "text": [
      "                                                                                \r"
     ]
    },
    {
     "name": "stdout",
     "output_type": "stream",
     "text": [
      "=== CLEANING \"yellow/2018-02.parquet\"\n",
      "STARTING WITH 8492819 ROWS\n"
     ]
    },
    {
     "name": "stderr",
     "output_type": "stream",
     "text": [
      "                                                                                \r"
     ]
    },
    {
     "name": "stdout",
     "output_type": "stream",
     "text": [
      "REDUCED TO 8440477 ROWS\n"
     ]
    },
    {
     "name": "stderr",
     "output_type": "stream",
     "text": [
      "                                                                                \r"
     ]
    },
    {
     "name": "stdout",
     "output_type": "stream",
     "text": [
      "=== CLEANING \"yellow/2018-03.parquet\"\n",
      "STARTING WITH 9431289 ROWS\n"
     ]
    },
    {
     "name": "stderr",
     "output_type": "stream",
     "text": [
      "                                                                                \r"
     ]
    },
    {
     "name": "stdout",
     "output_type": "stream",
     "text": [
      "REDUCED TO 9370177 ROWS\n"
     ]
    },
    {
     "name": "stderr",
     "output_type": "stream",
     "text": [
      "                                                                                \r"
     ]
    },
    {
     "name": "stdout",
     "output_type": "stream",
     "text": [
      "=== CLEANING \"yellow/2018-04.parquet\"\n",
      "STARTING WITH 9306216 ROWS\n"
     ]
    },
    {
     "name": "stderr",
     "output_type": "stream",
     "text": [
      "                                                                                \r"
     ]
    },
    {
     "name": "stdout",
     "output_type": "stream",
     "text": [
      "REDUCED TO 9248518 ROWS\n"
     ]
    },
    {
     "name": "stderr",
     "output_type": "stream",
     "text": [
      "                                                                                \r"
     ]
    },
    {
     "name": "stdout",
     "output_type": "stream",
     "text": [
      "=== CLEANING \"yellow/2018-05.parquet\"\n",
      "STARTING WITH 9224788 ROWS\n"
     ]
    },
    {
     "name": "stderr",
     "output_type": "stream",
     "text": [
      "                                                                                \r"
     ]
    },
    {
     "name": "stdout",
     "output_type": "stream",
     "text": [
      "REDUCED TO 9165539 ROWS\n"
     ]
    },
    {
     "name": "stderr",
     "output_type": "stream",
     "text": [
      "                                                                                \r"
     ]
    },
    {
     "name": "stdout",
     "output_type": "stream",
     "text": [
      "=== CLEANING \"yellow/2018-06.parquet\"\n",
      "STARTING WITH 8714667 ROWS\n"
     ]
    },
    {
     "name": "stderr",
     "output_type": "stream",
     "text": [
      "                                                                                \r"
     ]
    },
    {
     "name": "stdout",
     "output_type": "stream",
     "text": [
      "REDUCED TO 8654613 ROWS\n"
     ]
    },
    {
     "name": "stderr",
     "output_type": "stream",
     "text": [
      "                                                                                \r"
     ]
    },
    {
     "name": "stdout",
     "output_type": "stream",
     "text": [
      "=== CLEANING \"yellow/2018-07.parquet\"\n",
      "STARTING WITH 7851143 ROWS\n"
     ]
    },
    {
     "name": "stderr",
     "output_type": "stream",
     "text": [
      "                                                                                \r"
     ]
    },
    {
     "name": "stdout",
     "output_type": "stream",
     "text": [
      "REDUCED TO 7795245 ROWS\n"
     ]
    },
    {
     "name": "stderr",
     "output_type": "stream",
     "text": [
      "                                                                                \r"
     ]
    },
    {
     "name": "stdout",
     "output_type": "stream",
     "text": [
      "=== CLEANING \"yellow/2018-08.parquet\"\n",
      "STARTING WITH 7855040 ROWS\n"
     ]
    },
    {
     "name": "stderr",
     "output_type": "stream",
     "text": [
      "                                                                                \r"
     ]
    },
    {
     "name": "stdout",
     "output_type": "stream",
     "text": [
      "REDUCED TO 7799781 ROWS\n"
     ]
    },
    {
     "name": "stderr",
     "output_type": "stream",
     "text": [
      "                                                                                \r"
     ]
    },
    {
     "name": "stdout",
     "output_type": "stream",
     "text": [
      "=== CLEANING \"yellow/2018-09.parquet\"\n",
      "STARTING WITH 8049094 ROWS\n"
     ]
    },
    {
     "name": "stderr",
     "output_type": "stream",
     "text": [
      "                                                                                \r"
     ]
    },
    {
     "name": "stdout",
     "output_type": "stream",
     "text": [
      "REDUCED TO 7991308 ROWS\n"
     ]
    },
    {
     "name": "stderr",
     "output_type": "stream",
     "text": [
      "                                                                                \r"
     ]
    },
    {
     "name": "stdout",
     "output_type": "stream",
     "text": [
      "=== CLEANING \"yellow/2018-10.parquet\"\n",
      "STARTING WITH 8834520 ROWS\n"
     ]
    },
    {
     "name": "stderr",
     "output_type": "stream",
     "text": [
      "                                                                                \r"
     ]
    },
    {
     "name": "stdout",
     "output_type": "stream",
     "text": [
      "REDUCED TO 8765266 ROWS\n"
     ]
    },
    {
     "name": "stderr",
     "output_type": "stream",
     "text": [
      "                                                                                \r"
     ]
    },
    {
     "name": "stdout",
     "output_type": "stream",
     "text": [
      "=== CLEANING \"yellow/2018-11.parquet\"\n",
      "STARTING WITH 8155449 ROWS\n"
     ]
    },
    {
     "name": "stderr",
     "output_type": "stream",
     "text": [
      "                                                                                \r"
     ]
    },
    {
     "name": "stdout",
     "output_type": "stream",
     "text": [
      "REDUCED TO 8096223 ROWS\n"
     ]
    },
    {
     "name": "stderr",
     "output_type": "stream",
     "text": [
      "                                                                                \r"
     ]
    },
    {
     "name": "stdout",
     "output_type": "stream",
     "text": [
      "=== CLEANING \"yellow/2018-12.parquet\"\n",
      "STARTING WITH 8195675 ROWS\n"
     ]
    },
    {
     "name": "stderr",
     "output_type": "stream",
     "text": [
      "                                                                                \r"
     ]
    },
    {
     "name": "stdout",
     "output_type": "stream",
     "text": [
      "REDUCED TO 8133847 ROWS\n"
     ]
    },
    {
     "name": "stderr",
     "output_type": "stream",
     "text": [
      "                                                                                \r"
     ]
    },
    {
     "name": "stdout",
     "output_type": "stream",
     "text": [
      "=== CLEANING \"yellow/2019-01.parquet\"\n",
      "STARTING WITH 7696617 ROWS\n"
     ]
    },
    {
     "name": "stderr",
     "output_type": "stream",
     "text": [
      "                                                                                \r"
     ]
    },
    {
     "name": "stdout",
     "output_type": "stream",
     "text": [
      "REDUCED TO 7641460 ROWS\n"
     ]
    },
    {
     "name": "stderr",
     "output_type": "stream",
     "text": [
      "                                                                                \r"
     ]
    },
    {
     "name": "stdout",
     "output_type": "stream",
     "text": [
      "=== CLEANING \"yellow/2019-02.parquet\"\n",
      "STARTING WITH 7049370 ROWS\n"
     ]
    },
    {
     "name": "stderr",
     "output_type": "stream",
     "text": [
      "                                                                                \r"
     ]
    },
    {
     "name": "stdout",
     "output_type": "stream",
     "text": [
      "REDUCED TO 6999501 ROWS\n"
     ]
    },
    {
     "name": "stderr",
     "output_type": "stream",
     "text": [
      "                                                                                \r"
     ]
    },
    {
     "name": "stdout",
     "output_type": "stream",
     "text": [
      "=== CLEANING \"yellow/2019-03.parquet\"\n",
      "STARTING WITH 7866620 ROWS\n"
     ]
    },
    {
     "name": "stderr",
     "output_type": "stream",
     "text": [
      "                                                                                \r"
     ]
    },
    {
     "name": "stdout",
     "output_type": "stream",
     "text": [
      "REDUCED TO 7812753 ROWS\n"
     ]
    },
    {
     "name": "stderr",
     "output_type": "stream",
     "text": [
      "                                                                                \r"
     ]
    },
    {
     "name": "stdout",
     "output_type": "stream",
     "text": [
      "=== CLEANING \"yellow/2019-04.parquet\"\n",
      "STARTING WITH 7475949 ROWS\n"
     ]
    },
    {
     "name": "stderr",
     "output_type": "stream",
     "text": [
      "                                                                                \r"
     ]
    },
    {
     "name": "stdout",
     "output_type": "stream",
     "text": [
      "REDUCED TO 7424917 ROWS\n"
     ]
    },
    {
     "name": "stderr",
     "output_type": "stream",
     "text": [
      "                                                                                \r"
     ]
    },
    {
     "name": "stdout",
     "output_type": "stream",
     "text": [
      "=== CLEANING \"yellow/2019-05.parquet\"\n",
      "STARTING WITH 7598445 ROWS\n"
     ]
    },
    {
     "name": "stderr",
     "output_type": "stream",
     "text": [
      "                                                                                \r"
     ]
    },
    {
     "name": "stdout",
     "output_type": "stream",
     "text": [
      "REDUCED TO 7542053 ROWS\n"
     ]
    },
    {
     "name": "stderr",
     "output_type": "stream",
     "text": [
      "                                                                                \r"
     ]
    },
    {
     "name": "stdout",
     "output_type": "stream",
     "text": [
      "=== CLEANING \"yellow/2019-06.parquet\"\n",
      "STARTING WITH 6971560 ROWS\n"
     ]
    },
    {
     "name": "stderr",
     "output_type": "stream",
     "text": [
      "                                                                                \r"
     ]
    },
    {
     "name": "stdout",
     "output_type": "stream",
     "text": [
      "REDUCED TO 6908437 ROWS\n"
     ]
    },
    {
     "name": "stderr",
     "output_type": "stream",
     "text": [
      "                                                                                \r"
     ]
    },
    {
     "name": "stdout",
     "output_type": "stream",
     "text": [
      "=== CLEANING \"yellow/2019-07.parquet\"\n",
      "STARTING WITH 6310419 ROWS\n"
     ]
    },
    {
     "name": "stderr",
     "output_type": "stream",
     "text": [
      "                                                                                \r"
     ]
    },
    {
     "name": "stdout",
     "output_type": "stream",
     "text": [
      "REDUCED TO 6242700 ROWS\n"
     ]
    },
    {
     "name": "stderr",
     "output_type": "stream",
     "text": [
      "                                                                                \r"
     ]
    },
    {
     "name": "stdout",
     "output_type": "stream",
     "text": [
      "=== CLEANING \"yellow/2019-08.parquet\"\n",
      "STARTING WITH 6073357 ROWS\n"
     ]
    },
    {
     "name": "stderr",
     "output_type": "stream",
     "text": [
      "                                                                                \r"
     ]
    },
    {
     "name": "stdout",
     "output_type": "stream",
     "text": [
      "REDUCED TO 6004160 ROWS\n"
     ]
    },
    {
     "name": "stderr",
     "output_type": "stream",
     "text": [
      "                                                                                \r"
     ]
    },
    {
     "name": "stdout",
     "output_type": "stream",
     "text": [
      "=== CLEANING \"yellow/2019-09.parquet\"\n",
      "STARTING WITH 6567788 ROWS\n"
     ]
    },
    {
     "name": "stderr",
     "output_type": "stream",
     "text": [
      "                                                                                \r"
     ]
    },
    {
     "name": "stdout",
     "output_type": "stream",
     "text": [
      "REDUCED TO 6496575 ROWS\n"
     ]
    },
    {
     "name": "stderr",
     "output_type": "stream",
     "text": [
      "                                                                                \r"
     ]
    },
    {
     "name": "stdout",
     "output_type": "stream",
     "text": [
      "=== CLEANING \"yellow/2019-10.parquet\"\n",
      "STARTING WITH 7213891 ROWS\n"
     ]
    },
    {
     "name": "stderr",
     "output_type": "stream",
     "text": [
      "                                                                                \r"
     ]
    },
    {
     "name": "stdout",
     "output_type": "stream",
     "text": [
      "REDUCED TO 7143933 ROWS\n"
     ]
    },
    {
     "name": "stderr",
     "output_type": "stream",
     "text": [
      "                                                                                \r"
     ]
    },
    {
     "name": "stdout",
     "output_type": "stream",
     "text": [
      "=== CLEANING \"yellow/2019-11.parquet\"\n",
      "STARTING WITH 6878111 ROWS\n"
     ]
    },
    {
     "name": "stderr",
     "output_type": "stream",
     "text": [
      "                                                                                \r"
     ]
    },
    {
     "name": "stdout",
     "output_type": "stream",
     "text": [
      "REDUCED TO 6805094 ROWS\n"
     ]
    },
    {
     "name": "stderr",
     "output_type": "stream",
     "text": [
      "                                                                                \r"
     ]
    },
    {
     "name": "stdout",
     "output_type": "stream",
     "text": [
      "=== CLEANING \"yellow/2019-12.parquet\"\n",
      "STARTING WITH 6896317 ROWS\n"
     ]
    },
    {
     "name": "stderr",
     "output_type": "stream",
     "text": [
      "                                                                                \r"
     ]
    },
    {
     "name": "stdout",
     "output_type": "stream",
     "text": [
      "REDUCED TO 6823493 ROWS\n"
     ]
    },
    {
     "name": "stderr",
     "output_type": "stream",
     "text": [
      "                                                                                \r"
     ]
    },
    {
     "name": "stdout",
     "output_type": "stream",
     "text": [
      "=== CLEANING \"yellow/2020-01.parquet\"\n",
      "STARTING WITH 6405008 ROWS\n"
     ]
    },
    {
     "name": "stderr",
     "output_type": "stream",
     "text": [
      "                                                                                \r"
     ]
    },
    {
     "name": "stdout",
     "output_type": "stream",
     "text": [
      "REDUCED TO 6334779 ROWS\n"
     ]
    },
    {
     "name": "stderr",
     "output_type": "stream",
     "text": [
      "                                                                                \r"
     ]
    },
    {
     "name": "stdout",
     "output_type": "stream",
     "text": [
      "=== CLEANING \"yellow/2020-02.parquet\"\n",
      "STARTING WITH 6299367 ROWS\n"
     ]
    },
    {
     "name": "stderr",
     "output_type": "stream",
     "text": [
      "                                                                                \r"
     ]
    },
    {
     "name": "stdout",
     "output_type": "stream",
     "text": [
      "REDUCED TO 6238857 ROWS\n"
     ]
    },
    {
     "name": "stderr",
     "output_type": "stream",
     "text": [
      "                                                                                \r"
     ]
    },
    {
     "name": "stdout",
     "output_type": "stream",
     "text": [
      "=== CLEANING \"yellow/2020-03.parquet\"\n",
      "STARTING WITH 3007687 ROWS\n"
     ]
    },
    {
     "name": "stderr",
     "output_type": "stream",
     "text": [
      "                                                                                \r"
     ]
    },
    {
     "name": "stdout",
     "output_type": "stream",
     "text": [
      "REDUCED TO 2976275 ROWS\n"
     ]
    },
    {
     "name": "stderr",
     "output_type": "stream",
     "text": [
      "                                                                                \r"
     ]
    },
    {
     "name": "stdout",
     "output_type": "stream",
     "text": [
      "=== CLEANING \"yellow/2020-04.parquet\"\n",
      "STARTING WITH 238073 ROWS\n",
      "REDUCED TO 231848 ROWS\n",
      "=== CLEANING \"yellow/2020-05.parquet\"\n",
      "STARTING WITH 348415 ROWS\n",
      "REDUCED TO 338185 ROWS\n"
     ]
    },
    {
     "name": "stderr",
     "output_type": "stream",
     "text": [
      "                                                                                \r"
     ]
    },
    {
     "name": "stdout",
     "output_type": "stream",
     "text": [
      "=== CLEANING \"yellow/2020-06.parquet\"\n",
      "STARTING WITH 549797 ROWS\n"
     ]
    },
    {
     "name": "stderr",
     "output_type": "stream",
     "text": [
      "                                                                                \r"
     ]
    },
    {
     "name": "stdout",
     "output_type": "stream",
     "text": [
      "REDUCED TO 532356 ROWS\n"
     ]
    },
    {
     "name": "stderr",
     "output_type": "stream",
     "text": [
      "                                                                                \r"
     ]
    },
    {
     "name": "stdout",
     "output_type": "stream",
     "text": [
      "=== CLEANING \"yellow/2020-07.parquet\"\n",
      "STARTING WITH 800412 ROWS\n"
     ]
    },
    {
     "name": "stderr",
     "output_type": "stream",
     "text": [
      "                                                                                \r"
     ]
    },
    {
     "name": "stdout",
     "output_type": "stream",
     "text": [
      "REDUCED TO 775434 ROWS\n"
     ]
    },
    {
     "name": "stderr",
     "output_type": "stream",
     "text": [
      "                                                                                \r"
     ]
    },
    {
     "name": "stdout",
     "output_type": "stream",
     "text": [
      "=== CLEANING \"yellow/2020-08.parquet\"\n",
      "STARTING WITH 1007286 ROWS\n"
     ]
    },
    {
     "name": "stderr",
     "output_type": "stream",
     "text": [
      "                                                                                \r"
     ]
    },
    {
     "name": "stdout",
     "output_type": "stream",
     "text": [
      "REDUCED TO 979388 ROWS\n"
     ]
    },
    {
     "name": "stderr",
     "output_type": "stream",
     "text": [
      "                                                                                \r"
     ]
    },
    {
     "name": "stdout",
     "output_type": "stream",
     "text": [
      "=== CLEANING \"yellow/2020-09.parquet\"\n",
      "STARTING WITH 1341017 ROWS\n"
     ]
    },
    {
     "name": "stderr",
     "output_type": "stream",
     "text": [
      "                                                                                \r"
     ]
    },
    {
     "name": "stdout",
     "output_type": "stream",
     "text": [
      "REDUCED TO 1318248 ROWS\n"
     ]
    },
    {
     "name": "stderr",
     "output_type": "stream",
     "text": [
      "                                                                                \r"
     ]
    },
    {
     "name": "stdout",
     "output_type": "stream",
     "text": [
      "=== CLEANING \"yellow/2020-10.parquet\"\n",
      "STARTING WITH 1681132 ROWS\n"
     ]
    },
    {
     "name": "stderr",
     "output_type": "stream",
     "text": [
      "                                                                                \r"
     ]
    },
    {
     "name": "stdout",
     "output_type": "stream",
     "text": [
      "REDUCED TO 1656734 ROWS\n"
     ]
    },
    {
     "name": "stderr",
     "output_type": "stream",
     "text": [
      "                                                                                \r"
     ]
    },
    {
     "name": "stdout",
     "output_type": "stream",
     "text": [
      "=== CLEANING \"yellow/2020-11.parquet\"\n",
      "STARTING WITH 1509000 ROWS\n"
     ]
    },
    {
     "name": "stderr",
     "output_type": "stream",
     "text": [
      "                                                                                \r"
     ]
    },
    {
     "name": "stdout",
     "output_type": "stream",
     "text": [
      "REDUCED TO 1489897 ROWS\n"
     ]
    },
    {
     "name": "stderr",
     "output_type": "stream",
     "text": [
      "                                                                                \r"
     ]
    },
    {
     "name": "stdout",
     "output_type": "stream",
     "text": [
      "=== CLEANING \"yellow/2020-12.parquet\"\n",
      "STARTING WITH 1461898 ROWS\n"
     ]
    },
    {
     "name": "stderr",
     "output_type": "stream",
     "text": [
      "                                                                                \r"
     ]
    },
    {
     "name": "stdout",
     "output_type": "stream",
     "text": [
      "REDUCED TO 1444543 ROWS\n"
     ]
    },
    {
     "name": "stderr",
     "output_type": "stream",
     "text": [
      "                                                                                \r"
     ]
    },
    {
     "name": "stdout",
     "output_type": "stream",
     "text": [
      "=== CLEANING \"yellow/2021-01.parquet\"\n",
      "STARTING WITH 1369769 ROWS\n"
     ]
    },
    {
     "name": "stderr",
     "output_type": "stream",
     "text": [
      "                                                                                \r"
     ]
    },
    {
     "name": "stdout",
     "output_type": "stream",
     "text": [
      "REDUCED TO 1349814 ROWS\n"
     ]
    },
    {
     "name": "stderr",
     "output_type": "stream",
     "text": [
      "                                                                                \r"
     ]
    },
    {
     "name": "stdout",
     "output_type": "stream",
     "text": [
      "=== CLEANING \"yellow/2021-02.parquet\"\n",
      "STARTING WITH 1371709 ROWS\n"
     ]
    },
    {
     "name": "stderr",
     "output_type": "stream",
     "text": [
      "                                                                                \r"
     ]
    },
    {
     "name": "stdout",
     "output_type": "stream",
     "text": [
      "REDUCED TO 1352825 ROWS\n"
     ]
    },
    {
     "name": "stderr",
     "output_type": "stream",
     "text": [
      "                                                                                \r"
     ]
    },
    {
     "name": "stdout",
     "output_type": "stream",
     "text": [
      "=== CLEANING \"yellow/2021-03.parquet\"\n",
      "STARTING WITH 1925152 ROWS\n"
     ]
    },
    {
     "name": "stderr",
     "output_type": "stream",
     "text": [
      "                                                                                \r"
     ]
    },
    {
     "name": "stdout",
     "output_type": "stream",
     "text": [
      "REDUCED TO 1900716 ROWS\n"
     ]
    },
    {
     "name": "stderr",
     "output_type": "stream",
     "text": [
      "                                                                                \r"
     ]
    },
    {
     "name": "stdout",
     "output_type": "stream",
     "text": [
      "=== CLEANING \"yellow/2021-04.parquet\"\n",
      "STARTING WITH 2171187 ROWS\n"
     ]
    },
    {
     "name": "stderr",
     "output_type": "stream",
     "text": [
      "                                                                                \r"
     ]
    },
    {
     "name": "stdout",
     "output_type": "stream",
     "text": [
      "REDUCED TO 2139723 ROWS\n"
     ]
    },
    {
     "name": "stderr",
     "output_type": "stream",
     "text": [
      "                                                                                \r"
     ]
    },
    {
     "name": "stdout",
     "output_type": "stream",
     "text": [
      "=== CLEANING \"yellow/2021-05.parquet\"\n",
      "STARTING WITH 2507109 ROWS\n"
     ]
    },
    {
     "name": "stderr",
     "output_type": "stream",
     "text": [
      "                                                                                \r"
     ]
    },
    {
     "name": "stdout",
     "output_type": "stream",
     "text": [
      "REDUCED TO 2474228 ROWS\n"
     ]
    },
    {
     "name": "stderr",
     "output_type": "stream",
     "text": [
      "                                                                                \r"
     ]
    },
    {
     "name": "stdout",
     "output_type": "stream",
     "text": [
      "=== CLEANING \"yellow/2021-06.parquet\"\n",
      "STARTING WITH 2834264 ROWS\n"
     ]
    },
    {
     "name": "stderr",
     "output_type": "stream",
     "text": [
      "                                                                                \r"
     ]
    },
    {
     "name": "stdout",
     "output_type": "stream",
     "text": [
      "REDUCED TO 2800084 ROWS\n"
     ]
    },
    {
     "name": "stderr",
     "output_type": "stream",
     "text": [
      "                                                                                \r"
     ]
    },
    {
     "name": "stdout",
     "output_type": "stream",
     "text": [
      "=== CLEANING \"yellow/2021-07.parquet\"\n",
      "STARTING WITH 2821746 ROWS\n"
     ]
    },
    {
     "name": "stderr",
     "output_type": "stream",
     "text": [
      "                                                                                \r"
     ]
    },
    {
     "name": "stdout",
     "output_type": "stream",
     "text": [
      "REDUCED TO 2784377 ROWS\n"
     ]
    },
    {
     "name": "stderr",
     "output_type": "stream",
     "text": [
      "                                                                                \r"
     ]
    },
    {
     "name": "stdout",
     "output_type": "stream",
     "text": [
      "=== CLEANING \"yellow/2021-08.parquet\"\n",
      "STARTING WITH 2788757 ROWS\n"
     ]
    },
    {
     "name": "stderr",
     "output_type": "stream",
     "text": [
      "                                                                                \r"
     ]
    },
    {
     "name": "stdout",
     "output_type": "stream",
     "text": [
      "REDUCED TO 2751198 ROWS\n"
     ]
    },
    {
     "name": "stderr",
     "output_type": "stream",
     "text": [
      "                                                                                \r"
     ]
    },
    {
     "name": "stdout",
     "output_type": "stream",
     "text": [
      "=== CLEANING \"yellow/2021-09.parquet\"\n",
      "STARTING WITH 2963793 ROWS\n"
     ]
    },
    {
     "name": "stderr",
     "output_type": "stream",
     "text": [
      "                                                                                \r"
     ]
    },
    {
     "name": "stdout",
     "output_type": "stream",
     "text": [
      "REDUCED TO 2907626 ROWS\n"
     ]
    },
    {
     "name": "stderr",
     "output_type": "stream",
     "text": [
      "                                                                                \r"
     ]
    },
    {
     "name": "stdout",
     "output_type": "stream",
     "text": [
      "=== CLEANING \"yellow/2021-10.parquet\"\n",
      "STARTING WITH 3463504 ROWS\n"
     ]
    },
    {
     "name": "stderr",
     "output_type": "stream",
     "text": [
      "                                                                                \r"
     ]
    },
    {
     "name": "stdout",
     "output_type": "stream",
     "text": [
      "REDUCED TO 3420698 ROWS\n"
     ]
    },
    {
     "name": "stderr",
     "output_type": "stream",
     "text": [
      "                                                                                \r"
     ]
    },
    {
     "name": "stdout",
     "output_type": "stream",
     "text": [
      "=== CLEANING \"yellow/2021-11.parquet\"\n",
      "STARTING WITH 3472949 ROWS\n"
     ]
    },
    {
     "name": "stderr",
     "output_type": "stream",
     "text": [
      "                                                                                \r"
     ]
    },
    {
     "name": "stdout",
     "output_type": "stream",
     "text": [
      "REDUCED TO 3437593 ROWS\n"
     ]
    },
    {
     "name": "stderr",
     "output_type": "stream",
     "text": [
      "                                                                                \r"
     ]
    },
    {
     "name": "stdout",
     "output_type": "stream",
     "text": [
      "=== CLEANING \"yellow/2021-12.parquet\"\n",
      "STARTING WITH 3214369 ROWS\n"
     ]
    },
    {
     "name": "stderr",
     "output_type": "stream",
     "text": [
      "                                                                                \r"
     ]
    },
    {
     "name": "stdout",
     "output_type": "stream",
     "text": [
      "REDUCED TO 3177337 ROWS\n"
     ]
    },
    {
     "name": "stderr",
     "output_type": "stream",
     "text": [
      "                                                                                \r"
     ]
    }
   ],
   "source": [
    "# iterate through the TLC names/types (~5-10 mins)\n",
    "# TODO: commenting\n",
    "stacked_tlc_df = None\n",
    "for name in TLC_NAMES:\n",
    "    # iterate through the downloaded files per taxi type\n",
    "    for filename in os.listdir(f'../data/raw/tlc/{name}'):\n",
    "\n",
    "        # read the parquet in\n",
    "        tlc_df = spark.read.parquet(f'../data/raw/tlc/{name}/{filename}')\n",
    "\n",
    "        # debug info\n",
    "        print(f'=== CLEANING \"{name}/{filename}\"')\n",
    "    \n",
    "        if DEBUGGING:\n",
    "            print(f'STARTING WITH {tlc_df.count()} ROWS')\n",
    "\n",
    "        tlc_df = ch.perform_cleaning(tlc_df, mmwr_weeks_df, TLC_KEEP_COLUMNS, \n",
    "            TLC_CLEAN_COLUMNS)\n",
    "\n",
    "        if stacked_tlc_df == None:\n",
    "            stacked_tlc_df = tlc_df\n",
    "        else:\n",
    "            stacked_tlc_df = stacked_tlc_df.union(tlc_df)\n",
    "\n",
    "        if DEBUGGING:\n",
    "            print(f'REDUCED TO {tlc_df.count()} ROWS')\n",
    "        \n",
    "        # write to file system\n",
    "        tlc_df.write.mode('overwrite')\\\n",
    "            .parquet(f'../data/curated/tlc/cleaned/{name}/{filename}')\n",
    "\n",
    "# stacked_tlc_df.write.mode('overwrite')\\\n",
    "#     .parquet(f'../data/curated/tlc/cleaned/{name}.parquet')"
   ]
  },
  {
   "cell_type": "markdown",
   "metadata": {},
   "source": [
    "### 2. Cleaning the COVID dataset"
   ]
  },
  {
   "cell_type": "code",
   "execution_count": 7,
   "metadata": {},
   "outputs": [
    {
     "name": "stdout",
     "output_type": "stream",
     "text": [
      "22/08/09 00:56:46 WARN package: Truncated the string representation of a plan since it was too large. This behavior can be adjusted by setting 'spark.sql.debug.maxToStringFields'.\n"
     ]
    },
    {
     "data": {
      "text/html": [
       "<table border='1'>\n",
       "<tr><th>date_of_interest</th><th>CASE_COUNT</th><th>PROBABLE_CASE_COUNT</th><th>HOSPITALIZED_COUNT</th><th>DEATH_COUNT</th><th>PROBABLE_DEATH_COUNT</th><th>CASE_COUNT_7DAY_AVG</th><th>ALL_CASE_COUNT_7DAY_AVG</th><th>HOSP_COUNT_7DAY_AVG</th><th>DEATH_COUNT_7DAY_AVG</th><th>ALL_DEATH_COUNT_7DAY_AVG</th><th>BX_CASE_COUNT</th><th>BX_PROBABLE_CASE_COUNT</th><th>BX_HOSPITALIZED_COUNT</th><th>BX_DEATH_COUNT</th><th>BX_PROBABLE_DEATH_COUNT</th><th>BX_CASE_COUNT_7DAY_AVG</th><th>BX_PROBABLE_CASE_COUNT_7DAY_AVG</th><th>BX_ALL_CASE_COUNT_7DAY_AVG</th><th>BX_HOSPITALIZED_COUNT_7DAY_AVG</th><th>BX_DEATH_COUNT_7DAY_AVG</th><th>BX_ALL_DEATH_COUNT_7DAY_AVG</th><th>BK_CASE_COUNT</th><th>BK_PROBABLE_CASE_COUNT</th><th>BK_HOSPITALIZED_COUNT</th><th>BK_DEATH_COUNT</th><th>BK_PROBABLE_DEATH_COUNT</th><th>BK_CASE_COUNT_7DAY_AVG</th><th>BK_PROBABLE_CASE_COUNT_7DAY_AVG</th><th>BK_ALL_CASE_COUNT_7DAY_AVG</th><th>BK_HOSPITALIZED_COUNT_7DAY_AVG</th><th>BK_DEATH_COUNT_7DAY_AVG</th><th>BK_ALL_DEATH_COUNT_7DAY_AVG</th><th>MN_CASE_COUNT</th><th>MN_PROBABLE_CASE_COUNT</th><th>MN_HOSPITALIZED_COUNT</th><th>MN_DEATH_COUNT</th><th>MN_PROBABLE_DEATH_COUNT</th><th>MN_CASE_COUNT_7DAY_AVG</th><th>MN_PROBABLE_CASE_COUNT_7DAY_AVG</th><th>MN_ALL_CASE_COUNT_7DAY_AVG</th><th>MN_HOSPITALIZED_COUNT_7DAY_AVG</th><th>MN_DEATH_COUNT_7DAY_AVG</th><th>MN_ALL_DEATH_COUNT_7DAY_AVG</th><th>QN_CASE_COUNT</th><th>QN_PROBABLE_CASE_COUNT</th><th>QN_HOSPITALIZED_COUNT</th><th>QN_DEATH_COUNT</th><th>QN_PROBABLE_DEATH_COUNT</th><th>QN_CASE_COUNT_7DAY_AVG</th><th>QN_PROBABLE_CASE_COUNT_7DAY_AVG</th><th>QN_ALL_CASE_COUNT_7DAY_AVG</th><th>QN_HOSPITALIZED_COUNT_7DAY_AVG</th><th>QN_DEATH_COUNT_7DAY_AVG</th><th>QN_ALL_DEATH_COUNT_7DAY_AVG</th><th>SI_CASE_COUNT</th><th>SI_PROBABLE_CASE_COUNT</th><th>SI_HOSPITALIZED_COUNT</th><th>SI_DEATH_COUNT</th><th>SI_PROBABLE_DEATH_COUNT</th><th>SI_CASE_COUNT_7DAY_AVG</th><th>SI_PROBABLE_CASE_COUNT_7DAY_AVG</th><th>SI_ALL_CASE_COUNT_7DAY_AVG</th><th>SI_HOSPITALIZED_COUNT_7DAY_AVG</th><th>SI_DEATH_COUNT_7DAY_AVG</th><th>SI_ALL_DEATH_COUNT_7DAY_AVG</th><th>INCOMPLETE</th></tr>\n",
       "<tr><td>02/29/2020</td><td>1</td><td>0</td><td>1</td><td>0</td><td>0</td><td>0</td><td>0</td><td>0</td><td>0</td><td>0</td><td>0</td><td>0</td><td>0</td><td>0</td><td>0</td><td>0</td><td>0</td><td>0</td><td>0</td><td>0</td><td>0</td><td>0</td><td>0</td><td>1</td><td>0</td><td>0</td><td>0</td><td>0</td><td>0</td><td>0</td><td>0</td><td>0</td><td>1</td><td>0</td><td>0</td><td>0</td><td>0</td><td>0</td><td>0</td><td>0</td><td>0</td><td>0</td><td>0</td><td>0</td><td>0</td><td>0</td><td>0</td><td>0</td><td>0</td><td>0</td><td>0</td><td>0</td><td>0</td><td>0</td><td>0</td><td>0</td><td>0</td><td>0</td><td>0</td><td>0</td><td>0</td><td>0</td><td>0</td><td>0</td><td>0</td><td>0</td></tr>\n",
       "<tr><td>03/01/2020</td><td>0</td><td>0</td><td>1</td><td>0</td><td>0</td><td>0</td><td>0</td><td>0</td><td>0</td><td>0</td><td>0</td><td>0</td><td>1</td><td>0</td><td>0</td><td>0</td><td>0</td><td>0</td><td>0</td><td>0</td><td>0</td><td>0</td><td>0</td><td>0</td><td>0</td><td>0</td><td>0</td><td>0</td><td>0</td><td>0</td><td>0</td><td>0</td><td>0</td><td>0</td><td>0</td><td>0</td><td>0</td><td>0</td><td>0</td><td>0</td><td>0</td><td>0</td><td>0</td><td>0</td><td>0</td><td>0</td><td>0</td><td>0</td><td>0</td><td>0</td><td>0</td><td>0</td><td>0</td><td>0</td><td>0</td><td>0</td><td>0</td><td>0</td><td>0</td><td>0</td><td>0</td><td>0</td><td>0</td><td>0</td><td>0</td><td>0</td></tr>\n",
       "<tr><td>03/02/2020</td><td>0</td><td>0</td><td>2</td><td>0</td><td>0</td><td>0</td><td>0</td><td>0</td><td>0</td><td>0</td><td>0</td><td>0</td><td>0</td><td>0</td><td>0</td><td>0</td><td>0</td><td>0</td><td>0</td><td>0</td><td>0</td><td>0</td><td>0</td><td>2</td><td>0</td><td>0</td><td>0</td><td>0</td><td>0</td><td>0</td><td>0</td><td>0</td><td>0</td><td>0</td><td>0</td><td>0</td><td>0</td><td>0</td><td>0</td><td>0</td><td>0</td><td>0</td><td>0</td><td>0</td><td>0</td><td>0</td><td>0</td><td>0</td><td>0</td><td>0</td><td>0</td><td>0</td><td>0</td><td>0</td><td>0</td><td>0</td><td>0</td><td>0</td><td>0</td><td>0</td><td>0</td><td>0</td><td>0</td><td>0</td><td>0</td><td>0</td></tr>\n",
       "<tr><td>03/03/2020</td><td>1</td><td>0</td><td>7</td><td>0</td><td>0</td><td>0</td><td>0</td><td>0</td><td>0</td><td>0</td><td>0</td><td>0</td><td>1</td><td>0</td><td>0</td><td>0</td><td>0</td><td>0</td><td>0</td><td>0</td><td>0</td><td>0</td><td>0</td><td>3</td><td>0</td><td>0</td><td>0</td><td>0</td><td>0</td><td>0</td><td>0</td><td>0</td><td>0</td><td>0</td><td>1</td><td>0</td><td>0</td><td>0</td><td>0</td><td>0</td><td>0</td><td>0</td><td>0</td><td>1</td><td>0</td><td>2</td><td>0</td><td>0</td><td>0</td><td>0</td><td>0</td><td>0</td><td>0</td><td>0</td><td>0</td><td>0</td><td>0</td><td>0</td><td>0</td><td>0</td><td>0</td><td>0</td><td>0</td><td>0</td><td>0</td><td>0</td></tr>\n",
       "<tr><td>03/04/2020</td><td>5</td><td>0</td><td>2</td><td>0</td><td>0</td><td>0</td><td>0</td><td>0</td><td>0</td><td>0</td><td>0</td><td>0</td><td>0</td><td>0</td><td>0</td><td>0</td><td>0</td><td>0</td><td>0</td><td>0</td><td>0</td><td>1</td><td>0</td><td>1</td><td>0</td><td>0</td><td>0</td><td>0</td><td>0</td><td>0</td><td>0</td><td>0</td><td>2</td><td>0</td><td>1</td><td>0</td><td>0</td><td>0</td><td>0</td><td>0</td><td>0</td><td>0</td><td>0</td><td>2</td><td>0</td><td>0</td><td>0</td><td>0</td><td>0</td><td>0</td><td>0</td><td>0</td><td>0</td><td>0</td><td>0</td><td>0</td><td>0</td><td>0</td><td>0</td><td>0</td><td>0</td><td>0</td><td>0</td><td>0</td><td>0</td><td>0</td></tr>\n",
       "<tr><td>03/05/2020</td><td>3</td><td>0</td><td>14</td><td>0</td><td>0</td><td>0</td><td>0</td><td>0</td><td>0</td><td>0</td><td>0</td><td>0</td><td>1</td><td>0</td><td>0</td><td>0</td><td>0</td><td>0</td><td>0</td><td>0</td><td>0</td><td>3</td><td>0</td><td>3</td><td>0</td><td>0</td><td>0</td><td>0</td><td>0</td><td>0</td><td>0</td><td>0</td><td>0</td><td>0</td><td>5</td><td>0</td><td>0</td><td>0</td><td>0</td><td>0</td><td>0</td><td>0</td><td>0</td><td>0</td><td>0</td><td>4</td><td>0</td><td>0</td><td>0</td><td>0</td><td>0</td><td>0</td><td>0</td><td>0</td><td>0</td><td>0</td><td>1</td><td>0</td><td>0</td><td>0</td><td>0</td><td>0</td><td>0</td><td>0</td><td>0</td><td>0</td></tr>\n",
       "<tr><td>03/06/2020</td><td>8</td><td>0</td><td>8</td><td>0</td><td>0</td><td>3</td><td>3</td><td>5</td><td>0</td><td>0</td><td>2</td><td>0</td><td>1</td><td>0</td><td>0</td><td>0</td><td>0</td><td>0</td><td>1</td><td>0</td><td>0</td><td>1</td><td>0</td><td>1</td><td>0</td><td>0</td><td>1</td><td>0</td><td>1</td><td>2</td><td>0</td><td>0</td><td>3</td><td>0</td><td>3</td><td>0</td><td>0</td><td>1</td><td>0</td><td>1</td><td>1</td><td>0</td><td>0</td><td>1</td><td>0</td><td>2</td><td>0</td><td>0</td><td>1</td><td>0</td><td>1</td><td>1</td><td>0</td><td>0</td><td>1</td><td>0</td><td>1</td><td>0</td><td>0</td><td>0</td><td>0</td><td>0</td><td>0</td><td>0</td><td>0</td><td>0</td></tr>\n",
       "<tr><td>03/07/2020</td><td>7</td><td>0</td><td>8</td><td>0</td><td>0</td><td>3</td><td>3</td><td>6</td><td>0</td><td>0</td><td>0</td><td>0</td><td>1</td><td>0</td><td>0</td><td>0</td><td>0</td><td>0</td><td>1</td><td>0</td><td>0</td><td>2</td><td>0</td><td>3</td><td>0</td><td>0</td><td>1</td><td>0</td><td>1</td><td>2</td><td>0</td><td>0</td><td>1</td><td>0</td><td>0</td><td>0</td><td>0</td><td>1</td><td>0</td><td>1</td><td>1</td><td>0</td><td>0</td><td>3</td><td>0</td><td>4</td><td>0</td><td>0</td><td>1</td><td>0</td><td>1</td><td>2</td><td>0</td><td>0</td><td>1</td><td>0</td><td>0</td><td>0</td><td>0</td><td>0</td><td>0</td><td>0</td><td>0</td><td>0</td><td>0</td><td>0</td></tr>\n",
       "<tr><td>03/08/2020</td><td>21</td><td>0</td><td>18</td><td>0</td><td>0</td><td>6</td><td>6</td><td>8</td><td>0</td><td>0</td><td>3</td><td>0</td><td>5</td><td>0</td><td>0</td><td>1</td><td>0</td><td>1</td><td>1</td><td>0</td><td>0</td><td>5</td><td>0</td><td>8</td><td>0</td><td>0</td><td>2</td><td>0</td><td>2</td><td>3</td><td>0</td><td>0</td><td>6</td><td>0</td><td>1</td><td>0</td><td>0</td><td>2</td><td>0</td><td>2</td><td>2</td><td>0</td><td>0</td><td>6</td><td>0</td><td>4</td><td>0</td><td>0</td><td>2</td><td>0</td><td>2</td><td>2</td><td>0</td><td>0</td><td>1</td><td>0</td><td>0</td><td>0</td><td>0</td><td>0</td><td>0</td><td>0</td><td>0</td><td>0</td><td>0</td><td>0</td></tr>\n",
       "<tr><td>03/09/2020</td><td>57</td><td>0</td><td>37</td><td>0</td><td>0</td><td>15</td><td>15</td><td>13</td><td>0</td><td>0</td><td>4</td><td>0</td><td>7</td><td>0</td><td>0</td><td>1</td><td>0</td><td>1</td><td>2</td><td>0</td><td>0</td><td>16</td><td>0</td><td>11</td><td>0</td><td>0</td><td>4</td><td>0</td><td>4</td><td>4</td><td>0</td><td>0</td><td>24</td><td>0</td><td>10</td><td>0</td><td>0</td><td>5</td><td>0</td><td>5</td><td>3</td><td>0</td><td>0</td><td>10</td><td>0</td><td>8</td><td>0</td><td>0</td><td>3</td><td>0</td><td>3</td><td>3</td><td>0</td><td>0</td><td>3</td><td>0</td><td>2</td><td>0</td><td>0</td><td>1</td><td>0</td><td>1</td><td>1</td><td>0</td><td>0</td><td>0</td></tr>\n",
       "</table>\n"
      ],
      "text/plain": [
       "+----------------+----------+-------------------+------------------+-----------+--------------------+-------------------+-----------------------+-------------------+--------------------+------------------------+-------------+----------------------+---------------------+--------------+-----------------------+----------------------+-------------------------------+--------------------------+------------------------------+-----------------------+---------------------------+-------------+----------------------+---------------------+--------------+-----------------------+----------------------+-------------------------------+--------------------------+------------------------------+-----------------------+---------------------------+-------------+----------------------+---------------------+--------------+-----------------------+----------------------+-------------------------------+--------------------------+------------------------------+-----------------------+---------------------------+-------------+----------------------+---------------------+--------------+-----------------------+----------------------+-------------------------------+--------------------------+------------------------------+-----------------------+---------------------------+-------------+----------------------+---------------------+--------------+-----------------------+----------------------+-------------------------------+--------------------------+------------------------------+-----------------------+---------------------------+----------+\n",
       "|date_of_interest|CASE_COUNT|PROBABLE_CASE_COUNT|HOSPITALIZED_COUNT|DEATH_COUNT|PROBABLE_DEATH_COUNT|CASE_COUNT_7DAY_AVG|ALL_CASE_COUNT_7DAY_AVG|HOSP_COUNT_7DAY_AVG|DEATH_COUNT_7DAY_AVG|ALL_DEATH_COUNT_7DAY_AVG|BX_CASE_COUNT|BX_PROBABLE_CASE_COUNT|BX_HOSPITALIZED_COUNT|BX_DEATH_COUNT|BX_PROBABLE_DEATH_COUNT|BX_CASE_COUNT_7DAY_AVG|BX_PROBABLE_CASE_COUNT_7DAY_AVG|BX_ALL_CASE_COUNT_7DAY_AVG|BX_HOSPITALIZED_COUNT_7DAY_AVG|BX_DEATH_COUNT_7DAY_AVG|BX_ALL_DEATH_COUNT_7DAY_AVG|BK_CASE_COUNT|BK_PROBABLE_CASE_COUNT|BK_HOSPITALIZED_COUNT|BK_DEATH_COUNT|BK_PROBABLE_DEATH_COUNT|BK_CASE_COUNT_7DAY_AVG|BK_PROBABLE_CASE_COUNT_7DAY_AVG|BK_ALL_CASE_COUNT_7DAY_AVG|BK_HOSPITALIZED_COUNT_7DAY_AVG|BK_DEATH_COUNT_7DAY_AVG|BK_ALL_DEATH_COUNT_7DAY_AVG|MN_CASE_COUNT|MN_PROBABLE_CASE_COUNT|MN_HOSPITALIZED_COUNT|MN_DEATH_COUNT|MN_PROBABLE_DEATH_COUNT|MN_CASE_COUNT_7DAY_AVG|MN_PROBABLE_CASE_COUNT_7DAY_AVG|MN_ALL_CASE_COUNT_7DAY_AVG|MN_HOSPITALIZED_COUNT_7DAY_AVG|MN_DEATH_COUNT_7DAY_AVG|MN_ALL_DEATH_COUNT_7DAY_AVG|QN_CASE_COUNT|QN_PROBABLE_CASE_COUNT|QN_HOSPITALIZED_COUNT|QN_DEATH_COUNT|QN_PROBABLE_DEATH_COUNT|QN_CASE_COUNT_7DAY_AVG|QN_PROBABLE_CASE_COUNT_7DAY_AVG|QN_ALL_CASE_COUNT_7DAY_AVG|QN_HOSPITALIZED_COUNT_7DAY_AVG|QN_DEATH_COUNT_7DAY_AVG|QN_ALL_DEATH_COUNT_7DAY_AVG|SI_CASE_COUNT|SI_PROBABLE_CASE_COUNT|SI_HOSPITALIZED_COUNT|SI_DEATH_COUNT|SI_PROBABLE_DEATH_COUNT|SI_CASE_COUNT_7DAY_AVG|SI_PROBABLE_CASE_COUNT_7DAY_AVG|SI_ALL_CASE_COUNT_7DAY_AVG|SI_HOSPITALIZED_COUNT_7DAY_AVG|SI_DEATH_COUNT_7DAY_AVG|SI_ALL_DEATH_COUNT_7DAY_AVG|INCOMPLETE|\n",
       "+----------------+----------+-------------------+------------------+-----------+--------------------+-------------------+-----------------------+-------------------+--------------------+------------------------+-------------+----------------------+---------------------+--------------+-----------------------+----------------------+-------------------------------+--------------------------+------------------------------+-----------------------+---------------------------+-------------+----------------------+---------------------+--------------+-----------------------+----------------------+-------------------------------+--------------------------+------------------------------+-----------------------+---------------------------+-------------+----------------------+---------------------+--------------+-----------------------+----------------------+-------------------------------+--------------------------+------------------------------+-----------------------+---------------------------+-------------+----------------------+---------------------+--------------+-----------------------+----------------------+-------------------------------+--------------------------+------------------------------+-----------------------+---------------------------+-------------+----------------------+---------------------+--------------+-----------------------+----------------------+-------------------------------+--------------------------+------------------------------+-----------------------+---------------------------+----------+\n",
       "|      02/29/2020|         1|                  0|                 1|          0|                   0|                  0|                      0|                  0|                   0|                       0|            0|                     0|                    0|             0|                      0|                     0|                              0|                         0|                             0|                      0|                          0|            0|                     0|                    1|             0|                      0|                     0|                              0|                         0|                             0|                      0|                          0|            1|                     0|                    0|             0|                      0|                     0|                              0|                         0|                             0|                      0|                          0|            0|                     0|                    0|             0|                      0|                     0|                              0|                         0|                             0|                      0|                          0|            0|                     0|                    0|             0|                      0|                     0|                              0|                         0|                             0|                      0|                          0|         0|\n",
       "|      03/01/2020|         0|                  0|                 1|          0|                   0|                  0|                      0|                  0|                   0|                       0|            0|                     0|                    1|             0|                      0|                     0|                              0|                         0|                             0|                      0|                          0|            0|                     0|                    0|             0|                      0|                     0|                              0|                         0|                             0|                      0|                          0|            0|                     0|                    0|             0|                      0|                     0|                              0|                         0|                             0|                      0|                          0|            0|                     0|                    0|             0|                      0|                     0|                              0|                         0|                             0|                      0|                          0|            0|                     0|                    0|             0|                      0|                     0|                              0|                         0|                             0|                      0|                          0|         0|\n",
       "|      03/02/2020|         0|                  0|                 2|          0|                   0|                  0|                      0|                  0|                   0|                       0|            0|                     0|                    0|             0|                      0|                     0|                              0|                         0|                             0|                      0|                          0|            0|                     0|                    2|             0|                      0|                     0|                              0|                         0|                             0|                      0|                          0|            0|                     0|                    0|             0|                      0|                     0|                              0|                         0|                             0|                      0|                          0|            0|                     0|                    0|             0|                      0|                     0|                              0|                         0|                             0|                      0|                          0|            0|                     0|                    0|             0|                      0|                     0|                              0|                         0|                             0|                      0|                          0|         0|\n",
       "|      03/03/2020|         1|                  0|                 7|          0|                   0|                  0|                      0|                  0|                   0|                       0|            0|                     0|                    1|             0|                      0|                     0|                              0|                         0|                             0|                      0|                          0|            0|                     0|                    3|             0|                      0|                     0|                              0|                         0|                             0|                      0|                          0|            0|                     0|                    1|             0|                      0|                     0|                              0|                         0|                             0|                      0|                          0|            1|                     0|                    2|             0|                      0|                     0|                              0|                         0|                             0|                      0|                          0|            0|                     0|                    0|             0|                      0|                     0|                              0|                         0|                             0|                      0|                          0|         0|\n",
       "|      03/04/2020|         5|                  0|                 2|          0|                   0|                  0|                      0|                  0|                   0|                       0|            0|                     0|                    0|             0|                      0|                     0|                              0|                         0|                             0|                      0|                          0|            1|                     0|                    1|             0|                      0|                     0|                              0|                         0|                             0|                      0|                          0|            2|                     0|                    1|             0|                      0|                     0|                              0|                         0|                             0|                      0|                          0|            2|                     0|                    0|             0|                      0|                     0|                              0|                         0|                             0|                      0|                          0|            0|                     0|                    0|             0|                      0|                     0|                              0|                         0|                             0|                      0|                          0|         0|\n",
       "|      03/05/2020|         3|                  0|                14|          0|                   0|                  0|                      0|                  0|                   0|                       0|            0|                     0|                    1|             0|                      0|                     0|                              0|                         0|                             0|                      0|                          0|            3|                     0|                    3|             0|                      0|                     0|                              0|                         0|                             0|                      0|                          0|            0|                     0|                    5|             0|                      0|                     0|                              0|                         0|                             0|                      0|                          0|            0|                     0|                    4|             0|                      0|                     0|                              0|                         0|                             0|                      0|                          0|            0|                     0|                    1|             0|                      0|                     0|                              0|                         0|                             0|                      0|                          0|         0|\n",
       "|      03/06/2020|         8|                  0|                 8|          0|                   0|                  3|                      3|                  5|                   0|                       0|            2|                     0|                    1|             0|                      0|                     0|                              0|                         0|                             1|                      0|                          0|            1|                     0|                    1|             0|                      0|                     1|                              0|                         1|                             2|                      0|                          0|            3|                     0|                    3|             0|                      0|                     1|                              0|                         1|                             1|                      0|                          0|            1|                     0|                    2|             0|                      0|                     1|                              0|                         1|                             1|                      0|                          0|            1|                     0|                    1|             0|                      0|                     0|                              0|                         0|                             0|                      0|                          0|         0|\n",
       "|      03/07/2020|         7|                  0|                 8|          0|                   0|                  3|                      3|                  6|                   0|                       0|            0|                     0|                    1|             0|                      0|                     0|                              0|                         0|                             1|                      0|                          0|            2|                     0|                    3|             0|                      0|                     1|                              0|                         1|                             2|                      0|                          0|            1|                     0|                    0|             0|                      0|                     1|                              0|                         1|                             1|                      0|                          0|            3|                     0|                    4|             0|                      0|                     1|                              0|                         1|                             2|                      0|                          0|            1|                     0|                    0|             0|                      0|                     0|                              0|                         0|                             0|                      0|                          0|         0|\n",
       "|      03/08/2020|        21|                  0|                18|          0|                   0|                  6|                      6|                  8|                   0|                       0|            3|                     0|                    5|             0|                      0|                     1|                              0|                         1|                             1|                      0|                          0|            5|                     0|                    8|             0|                      0|                     2|                              0|                         2|                             3|                      0|                          0|            6|                     0|                    1|             0|                      0|                     2|                              0|                         2|                             2|                      0|                          0|            6|                     0|                    4|             0|                      0|                     2|                              0|                         2|                             2|                      0|                          0|            1|                     0|                    0|             0|                      0|                     0|                              0|                         0|                             0|                      0|                          0|         0|\n",
       "|      03/09/2020|        57|                  0|                37|          0|                   0|                 15|                     15|                 13|                   0|                       0|            4|                     0|                    7|             0|                      0|                     1|                              0|                         1|                             2|                      0|                          0|           16|                     0|                   11|             0|                      0|                     4|                              0|                         4|                             4|                      0|                          0|           24|                     0|                   10|             0|                      0|                     5|                              0|                         5|                             3|                      0|                          0|           10|                     0|                    8|             0|                      0|                     3|                              0|                         3|                             3|                      0|                          0|            3|                     0|                    2|             0|                      0|                     1|                              0|                         1|                             1|                      0|                          0|         0|\n",
       "+----------------+----------+-------------------+------------------+-----------+--------------------+-------------------+-----------------------+-------------------+--------------------+------------------------+-------------+----------------------+---------------------+--------------+-----------------------+----------------------+-------------------------------+--------------------------+------------------------------+-----------------------+---------------------------+-------------+----------------------+---------------------+--------------+-----------------------+----------------------+-------------------------------+--------------------------+------------------------------+-----------------------+---------------------------+-------------+----------------------+---------------------+--------------+-----------------------+----------------------+-------------------------------+--------------------------+------------------------------+-----------------------+---------------------------+-------------+----------------------+---------------------+--------------+-----------------------+----------------------+-------------------------------+--------------------------+------------------------------+-----------------------+---------------------------+-------------+----------------------+---------------------+--------------+-----------------------+----------------------+-------------------------------+--------------------------+------------------------------+-----------------------+---------------------------+----------+"
      ]
     },
     "execution_count": 7,
     "metadata": {},
     "output_type": "execute_result"
    }
   ],
   "source": [
    "# read in the covid dataset\n",
    "covid_df = spark.read.csv('../data/raw/virals/covid/cases-by-day.csv',\n",
    "    header = True)\n",
    "covid_df.limit(5)\n",
    "# TODO: commenting"
   ]
  },
  {
   "cell_type": "code",
   "execution_count": 8,
   "metadata": {},
   "outputs": [
    {
     "data": {
      "text/plain": [
       "Column<'(INCOMPLETE + 0)'>"
      ]
     },
     "execution_count": 8,
     "metadata": {},
     "output_type": "execute_result"
    }
   ],
   "source": [
    "# sum the number of incomplete datasets (ensure no incomplete values)\n",
    "sum(covid_df.select('INCOMPLETE'))\n",
    "# TODO: commenting"
   ]
  },
  {
   "cell_type": "code",
   "execution_count": 9,
   "metadata": {},
   "outputs": [],
   "source": [
    "# TODO: commenting on covid cleaning\n",
    "COVID_KEEP_COLUMNS = {\n",
    "    'date_of_interest':'date'\n",
    "}\n",
    "\n",
    "COVID_CLEAN_COLUMNS = defaultdict(lambda: ch.non_negative)\n",
    "\n",
    "COVID_BOROUGHS = {\n",
    "    '': 'Overall',\n",
    "    'BX_':'Bronx',\n",
    "    'BK_':'Brooklyn',\n",
    "    'MN_':'Manhattan',\n",
    "    'QN_':'Queens',\n",
    "    'SI_':'Staten Island',\n",
    "}\n",
    "\n",
    "COVID_COUNTS = {\n",
    "    'CASE_COUNT': 'cases', \n",
    "    'DEATH_COUNT': 'deaths', \n",
    "    'HOSPITALIZED_COUNT': 'hospitalised'\n",
    "}\n",
    "# TODO: commenting\n",
    "for prefix, new_prefix in COVID_BOROUGHS.items():\n",
    "    for suffix, new_suffix in COVID_COUNTS.items():\n",
    "        COVID_KEEP_COLUMNS[f'{prefix}{suffix}'] = f'{new_prefix}{new_suffix}'"
   ]
  },
  {
   "cell_type": "code",
   "execution_count": 10,
   "metadata": {},
   "outputs": [],
   "source": [
    "covid_df = ch.perform_cleaning(covid_df, mmwr_weeks_df, COVID_KEEP_COLUMNS, \n",
    "    COVID_CLEAN_COLUMNS)\n",
    "# TODO: commenting"
   ]
  },
  {
   "cell_type": "code",
   "execution_count": 11,
   "metadata": {},
   "outputs": [],
   "source": [
    "from itertools import product\n",
    "\n",
    "temp_df = None\n",
    "# TODO: commenting\n",
    "COVID_DATE_COLUMNS = [\n",
    "    F.col('date'), F.col('year'), F.col('cdc_week'), F.col('week_index'),\n",
    "]\n",
    "\n",
    "# The data here is very wide, I'd rather just have a 'borough' column\n",
    "# for homogeneity of all the data\n",
    "for prefix in COVID_BOROUGHS.values():\n",
    "    borough_columns = []\n",
    "    for suffix in COVID_COUNTS.values():\n",
    "        borough_columns.append(F.col(f'{prefix}{suffix}').alias(suffix))\n",
    "\n",
    "    if temp_df == None:\n",
    "        temp_df = covid_df.select(COVID_DATE_COLUMNS + borough_columns)\\\n",
    "            .withColumn('borough', F.lit(prefix))\n",
    "    else:\n",
    "        temp_df = temp_df\\\n",
    "            .union(\n",
    "                covid_df.select(COVID_DATE_COLUMNS + borough_columns)\\\n",
    "                    .withColumn('borough', F.lit(prefix))\n",
    "            )\n",
    "    \n",
    "covid_df = temp_df"
   ]
  },
  {
   "cell_type": "code",
   "execution_count": 12,
   "metadata": {},
   "outputs": [
    {
     "data": {
      "text/html": [
       "<table border='1'>\n",
       "<tr><th>date</th><th>year</th><th>cdc_week</th><th>week_index</th><th>cases</th><th>deaths</th><th>hospitalised</th><th>borough</th></tr>\n",
       "<tr><td>02/29/2020</td><td>2020</td><td>9</td><td>113</td><td>0</td><td>0</td><td>0</td><td>Bronx</td></tr>\n",
       "<tr><td>02/29/2020</td><td>2020</td><td>9</td><td>113</td><td>0</td><td>0</td><td>1</td><td>Brooklyn</td></tr>\n",
       "<tr><td>02/29/2020</td><td>2020</td><td>9</td><td>113</td><td>1</td><td>0</td><td>1</td><td>Overall</td></tr>\n",
       "<tr><td>02/29/2020</td><td>2020</td><td>9</td><td>113</td><td>1</td><td>0</td><td>0</td><td>Manhattan</td></tr>\n",
       "<tr><td>02/29/2020</td><td>2020</td><td>9</td><td>113</td><td>0</td><td>0</td><td>0</td><td>Queens</td></tr>\n",
       "<tr><td>02/29/2020</td><td>2020</td><td>9</td><td>113</td><td>0</td><td>0</td><td>0</td><td>Staten Island</td></tr>\n",
       "<tr><td>03/01/2020</td><td>2020</td><td>10</td><td>114</td><td>0</td><td>0</td><td>1</td><td>Overall</td></tr>\n",
       "<tr><td>03/01/2020</td><td>2020</td><td>10</td><td>114</td><td>0</td><td>0</td><td>0</td><td>Queens</td></tr>\n",
       "<tr><td>03/01/2020</td><td>2020</td><td>10</td><td>114</td><td>0</td><td>0</td><td>0</td><td>Manhattan</td></tr>\n",
       "<tr><td>03/01/2020</td><td>2020</td><td>10</td><td>114</td><td>0</td><td>0</td><td>0</td><td>Brooklyn</td></tr>\n",
       "</table>\n"
      ],
      "text/plain": [
       "+----------+----+--------+----------+-----+------+------------+-------------+\n",
       "|      date|year|cdc_week|week_index|cases|deaths|hospitalised|      borough|\n",
       "+----------+----+--------+----------+-----+------+------------+-------------+\n",
       "|02/29/2020|2020|       9|       113|    0|     0|           0|        Bronx|\n",
       "|02/29/2020|2020|       9|       113|    0|     0|           1|     Brooklyn|\n",
       "|02/29/2020|2020|       9|       113|    1|     0|           1|      Overall|\n",
       "|02/29/2020|2020|       9|       113|    1|     0|           0|    Manhattan|\n",
       "|02/29/2020|2020|       9|       113|    0|     0|           0|       Queens|\n",
       "|02/29/2020|2020|       9|       113|    0|     0|           0|Staten Island|\n",
       "|03/01/2020|2020|      10|       114|    0|     0|           1|      Overall|\n",
       "|03/01/2020|2020|      10|       114|    0|     0|           0|       Queens|\n",
       "|03/01/2020|2020|      10|       114|    0|     0|           0|    Manhattan|\n",
       "|03/01/2020|2020|      10|       114|    0|     0|           0|     Brooklyn|\n",
       "+----------+----+--------+----------+-----+------+------------+-------------+"
      ]
     },
     "execution_count": 12,
     "metadata": {},
     "output_type": "execute_result"
    }
   ],
   "source": [
    "covid_df.sort('week_index', 'date').limit(5)\n",
    "# TODO: commenting"
   ]
  },
  {
   "cell_type": "code",
   "execution_count": 13,
   "metadata": {},
   "outputs": [],
   "source": [
    "# save the cleaned covid data\n",
    "# TODO: commenting\n",
    "covid_df.write.mode('overwrite').parquet('../data/curated/virals/covid/cases-by-day')"
   ]
  },
  {
   "cell_type": "markdown",
   "metadata": {},
   "source": [
    "### 3. Cleaning the flu dataset"
   ]
  },
  {
   "cell_type": "code",
   "execution_count": 14,
   "metadata": {},
   "outputs": [
    {
     "data": {
      "text/html": [
       "<table border='1'>\n",
       "<tr><th>Season</th><th>Region</th><th>County</th><th>CDC Week</th><th>Week Ending Date</th><th>Disease</th><th>Count</th><th>County Centroid</th><th>FIPS</th></tr>\n",
       "<tr><td>2012-2013</td><td>NYC</td><td>RICHMOND</td><td>10</td><td>03/09/2013</td><td>INFLUENZA_A</td><td>0</td><td>(40.5795, -74.1502)</td><td>36085</td></tr>\n",
       "<tr><td>2011-2012</td><td>CAPITAL DISTRICT</td><td>ALBANY</td><td>10</td><td>03/10/2012</td><td>INFLUENZA_UNSPECI...</td><td>0</td><td>(42.5882713, -73....</td><td>36001</td></tr>\n",
       "<tr><td>2009-2010</td><td>CAPITAL DISTRICT</td><td>SCHENECTADY</td><td>41</td><td>10/17/2009</td><td>INFLUENZA_UNSPECI...</td><td>0</td><td>(42.8175421, -74....</td><td>36093</td></tr>\n",
       "<tr><td>2010-2011</td><td>WESTERN</td><td>CHAUTAUQUA</td><td>19</td><td>05/14/2011</td><td>INFLUENZA_B</td><td>0</td><td>(42.3042159, -79....</td><td>36013</td></tr>\n",
       "<tr><td>2013-2014</td><td>METRO</td><td>DUTCHESS</td><td>44</td><td>11/02/2013</td><td>INFLUENZA_A</td><td>0</td><td>(41.7550085, -73....</td><td>36027</td></tr>\n",
       "<tr><td>2009-2010</td><td>CAPITAL DISTRICT</td><td>SCHENECTADY</td><td>10</td><td>03/13/2010</td><td>INFLUENZA_UNSPECI...</td><td>0</td><td>(42.8175421, -74....</td><td>36093</td></tr>\n",
       "<tr><td>2011-2012</td><td>CENTRAL</td><td>CORTLAND</td><td>20</td><td>05/19/2012</td><td>INFLUENZA_B</td><td>0</td><td>(42.5938237, -76....</td><td>36023</td></tr>\n",
       "<tr><td>2012-2013</td><td>CAPITAL DISTRICT</td><td>RENSSELAER</td><td>43</td><td>10/27/2012</td><td>INFLUENZA_A</td><td>0</td><td>(42.7104206, -73....</td><td>36083</td></tr>\n",
       "<tr><td>2012-2013</td><td>METRO</td><td>DUTCHESS</td><td>3</td><td>01/19/2013</td><td>INFLUENZA_A</td><td>62</td><td>(41.7550085, -73....</td><td>36027</td></tr>\n",
       "<tr><td>2011-2012</td><td>CENTRAL</td><td>CAYUGA</td><td>46</td><td>11/19/2011</td><td>INFLUENZA_A</td><td>0</td><td>(43.0085456, -76....</td><td>36011</td></tr>\n",
       "</table>\n"
      ],
      "text/plain": [
       "+---------+----------------+-----------+--------+----------------+--------------------+-----+--------------------+-----+\n",
       "|   Season|          Region|     County|CDC Week|Week Ending Date|             Disease|Count|     County Centroid| FIPS|\n",
       "+---------+----------------+-----------+--------+----------------+--------------------+-----+--------------------+-----+\n",
       "|2012-2013|             NYC|   RICHMOND|      10|      03/09/2013|         INFLUENZA_A|    0| (40.5795, -74.1502)|36085|\n",
       "|2011-2012|CAPITAL DISTRICT|     ALBANY|      10|      03/10/2012|INFLUENZA_UNSPECI...|    0|(42.5882713, -73....|36001|\n",
       "|2009-2010|CAPITAL DISTRICT|SCHENECTADY|      41|      10/17/2009|INFLUENZA_UNSPECI...|    0|(42.8175421, -74....|36093|\n",
       "|2010-2011|         WESTERN| CHAUTAUQUA|      19|      05/14/2011|         INFLUENZA_B|    0|(42.3042159, -79....|36013|\n",
       "|2013-2014|           METRO|   DUTCHESS|      44|      11/02/2013|         INFLUENZA_A|    0|(41.7550085, -73....|36027|\n",
       "|2009-2010|CAPITAL DISTRICT|SCHENECTADY|      10|      03/13/2010|INFLUENZA_UNSPECI...|    0|(42.8175421, -74....|36093|\n",
       "|2011-2012|         CENTRAL|   CORTLAND|      20|      05/19/2012|         INFLUENZA_B|    0|(42.5938237, -76....|36023|\n",
       "|2012-2013|CAPITAL DISTRICT| RENSSELAER|      43|      10/27/2012|         INFLUENZA_A|    0|(42.7104206, -73....|36083|\n",
       "|2012-2013|           METRO|   DUTCHESS|       3|      01/19/2013|         INFLUENZA_A|   62|(41.7550085, -73....|36027|\n",
       "|2011-2012|         CENTRAL|     CAYUGA|      46|      11/19/2011|         INFLUENZA_A|    0|(43.0085456, -76....|36011|\n",
       "+---------+----------------+-----------+--------+----------------+--------------------+-----+--------------------+-----+"
      ]
     },
     "execution_count": 14,
     "metadata": {},
     "output_type": "execute_result"
    }
   ],
   "source": [
    "# read in the flu dataset\n",
    "# TODO: commenting\n",
    "flu_df = spark.read.csv('../data/raw/virals/flu/cases-by-week.csv',\n",
    "    header=True)\n",
    "flu_df.limit(5)"
   ]
  },
  {
   "cell_type": "code",
   "execution_count": 15,
   "metadata": {},
   "outputs": [],
   "source": [
    "FLU_KEEP_COLUMNS = {\n",
    "    'Week Ending Date': 'date',\n",
    "    'Region': 'region',\n",
    "    'County': 'borough',\n",
    "    'Disease': 'disease',\n",
    "    'Count': 'cases',\n",
    "}\n",
    "# TODO: commenting\n",
    "FLU_CLEAN_COLUMNS = {\n",
    "    'date': [],\n",
    "    'region': [lambda _: F.col('region') == 'NYC'],\n",
    "    'borough': [],\n",
    "    'disease': [],\n",
    "    'cases': [ch.non_negative]\n",
    "}"
   ]
  },
  {
   "cell_type": "code",
   "execution_count": 16,
   "metadata": {},
   "outputs": [],
   "source": [
    "# TODO: commenting\n",
    "flu_df:DataFrame = ch.perform_cleaning(flu_df, mmwr_weeks_df, FLU_KEEP_COLUMNS, \n",
    "    FLU_CLEAN_COLUMNS)"
   ]
  },
  {
   "cell_type": "code",
   "execution_count": 17,
   "metadata": {},
   "outputs": [
    {
     "data": {
      "text/html": [
       "<table border='1'>\n",
       "<tr><th>borough</th></tr>\n",
       "<tr><td>KINGS</td></tr>\n",
       "<tr><td>QUEENS</td></tr>\n",
       "<tr><td>BRONX</td></tr>\n",
       "<tr><td>RICHMOND</td></tr>\n",
       "<tr><td>NEW YORK</td></tr>\n",
       "</table>\n"
      ],
      "text/plain": [
       "+--------+\n",
       "| borough|\n",
       "+--------+\n",
       "|   KINGS|\n",
       "|  QUEENS|\n",
       "|   BRONX|\n",
       "|RICHMOND|\n",
       "|NEW YORK|\n",
       "+--------+"
      ]
     },
     "execution_count": 17,
     "metadata": {},
     "output_type": "execute_result"
    }
   ],
   "source": [
    "# get the list of distinct counties (column now called 'borough')\n",
    "flu_df.select('borough').distinct().limit(5)"
   ]
  },
  {
   "cell_type": "code",
   "execution_count": 18,
   "metadata": {},
   "outputs": [],
   "source": [
    "# map the boroughs to their proper names\n",
    "# from: https://portal.311.nyc.gov/article/?kanumber=KA-02877\n",
    "# also from map dict\n",
    "FLU_COUNTY_TO_BOROUGH = {\n",
    "    'BRONX': 'Bronx',\n",
    "    'KINGS': 'Brooklyn',\n",
    "    'NEW YORK': 'Manhattan',\n",
    "    'QUEENS': 'Queens',\n",
    "    'RICHMOND': 'Staten Island'\n",
    "}"
   ]
  },
  {
   "cell_type": "code",
   "execution_count": 19,
   "metadata": {},
   "outputs": [],
   "source": [
    "# apply the mapping to the flu df\n",
    "flu_df = ch.replace_column_using_dict(flu_df, 'borough', FLU_COUNTY_TO_BOROUGH)\n",
    "\n",
    "# also remove the regions column (not needed anymore)\n",
    "columns_without_regions = flu_df.columns[:]\n",
    "columns_without_regions.remove('region')\n",
    "flu_df = flu_df.select(columns_without_regions)"
   ]
  },
  {
   "cell_type": "code",
   "execution_count": 20,
   "metadata": {},
   "outputs": [
    {
     "data": {
      "text/html": [
       "<table border='1'>\n",
       "<tr><th>year</th><th>month</th><th>day</th><th>week_index</th><th>cdc_week</th><th>date</th><th>borough</th><th>disease</th><th>cases</th></tr>\n",
       "<tr><td>2018</td><td>4</td><td>7</td><td>14</td><td>14</td><td>04/07/2018</td><td>Staten Island</td><td>INFLUENZA_B</td><td>34</td></tr>\n",
       "<tr><td>2018</td><td>4</td><td>21</td><td>16</td><td>16</td><td>04/21/2018</td><td>Brooklyn</td><td>INFLUENZA_UNSPECI...</td><td>0</td></tr>\n",
       "<tr><td>2018</td><td>4</td><td>14</td><td>15</td><td>15</td><td>04/14/2018</td><td>Bronx</td><td>INFLUENZA_A</td><td>31</td></tr>\n",
       "<tr><td>2018</td><td>5</td><td>12</td><td>19</td><td>19</td><td>05/12/2018</td><td>Queens</td><td>INFLUENZA_B</td><td>24</td></tr>\n",
       "<tr><td>2018</td><td>1</td><td>6</td><td>1</td><td>1</td><td>01/06/2018</td><td>Manhattan</td><td>INFLUENZA_A</td><td>117</td></tr>\n",
       "<tr><td>2018</td><td>2</td><td>24</td><td>8</td><td>8</td><td>02/24/2018</td><td>Queens</td><td>INFLUENZA_A</td><td>762</td></tr>\n",
       "<tr><td>2018</td><td>5</td><td>12</td><td>19</td><td>19</td><td>05/12/2018</td><td>Bronx</td><td>INFLUENZA_UNSPECI...</td><td>0</td></tr>\n",
       "<tr><td>2018</td><td>4</td><td>28</td><td>17</td><td>17</td><td>04/28/2018</td><td>Brooklyn</td><td>INFLUENZA_A</td><td>19</td></tr>\n",
       "<tr><td>2018</td><td>3</td><td>10</td><td>10</td><td>10</td><td>03/10/2018</td><td>Manhattan</td><td>INFLUENZA_UNSPECI...</td><td>3</td></tr>\n",
       "<tr><td>2018</td><td>2</td><td>17</td><td>7</td><td>7</td><td>02/17/2018</td><td>Staten Island</td><td>INFLUENZA_UNSPECI...</td><td>1</td></tr>\n",
       "</table>\n"
      ],
      "text/plain": [
       "+----+-----+---+----------+--------+----------+-------------+--------------------+-----+\n",
       "|year|month|day|week_index|cdc_week|      date|      borough|             disease|cases|\n",
       "+----+-----+---+----------+--------+----------+-------------+--------------------+-----+\n",
       "|2018|    4|  7|        14|      14|04/07/2018|Staten Island|         INFLUENZA_B|   34|\n",
       "|2018|    4| 21|        16|      16|04/21/2018|     Brooklyn|INFLUENZA_UNSPECI...|    0|\n",
       "|2018|    4| 14|        15|      15|04/14/2018|        Bronx|         INFLUENZA_A|   31|\n",
       "|2018|    5| 12|        19|      19|05/12/2018|       Queens|         INFLUENZA_B|   24|\n",
       "|2018|    1|  6|         1|       1|01/06/2018|    Manhattan|         INFLUENZA_A|  117|\n",
       "|2018|    2| 24|         8|       8|02/24/2018|       Queens|         INFLUENZA_A|  762|\n",
       "|2018|    5| 12|        19|      19|05/12/2018|        Bronx|INFLUENZA_UNSPECI...|    0|\n",
       "|2018|    4| 28|        17|      17|04/28/2018|     Brooklyn|         INFLUENZA_A|   19|\n",
       "|2018|    3| 10|        10|      10|03/10/2018|    Manhattan|INFLUENZA_UNSPECI...|    3|\n",
       "|2018|    2| 17|         7|       7|02/17/2018|Staten Island|INFLUENZA_UNSPECI...|    1|\n",
       "+----+-----+---+----------+--------+----------+-------------+--------------------+-----+"
      ]
     },
     "execution_count": 20,
     "metadata": {},
     "output_type": "execute_result"
    }
   ],
   "source": [
    "flu_df.limit(5)"
   ]
  },
  {
   "cell_type": "code",
   "execution_count": 21,
   "metadata": {},
   "outputs": [],
   "source": [
    "# save the cleaned flu data\n",
    "flu_df.write.mode('overwrite').parquet('../data/curated/virals/flu/cases-by-week')"
   ]
  }
 ],
 "metadata": {
  "kernelspec": {
   "display_name": "Python 3.8.10 64-bit",
   "language": "python",
   "name": "python3"
  },
  "language_info": {
   "codemirror_mode": {
    "name": "ipython",
    "version": 3
   },
   "file_extension": ".py",
   "mimetype": "text/x-python",
   "name": "python",
   "nbconvert_exporter": "python",
   "pygments_lexer": "ipython3",
   "version": "3.8.10"
  },
  "orig_nbformat": 4,
  "vscode": {
   "interpreter": {
    "hash": "916dbcbb3f70747c44a77c7bcd40155683ae19c65e1c03b4aa3499c5328201f1"
   }
  }
 },
 "nbformat": 4,
 "nbformat_minor": 2
}
