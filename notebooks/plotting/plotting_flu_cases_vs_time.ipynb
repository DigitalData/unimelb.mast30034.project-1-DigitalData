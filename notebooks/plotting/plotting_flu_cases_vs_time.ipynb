{
 "cells": [
  {
   "cell_type": "markdown",
   "metadata": {},
   "source": [
    "### MAST30034: Applied Data Science Project 1\n",
    "---\n",
    "# Plotting: Influenza Case Rates Over TIme\n",
    "#### Xavier Travers (1178369)\n",
    "\n",
    "Title says it all."
   ]
  },
  {
   "cell_type": "code",
   "execution_count": 1,
   "metadata": {},
   "outputs": [],
   "source": [
    "# imports used throughout this notebook\n",
    "from pyspark.sql import functions as F\n",
    "import sys\n",
    "\n",
    "# add homemade helpers\n",
    "sys.path.insert(1, '../../scripts')\n",
    "import helpers.plot_helpers as ph\n",
    "\n",
    "# path where the data files are stored\n",
    "DATA_PATH = '../../data'"
   ]
  },
  {
   "cell_type": "code",
   "execution_count": 2,
   "metadata": {},
   "outputs": [
    {
     "name": "stdout",
     "output_type": "stream",
     "text": [
      "22/08/21 08:31:05 WARN Utils: Your hostname, Polaris resolves to a loopback address: 127.0.1.1; using 172.18.201.145 instead (on interface eth0)\n",
      "22/08/21 08:31:05 WARN Utils: Set SPARK_LOCAL_IP if you need to bind to another address\n"
     ]
    },
    {
     "name": "stderr",
     "output_type": "stream",
     "text": [
      "Setting default log level to \"WARN\".\n",
      "To adjust logging level use sc.setLogLevel(newLevel). For SparkR, use setLogLevel(newLevel).\n"
     ]
    },
    {
     "name": "stdout",
     "output_type": "stream",
     "text": [
      "22/08/21 08:31:06 WARN NativeCodeLoader: Unable to load native-hadoop library for your platform... using builtin-java classes where applicable\n",
      "22/08/21 08:31:07 WARN Utils: Service 'SparkUI' could not bind on port 4040. Attempting port 4041.\n",
      "22/08/21 08:31:07 WARN Utils: Service 'SparkUI' could not bind on port 4041. Attempting port 4042.\n",
      "22/08/21 08:31:07 WARN Utils: Service 'SparkUI' could not bind on port 4042. Attempting port 4043.\n",
      "22/08/21 08:31:07 WARN Utils: Service 'SparkUI' could not bind on port 4043. Attempting port 4044.\n"
     ]
    }
   ],
   "source": [
    "from pyspark.sql import SparkSession\n",
    "\n",
    "# Create a spark session (which will run spark jobs)\n",
    "spark = (\n",
    "    SparkSession.builder.appName('MAST30034 XT Project 1')\n",
    "    .config(\"spark.sql.session.timeZone\", \"Etc/UTC\")\n",
    "    .config('spark.sql.repl.eagerEval.enabled', True) \n",
    "    .config('spark.sql.parquet.cacheMetadata', 'true')\n",
    "    .config(\"spark.executor.memory\", \"2g\")\n",
    "    .config(\"spark.driver.memory\", \"4g\")\n",
    "    .getOrCreate()\n",
    ")"
   ]
  },
  {
   "cell_type": "code",
   "execution_count": 3,
   "metadata": {},
   "outputs": [
    {
     "data": {
      "text/html": [
       "<table border='1'>\n",
       "<tr><th>year</th><th>month</th><th>day</th><th>month_mmwr_index</th><th>week_index</th><th>us_format</th><th>week_ending</th><th>week_month</th><th>week_year</th><th>borough</th><th>__index_level_0__</th></tr>\n",
       "<tr><td>2019</td><td>12</td><td>29</td><td>1</td><td>1</td><td>12/29/2019</td><td>2020-01-04</td><td>1</td><td>2020</td><td>Bronx</td><td>0</td></tr>\n",
       "<tr><td>2019</td><td>12</td><td>30</td><td>1</td><td>1</td><td>12/30/2019</td><td>2020-01-04</td><td>1</td><td>2020</td><td>Bronx</td><td>1</td></tr>\n",
       "<tr><td>2019</td><td>12</td><td>31</td><td>1</td><td>1</td><td>12/31/2019</td><td>2020-01-04</td><td>1</td><td>2020</td><td>Bronx</td><td>2</td></tr>\n",
       "<tr><td>2020</td><td>1</td><td>1</td><td>1</td><td>1</td><td>01/01/2020</td><td>2020-01-04</td><td>1</td><td>2020</td><td>Bronx</td><td>3</td></tr>\n",
       "<tr><td>2020</td><td>1</td><td>2</td><td>1</td><td>1</td><td>01/02/2020</td><td>2020-01-04</td><td>1</td><td>2020</td><td>Bronx</td><td>4</td></tr>\n",
       "</table>\n"
      ],
      "text/plain": [
       "+----+-----+---+----------------+----------+----------+-----------+----------+---------+-------+-----------------+\n",
       "|year|month|day|month_mmwr_index|week_index| us_format|week_ending|week_month|week_year|borough|__index_level_0__|\n",
       "+----+-----+---+----------------+----------+----------+-----------+----------+---------+-------+-----------------+\n",
       "|2019|   12| 29|               1|         1|12/29/2019| 2020-01-04|         1|     2020|  Bronx|                0|\n",
       "|2019|   12| 30|               1|         1|12/30/2019| 2020-01-04|         1|     2020|  Bronx|                1|\n",
       "|2019|   12| 31|               1|         1|12/31/2019| 2020-01-04|         1|     2020|  Bronx|                2|\n",
       "|2020|    1|  1|               1|         1|01/01/2020| 2020-01-04|         1|     2020|  Bronx|                3|\n",
       "|2020|    1|  2|               1|         1|01/02/2020| 2020-01-04|         1|     2020|  Bronx|                4|\n",
       "+----+-----+---+----------------+----------+----------+-----------+----------+---------+-------+-----------------+"
      ]
     },
     "execution_count": 3,
     "metadata": {},
     "output_type": "execute_result"
    }
   ],
   "source": [
    "# read in the mmwr weeks dataset (to autofill zero values)\n",
    "mmwr_weeks_df = spark.read.parquet(f'{DATA_PATH}/raw/virals/mmwr_weeks.parquet')\n",
    "mmwr_weeks_df.limit(5)"
   ]
  },
  {
   "cell_type": "code",
   "execution_count": 4,
   "metadata": {},
   "outputs": [
    {
     "data": {
      "text/html": [
       "<table border='1'>\n",
       "<tr><th>week_year</th><th>week_month</th><th>week_ending</th><th>week_index</th><th>borough</th><th>population</th><th>tot_cases</th><th>tot_pc_cases</th><th>tot_p100k_cases</th></tr>\n",
       "<tr><td>2020</td><td>6</td><td>2020-06-06</td><td>23</td><td>Bronx</td><td>1466438.0</td><td>0</td><td>0.0</td><td>0.0</td></tr>\n",
       "<tr><td>2020</td><td>1</td><td>2020-01-18</td><td>3</td><td>Bronx</td><td>1466438.0</td><td>2331</td><td>0.00158956600960968</td><td>158.95660096096802</td></tr>\n",
       "<tr><td>2020</td><td>8</td><td>2020-08-08</td><td>32</td><td>Bronx</td><td>1466438.0</td><td>0</td><td>0.0</td><td>0.0</td></tr>\n",
       "<tr><td>2020</td><td>12</td><td>2020-12-26</td><td>52</td><td>Bronx</td><td>1466438.0</td><td>4</td><td>2.727698000188211...</td><td>0.2727698000188211</td></tr>\n",
       "<tr><td>2020</td><td>7</td><td>2020-08-01</td><td>31</td><td>Bronx</td><td>1466438.0</td><td>0</td><td>0.0</td><td>0.0</td></tr>\n",
       "</table>\n"
      ],
      "text/plain": [
       "+---------+----------+-----------+----------+-------+----------+---------+--------------------+------------------+\n",
       "|week_year|week_month|week_ending|week_index|borough|population|tot_cases|        tot_pc_cases|   tot_p100k_cases|\n",
       "+---------+----------+-----------+----------+-------+----------+---------+--------------------+------------------+\n",
       "|     2020|         6| 2020-06-06|        23|  Bronx| 1466438.0|        0|                 0.0|               0.0|\n",
       "|     2020|         1| 2020-01-18|         3|  Bronx| 1466438.0|     2331| 0.00158956600960968|158.95660096096802|\n",
       "|     2020|         8| 2020-08-08|        32|  Bronx| 1466438.0|        0|                 0.0|               0.0|\n",
       "|     2020|        12| 2020-12-26|        52|  Bronx| 1466438.0|        4|2.727698000188211...|0.2727698000188211|\n",
       "|     2020|         7| 2020-08-01|        31|  Bronx| 1466438.0|        0|                 0.0|               0.0|\n",
       "+---------+----------+-----------+----------+-------+----------+---------+--------------------+------------------+"
      ]
     },
     "execution_count": 4,
     "metadata": {},
     "output_type": "execute_result"
    }
   ],
   "source": [
    "# read in the aggregated covid data\n",
    "flu_df = spark.read.parquet(f'{DATA_PATH}/curated/virals/flu/aggregated/cases_by_week')\n",
    "flu_df.limit(5)"
   ]
  },
  {
   "cell_type": "code",
   "execution_count": 5,
   "metadata": {},
   "outputs": [],
   "source": [
    "# combine the stacked mmwr weeks data "
   ]
  },
  {
   "cell_type": "code",
   "execution_count": 6,
   "metadata": {},
   "outputs": [
    {
     "data": {
      "text/html": [
       "<table border='1'>\n",
       "<tr><th>week_year</th><th>week_month</th><th>week_ending</th><th>week_index</th><th>borough</th><th>population</th><th>tot_cases</th><th>tot_pc_cases</th><th>tot_p100k_cases</th></tr>\n",
       "<tr><td>2020</td><td>1</td><td>2020-01-04</td><td>1</td><td>Queens</td><td>2395791.0</td><td>1471</td><td>6.13993457693096E-4</td><td>61.39934576930959</td></tr>\n",
       "<tr><td>2020</td><td>1</td><td>2020-01-04</td><td>1</td><td>Bronx</td><td>1466438.0</td><td>1501</td><td>0.001023568674570...</td><td>102.35686745706262</td></tr>\n",
       "<tr><td>2020</td><td>1</td><td>2020-01-04</td><td>1</td><td>Staten Island</td><td>495522.0</td><td>186</td><td>3.753617397411215E-4</td><td>37.536173974112145</td></tr>\n",
       "<tr><td>2020</td><td>1</td><td>2020-01-04</td><td>1</td><td>Brooklyn</td><td>2727393.0</td><td>1485</td><td>5.444759886089023E-4</td><td>54.44759886089023</td></tr>\n",
       "<tr><td>2020</td><td>1</td><td>2020-01-04</td><td>1</td><td>Manhattan</td><td>1687834.0</td><td>700</td><td>4.147327284555234...</td><td>41.473272845552344</td></tr>\n",
       "<tr><td>2020</td><td>1</td><td>2020-01-11</td><td>2</td><td>Bronx</td><td>1466438.0</td><td>1626</td><td>0.001108809237076...</td><td>110.88092370765078</td></tr>\n",
       "<tr><td>2020</td><td>1</td><td>2020-01-11</td><td>2</td><td>Staten Island</td><td>495522.0</td><td>143</td><td>2.885845633493568...</td><td>28.858456334935685</td></tr>\n",
       "<tr><td>2020</td><td>1</td><td>2020-01-11</td><td>2</td><td>Queens</td><td>2395791.0</td><td>1821</td><td>7.600829955534519E-4</td><td>76.00829955534519</td></tr>\n",
       "<tr><td>2020</td><td>1</td><td>2020-01-11</td><td>2</td><td>Brooklyn</td><td>2727393.0</td><td>1815</td><td>6.65470652744214E-4</td><td>66.5470652744214</td></tr>\n",
       "<tr><td>2020</td><td>1</td><td>2020-01-11</td><td>2</td><td>Manhattan</td><td>1687834.0</td><td>813</td><td>4.816824403347722...</td><td>48.16824403347722</td></tr>\n",
       "<tr><td>2020</td><td>1</td><td>2020-01-18</td><td>3</td><td>Staten Island</td><td>495522.0</td><td>186</td><td>3.753617397411215E-4</td><td>37.536173974112145</td></tr>\n",
       "<tr><td>2020</td><td>1</td><td>2020-01-18</td><td>3</td><td>Bronx</td><td>1466438.0</td><td>2331</td><td>0.00158956600960968</td><td>158.95660096096802</td></tr>\n",
       "<tr><td>2020</td><td>1</td><td>2020-01-18</td><td>3</td><td>Queens</td><td>2395791.0</td><td>2117</td><td>8.836330047153529E-4</td><td>88.36330047153528</td></tr>\n",
       "<tr><td>2020</td><td>1</td><td>2020-01-18</td><td>3</td><td>Brooklyn</td><td>2727393.0</td><td>2149</td><td>7.879319188690445E-4</td><td>78.79319188690445</td></tr>\n",
       "<tr><td>2020</td><td>1</td><td>2020-01-18</td><td>3</td><td>Manhattan</td><td>1687834.0</td><td>933</td><td>5.527794794985762E-4</td><td>55.27794794985763</td></tr>\n",
       "<tr><td>2020</td><td>1</td><td>2020-01-25</td><td>4</td><td>Brooklyn</td><td>2727393.0</td><td>2713</td><td>9.947227993912136E-4</td><td>99.47227993912135</td></tr>\n",
       "<tr><td>2020</td><td>1</td><td>2020-01-25</td><td>4</td><td>Queens</td><td>2395791.0</td><td>2250</td><td>9.391470291022882E-4</td><td>93.91470291022881</td></tr>\n",
       "<tr><td>2020</td><td>1</td><td>2020-01-25</td><td>4</td><td>Bronx</td><td>1466438.0</td><td>2252</td><td>0.001535693974105...</td><td>153.56939741059628</td></tr>\n",
       "<tr><td>2020</td><td>1</td><td>2020-01-25</td><td>4</td><td>Staten Island</td><td>495522.0</td><td>201</td><td>4.056328477847603E-4</td><td>40.56328477847603</td></tr>\n",
       "<tr><td>2020</td><td>1</td><td>2020-01-25</td><td>4</td><td>Manhattan</td><td>1687834.0</td><td>891</td><td>5.278955157912449E-4</td><td>52.789551579124485</td></tr>\n",
       "</table>\n"
      ],
      "text/plain": [
       "+---------+----------+-----------+----------+-------------+----------+---------+--------------------+------------------+\n",
       "|week_year|week_month|week_ending|week_index|      borough|population|tot_cases|        tot_pc_cases|   tot_p100k_cases|\n",
       "+---------+----------+-----------+----------+-------------+----------+---------+--------------------+------------------+\n",
       "|     2020|         1| 2020-01-04|         1|       Queens| 2395791.0|     1471| 6.13993457693096E-4| 61.39934576930959|\n",
       "|     2020|         1| 2020-01-04|         1|        Bronx| 1466438.0|     1501|0.001023568674570...|102.35686745706262|\n",
       "|     2020|         1| 2020-01-04|         1|Staten Island|  495522.0|      186|3.753617397411215E-4|37.536173974112145|\n",
       "|     2020|         1| 2020-01-04|         1|     Brooklyn| 2727393.0|     1485|5.444759886089023E-4| 54.44759886089023|\n",
       "|     2020|         1| 2020-01-04|         1|    Manhattan| 1687834.0|      700|4.147327284555234...|41.473272845552344|\n",
       "|     2020|         1| 2020-01-11|         2|        Bronx| 1466438.0|     1626|0.001108809237076...|110.88092370765078|\n",
       "|     2020|         1| 2020-01-11|         2|Staten Island|  495522.0|      143|2.885845633493568...|28.858456334935685|\n",
       "|     2020|         1| 2020-01-11|         2|       Queens| 2395791.0|     1821|7.600829955534519E-4| 76.00829955534519|\n",
       "|     2020|         1| 2020-01-11|         2|     Brooklyn| 2727393.0|     1815| 6.65470652744214E-4|  66.5470652744214|\n",
       "|     2020|         1| 2020-01-11|         2|    Manhattan| 1687834.0|      813|4.816824403347722...| 48.16824403347722|\n",
       "|     2020|         1| 2020-01-18|         3|Staten Island|  495522.0|      186|3.753617397411215E-4|37.536173974112145|\n",
       "|     2020|         1| 2020-01-18|         3|        Bronx| 1466438.0|     2331| 0.00158956600960968|158.95660096096802|\n",
       "|     2020|         1| 2020-01-18|         3|       Queens| 2395791.0|     2117|8.836330047153529E-4| 88.36330047153528|\n",
       "|     2020|         1| 2020-01-18|         3|     Brooklyn| 2727393.0|     2149|7.879319188690445E-4| 78.79319188690445|\n",
       "|     2020|         1| 2020-01-18|         3|    Manhattan| 1687834.0|      933|5.527794794985762E-4| 55.27794794985763|\n",
       "|     2020|         1| 2020-01-25|         4|     Brooklyn| 2727393.0|     2713|9.947227993912136E-4| 99.47227993912135|\n",
       "|     2020|         1| 2020-01-25|         4|       Queens| 2395791.0|     2250|9.391470291022882E-4| 93.91470291022881|\n",
       "|     2020|         1| 2020-01-25|         4|        Bronx| 1466438.0|     2252|0.001535693974105...|153.56939741059628|\n",
       "|     2020|         1| 2020-01-25|         4|Staten Island|  495522.0|      201|4.056328477847603E-4| 40.56328477847603|\n",
       "|     2020|         1| 2020-01-25|         4|    Manhattan| 1687834.0|      891|5.278955157912449E-4|52.789551579124485|\n",
       "+---------+----------+-----------+----------+-------------+----------+---------+--------------------+------------------+"
      ]
     },
     "execution_count": 6,
     "metadata": {},
     "output_type": "execute_result"
    }
   ],
   "source": [
    "# check that this all worked correctly\n",
    "flu_df.sort('week_index').limit(20)"
   ]
  },
  {
   "cell_type": "code",
   "execution_count": 10,
   "metadata": {},
   "outputs": [
    {
     "data": {
      "image/png": "[encoded data removed]",
      "text/plain": [
       "<Figure size 432x288 with 1 Axes>"
      ]
     },
     "metadata": {
      "needs_background": "light"
     },
     "output_type": "display_data"
    }
   ],
   "source": [
    "# plot a time-series histogram to show how average weekly trips changes per week\n",
    "ph.time_series(flu_df.toPandas(), 'tot_p100k_cases',\n",
    "    ylabel = 'Weekly Influenza Cases Per 100k People')"
   ]
  }
 ],
 "metadata": {
  "kernelspec": {
   "display_name": "Python 3.8.10 64-bit",
   "language": "python",
   "name": "python3"
  },
  "language_info": {
   "codemirror_mode": {
    "name": "ipython",
    "version": 3
   },
   "file_extension": ".py",
   "mimetype": "text/x-python",
   "name": "python",
   "nbconvert_exporter": "python",
   "pygments_lexer": "ipython3",
   "version": "3.8.10"
  },
  "orig_nbformat": 4,
  "vscode": {
   "interpreter": {
    "hash": "916dbcbb3f70747c44a77c7bcd40155683ae19c65e1c03b4aa3499c5328201f1"
   }
  }
 },
 "nbformat": 4,
 "nbformat_minor": 2
}
